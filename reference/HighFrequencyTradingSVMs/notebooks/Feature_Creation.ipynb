{
 "cells": [
  {
   "cell_type": "markdown",
   "metadata": {},
   "source": [
    "# Feature Creation for GOOG/GOOGL Dataset\n",
    "\n",
    "The notebook will create the features used for the machine learning model. \n",
    "\n",
    "We will calculate four technical indicators (simple moving average, exponentially weighted moving average, money flow indices, and relative strength index) for each of the instruments GOOG and GOOGL. \n",
    "\n",
    "We will then find the spread between each of the percent change between these features for GOOG and GOOGL, as well as the spread between the price between each instrument. \n",
    "\n",
    "These spreads will be modelled with the Ornstein Uhlenbeck stochastic model. \n",
    "\n",
    "The residuals obtained from the stochastic model will then be calculated to a t-score. "
   ]
  },
  {
   "cell_type": "code",
   "execution_count": 1,
   "metadata": {},
   "outputs": [],
   "source": [
    "import pandas as pd\n",
    "import numpy as np\n",
    "import matplotlib.pyplot as plt\n",
    "\n",
    "from sklearn import preprocessing\n",
    "from sklearn.model_selection import TimeSeriesSplit\n",
    "\n",
    "import pickle\n",
    "\n",
    "from OU import OU\n",
    "\n",
    "%load_ext autoreload\n",
    "%autoreload 2"
   ]
  },
  {
   "cell_type": "code",
   "execution_count": 2,
   "metadata": {},
   "outputs": [],
   "source": [
    "df_goog = pd.read_csv('./data/df_goog.csv')\n",
    "df_googl = pd.read_csv('./data/df_googl.csv')"
   ]
  },
  {
   "cell_type": "markdown",
   "metadata": {},
   "source": [
    "# Creating Trading Signals\n",
    "\n",
    "In this section, we will generate some trading signals that we will feed in as features to our SVM classifier. All of these features of our instruments are based on almost the same fundamentals, thus should very similar if not identical. The trading signals are as follows: "
   ]
  },
  {
   "cell_type": "markdown",
   "metadata": {},
   "source": [
    "## Simple Moving Average\n",
    "\n",
    "$$SMA_{t} = \\sum_{i=t-length+1}^{t}Price_{i}$$\n",
    "\n",
    "The length parameter needs to be tuned based on how near term we want to profit after performing a trade in minutes. This parameter gives us historical temporal relationships within the current price. "
   ]
  },
  {
   "cell_type": "code",
   "execution_count": 3,
   "metadata": {},
   "outputs": [],
   "source": [
    "def sma(prices, window):\n",
    "    \"\"\"\n",
    "    Return the Simple Moving Average of the Prices\n",
    "    \n",
    "    :prices: pandas Series containing the prices of the ticker\n",
    "    :window: window size\n",
    "    \n",
    "    :ret: Moving average of prices\n",
    "    \"\"\"\n",
    "    return prices.rolling(window).mean()[window:]"
   ]
  },
  {
   "cell_type": "markdown",
   "metadata": {},
   "source": [
    "## Exponential Weighted Moving Average\n",
    "\n",
    "$$WMA_{t} = \\sum_{i=t-length+1}^{t}Weight_{i}Price_{i}$$\n",
    "\n",
    "$$Weight_{i} = \\frac{i-(t-length)}{\\sum_{j=t-length+1}^{t}j-(t-length)}$$\n",
    "\n",
    "Weighted moving average works the same way as the simple moving average, but it weighs more recent information heavier. "
   ]
  },
  {
   "cell_type": "code",
   "execution_count": 4,
   "metadata": {},
   "outputs": [],
   "source": [
    "def ewma(prices, window):\n",
    "    \"\"\"\n",
    "    Return the Weighted Moving Average of the Prices\n",
    "    \n",
    "    :prices: pandas Series containing the prices of the ticker\n",
    "    :window: window size\n",
    "    \n",
    "    :ret: Moving average of prices\n",
    "    \"\"\"                      \n",
    "    return pd.Series.ewm(prices, span=window).mean()[window:]"
   ]
  },
  {
   "cell_type": "markdown",
   "metadata": {},
   "source": [
    "## Money Flow Index\n",
    "\n",
    "$$MFI_t = 100 - (\\frac{100}{1+Money FLOW Ratio_t})$$\n",
    "\n",
    "$$Money FLOW Ratio_t = \\frac{length - Period Positive Money FLOW_{i}}{length - Period Negative Money FLOW_{i}}$$\n",
    "\n",
    "$$MoneyFLOW_{t} = VOLUME * \\frac{P_{HIGH} + P_{LOW} + P_{CLOSE}}{3}$$\n",
    "\n",
    "Where Money FLOW is positive if:\n",
    "\n",
    "$$\\frac{P_{HIGH}(t) + P_{LOW}(t) + P_{CLOSE}(t)}{3} > \\frac{P_{HIGH}(t-1) + P_{LOW}(t-1) + P_{CLOSE}(t-1)}{3}$$\n",
    "\n",
    "This feature is useful because it incorporates information about VOLUME."
   ]
  },
  {
   "cell_type": "code",
   "execution_count": 5,
   "metadata": {},
   "outputs": [],
   "source": [
    "def mfi(df, window):\n",
    "    \"\"\"\n",
    "    Calculates money fLOW and money fLOW indices. \n",
    "    \n",
    "    :df: ticker dataframe\n",
    "    :window: window size\n",
    "    \n",
    "    :ret: money fLOW indices of each point\n",
    "    \"\"\"    \n",
    "    mf = (df['HIGH'] + df['LOW'] + df['CLOSE']) / 3\n",
    "    i = 0\n",
    "    pos_mf = [0]\n",
    "    neg_mf = [0]\n",
    "    \n",
    "    # Find Positive Money FLOWs and Negative Money FLOWs\n",
    "    while i < df.index[-1]:\n",
    "        if mf[i + 1] > mf[i]:\n",
    "            pos_mf.append(mf[i + 1] * df.loc[i + 1, 'VOLUME'])\n",
    "            neg_mf.append(0)\n",
    "        else:\n",
    "            pos_mf.append(0)\n",
    "            neg_mf.append(mf[i + 1] * df.loc[i + 1, 'VOLUME'])\n",
    "        i = i + 1\n",
    "        \n",
    "    pos_mf = pd.Series(pos_mf)\n",
    "    neg_mf = pd.Series(neg_mf)\n",
    "    \n",
    "    # Apply a cumulative sum over every window\n",
    "    pos_sum = pd.Series(pos_mf.rolling(window).sum())\n",
    "    neg_sum = pd.Series(neg_mf.rolling(window).sum())\n",
    "    \n",
    "    mfr = (window - pos_sum)/(window-neg_sum)\n",
    "    mfi = abs(100 - (100 / (1+mfr)))\n",
    "    \n",
    "    return mfi[window:]"
   ]
  },
  {
   "cell_type": "markdown",
   "metadata": {},
   "source": [
    "## Relative Strength Index\n",
    "\n",
    "$$RSI_{t} = 100 - (\\frac{100}{1+RS_{t}})$$\n",
    "\n",
    "$$RS_{t} = \\frac{avg(length-period up CLOSEs)}{avg(length-period down CLOSEs)}$$\n",
    "\n",
    "RSI  is  good  at  indicating  whether  the  stock  is  in  over-\n",
    "sought or overbought condition.\n"
   ]
  },
  {
   "cell_type": "code",
   "execution_count": 6,
   "metadata": {},
   "outputs": [],
   "source": [
    "def rsi(df, window):\n",
    "    \"\"\"\n",
    "    Calculate Relative strength index. First we identify positive and negative closing periods, \n",
    "    and then sum over them separately. Then we find the ratio\n",
    "    \n",
    "    :df:         Ticker dataframe.\n",
    "    :window:     Window size. \n",
    "    \n",
    "    :ret: Series of RSIs.\n",
    "    \"\"\"\n",
    "    i = 0\n",
    "    pos_period = [0]\n",
    "    neg_period = [0]\n",
    "    \n",
    "    # Identify positive and negative closing periods\n",
    "    while i < df.index[-1]:\n",
    "        if df.at[i+1, 'CLOSE'] > df.at[i, 'CLOSE']:\n",
    "            pos_period.append(df.at[i+1, 'CLOSE'])\n",
    "            neg_period.append(0)\n",
    "        else:\n",
    "            pos_period.append(0)\n",
    "            neg_period.append(df.at[i, 'CLOSE'])\n",
    "        i = i + 1\n",
    "        \n",
    "    pos_period = pd.Series(pos_period)\n",
    "    neg_period = pd.Series(neg_period)\n",
    "    \n",
    "    # Apply rolling sum over all of our windows\n",
    "    pos_sum = pd.Series(pos_period.rolling(window).sum())\n",
    "    neg_sum = pd.Series(neg_period.rolling(window).sum())\n",
    "    \n",
    "    # Normalize with window length to ensure that we don't have 0 in the denominator\n",
    "    rs = (window - pos_sum)/(window-neg_sum)\n",
    "    rsi = abs(100 - (100 / (1+rs)))\n",
    "    \n",
    "    return rsi[window:]"
   ]
  },
  {
   "cell_type": "markdown",
   "metadata": {},
   "source": [
    "## Ornstein Uhlenbeck Process to model Residual Terms\n",
    "\n",
    "The canonical pairs trading model is as follows:\n",
    "\n",
    "$$\\frac{dA_t}{A_t} = \\alpha dt + \\beta\\frac{dB_t}{B_t} + dX_t$$\n",
    "\n",
    "where $A_t$ is the price of security $A$ at time $t$, $B_t$ is the price of security $B$ at time $t$,\n",
    "$X_t$ is the residual term, which has the mean-reverting property because mean-reverting\n",
    "spread is the basic assumption of pairs trading and the drift term, $\\alpha dt << \\beta\\frac{dB_t}{B_t}$, which is neglectable compared to the return of either security.  \n",
    "\n",
    "The above model shows that\n",
    "the stock price of the two securities is linear related. The $\\beta$ here  helps  solve  the  normalization  problem  since  the two stock prices may not fluctuate in the same range. Furthermore, $\\beta$\n",
    "may change over time because of change of some intrinsic characteristics of either company or change\n",
    "of overall stock market regime, however, in this project, we assume $\\beta$ is a constant term over the duration of the dataset.\n",
    "\n",
    "In this project, we will use ‘CLOSE’ - ‘OPEN’ as $dB_t$ and 'OPEN' as $B_t$. Same applies for $dA_t$ and $A_t$\n",
    "\n",
    "We  will  use  Ornstein-Uhlenbeck  process to model the residual term because the O-U process is a\n",
    "stochastic  process  such  that  the  object  modeled  by  the process  always  drifts  towards  its \n",
    "long-term  mean. The residual term, namely the spread, has very similar property according the assumption of pairs trading. The residual term $X_t$ from  the  above  spread  model  satisfies  the\n",
    "folLOWing stochastic differential equation:\n",
    "\n",
    "(Excerpt from http://cs229.stanford.edu/proj2015/028_report.pdf). "
   ]
  },
  {
   "cell_type": "code",
   "execution_count": 7,
   "metadata": {},
   "outputs": [],
   "source": [
    "def create_label_func(threshold=0.001, window=5):\n",
    "    \"\"\"\n",
    "    Given the spreads of residuals between our pair, label as 1 if the spread change exceeds \n",
    "    the threshold, and 0 otherwise. \n",
    "    \n",
    "    :residuals: spreads between the residuals of the pair\n",
    "    :window: how far in the future in minutes we want to evaluate our position on\n",
    "    :threshold: the percent change threshold that determines whether a trade is profitable or not. \n",
    "    \n",
    "    :ret: list of labels of 1 or -1.\n",
    "    \"\"\"\n",
    "    def create_labels(residuals):\n",
    "        min_val = residuals[::-1].rolling(window=window).min()[::-1]\n",
    "        min_val.iloc[-window:] = residuals.iloc[-window:]\n",
    "\n",
    "        a = (residuals-min_val) > threshold\n",
    "        labels = a.astype(int)\n",
    "        \n",
    "        return labels\n",
    "    \n",
    "    return create_labels"
   ]
  },
  {
   "cell_type": "markdown",
   "metadata": {},
   "source": [
    "# Feature Creation\n",
    "\n",
    "We are going to using a window size of 5 for the calculation of the features that incorporate past context (simple moving average, money flow indices, etc...). The reasoning for this particular number is that we want to capitalize on short term trends while still incorporating important information leading up to the present point in our featureset. "
   ]
  },
  {
   "cell_type": "code",
   "execution_count": 8,
   "metadata": {},
   "outputs": [],
   "source": [
    "feature_window = 5\n",
    "\n",
    "df_goog['sma'] = sma(df_goog['CLOSE'], feature_window).pct_change()\n",
    "df_googl['sma'] = sma(df_googl['CLOSE'], feature_window).pct_change()\n",
    "\n",
    "df_goog['ewma'] = ewma(df_goog['CLOSE'], feature_window).pct_change()\n",
    "df_googl['ewma'] = ewma(df_googl['CLOSE'], feature_window).pct_change()\n",
    "\n",
    "df_goog['mfi'] = mfi(df_goog, feature_window).pct_change()\n",
    "df_googl['mfi'] = mfi(df_googl, feature_window).pct_change()\n",
    "\n",
    "df_goog['rsi'] = rsi(df_goog, feature_window).pct_change()\n",
    "df_googl['rsi'] = rsi(df_googl, feature_window).pct_change()\n",
    "\n",
    "df_goog['price'] = df_goog['CLOSE'].pct_change()\n",
    "df_googl['price'] = df_googl['CLOSE'].pct_change()\n",
    "\n",
    "# Remove NaNs from rolling features (sma, mfi, rsi...) from dataset. \n",
    "df_gg = df_goog[feature_window+1:].reset_index(drop=True)\n",
    "df_ggl = df_googl[feature_window+1:].reset_index(drop=True)"
   ]
  },
  {
   "cell_type": "code",
   "execution_count": 9,
   "metadata": {},
   "outputs": [],
   "source": [
    "df_gg.to_csv('./data/df_gg_processed.csv')\n",
    "df_ggl.to_csv('./data/df_ggl_processed.csv')"
   ]
  },
  {
   "cell_type": "markdown",
   "metadata": {},
   "source": [
    "We need to label our dataset into two categories for binary classification. A label value of 1 means that there is a residual shift within the next 5 minutes that we can capitalize on. A label of 0 means that there does not exist such an opportunity in the next 5 minutes and that we should wait. "
   ]
  },
  {
   "cell_type": "code",
   "execution_count": 10,
   "metadata": {},
   "outputs": [],
   "source": [
    "def create_label_func(threshold=0.001, window=5):\n",
    "    \"\"\"\n",
    "    Given the spreads of residuals between our pair, label as 1 if the spread change exceeds \n",
    "    the threshold, and 0 otherwise. \n",
    "    \n",
    "    :residuals: spreads between the residuals of the pair\n",
    "    :window: how far in the future in minutes we want to evaluate our position on\n",
    "    :threshold: the percent change threshold that determines whether a trade is profitable or not. \n",
    "    \n",
    "    :ret: list of labels of 1 or -1.\n",
    "    \"\"\"\n",
    "    def create_labels(residuals):\n",
    "        min_val = residuals[::-1].rolling(window=window).min()[::-1]\n",
    "        min_val.iloc[-window:] = residuals.iloc[-window:]\n",
    "\n",
    "        a = (residuals-min_val) > threshold\n",
    "        labels = a.astype(int)\n",
    "        \n",
    "        return labels\n",
    "    \n",
    "    return create_labels"
   ]
  },
  {
   "cell_type": "markdown",
   "metadata": {},
   "source": [
    "Read the documentation of the OU class to gain a better idea of what is happening in this step. \n",
    "\n",
    "### Window Size\n",
    "We will use a window size of 5 for label creation. This window size determines how long we will potentially hold a position for before offloading it. We want to profit in the near future before our patience goes out. \n",
    "\n",
    "### Threshold\n",
    "This threshold determines how much of a shift of the price residual constitutes a positive label. This should be set so that the dataset is as close to balanced in the classes as possible in order to improve the SVM for learning purposes. "
   ]
  },
  {
   "cell_type": "code",
   "execution_count": 11,
   "metadata": {},
   "outputs": [],
   "source": [
    "# Set Label definition Hyperparameters. \n",
    "\n",
    "threshold=0.0005\n",
    "window=5\n",
    "\n",
    "label_func = create_label_func(threshold=threshold, window=window)"
   ]
  },
  {
   "cell_type": "code",
   "execution_count": 12,
   "metadata": {},
   "outputs": [],
   "source": [
    "# Calculates parameters according to mean-reverting OU model. \n",
    "OU_transform = OU(df_gg, df_ggl)"
   ]
  },
  {
   "cell_type": "markdown",
   "metadata": {},
   "source": [
    "This part determines how much information we want our model to incorporate as well as how often we should recalculate our model to incorporate current events. \n",
    "\n",
    "Example split_sliding(m_size=30000, e_size=10000)\n",
    "\n",
    "TRAIN: [0:30000] TEST: [30000:40000]\n",
    "\n",
    "TRAIN: [10000:40000] TEST: [40000:50000]\n",
    "\n",
    "TRAIN: [20000:50000] TEST: [50000:60000]\n",
    "\n",
    "TRAIN: [30000:60000] TEST: [60000:70000]\n",
    "\n",
    "TRAIN: [40000:70000] TEST: [70000:80000]\n",
    "\n",
    "\n",
    ":model_size:    How large of training model we want to use for sliding window cross-validation. \n",
    "                This parameter will be None if expanding window flag is set. \n",
    ":eval_size:     How large of a testing model we want our sliding window cross-validation fit will \n",
    "                be evaluated on. \n",
    "                This parameter will be none if expanding window flag is set. "
   ]
  },
  {
   "cell_type": "code",
   "execution_count": 13,
   "metadata": {},
   "outputs": [],
   "source": [
    "def create_label_func(threshold=0.001, window=5):\n",
    "    \"\"\"\n",
    "    Given the spreads of residuals between our pair, label as 1 if the spread change exceeds \n",
    "    the threshold, and 0 otherwise. \n",
    "    \n",
    "    :residuals: spreads between the residuals of the pair\n",
    "    :window: how far in the future in minutes we want to evaluate our position on\n",
    "    :threshold: the percent change threshold that determines whether a trade is profitable or not. \n",
    "    \n",
    "    :ret: list of labels of 1 or -1.\n",
    "    \"\"\"\n",
    "    def create_labels(residuals):\n",
    "        min_val = residuals[::-1].rolling(window=window).min()[::-1]\n",
    "        min_val.iloc[-window:] = residuals.iloc[-window:]\n",
    "\n",
    "        a = (residuals-min_val) > threshold\n",
    "        labels = a.astype(int)\n",
    "        \n",
    "        return labels\n",
    "    \n",
    "    return create_labels"
   ]
  },
  {
   "cell_type": "code",
   "execution_count": 14,
   "metadata": {},
   "outputs": [
    {
     "name": "stdout",
     "output_type": "stream",
     "text": [
      "Sliding Window Split Successful.\n"
     ]
    }
   ],
   "source": [
    "OU_transform.split_slide(m_size=2000, e_size=100)"
   ]
  },
  {
   "cell_type": "code",
   "execution_count": 15,
   "metadata": {},
   "outputs": [],
   "source": [
    "# Generates train-test folds and then scales the resulting t-score data between [0-1]\n",
    "info = OU_transform.get_splits(['price', 'sma', 'ewma', 'mfi', 'rsi'], label_func=label_func, scale=True)"
   ]
  },
  {
   "cell_type": "code",
   "execution_count": 24,
   "metadata": {},
   "outputs": [],
   "source": [
    "save_dir = \"./data/info.npy\"\n",
    "\n",
    "np.save(save_dir, info)"
   ]
  },
  {
   "cell_type": "markdown",
   "metadata": {},
   "source": [
    "With this threshold and window size, approximately 1/3 of the dataset has a positive label (indicating that we should trade to capture profit from a shift in residuals) and 2/3 of the data has a negative label (indicating that we should do nothing). "
   ]
  },
  {
   "cell_type": "code",
   "execution_count": 25,
   "metadata": {},
   "outputs": [
    {
     "data": {
      "text/plain": [
       "array([132718,  68729])"
      ]
     },
     "execution_count": 25,
     "metadata": {},
     "output_type": "execute_result"
    }
   ],
   "source": [
    "labels = np.hstack(np.array([fold['test']['labels'].values for fold in info]))\n",
    "np.bincount(labels)"
   ]
  },
  {
   "cell_type": "markdown",
   "metadata": {},
   "source": [
    "Inspection of each individual fold for the threshold and its residuals. "
   ]
  },
  {
   "cell_type": "code",
   "execution_count": 16,
   "metadata": {},
   "outputs": [],
   "source": [
    "plot = False"
   ]
  },
  {
   "cell_type": "code",
   "execution_count": 18,
   "metadata": {},
   "outputs": [],
   "source": [
    "if plot: \n",
    "    for fold, thing in enumerate(info):\n",
    "        train = thing['train']\n",
    "        test = thing['test']\n",
    "\n",
    "        train_residuals = train['residuals_fit_price']\n",
    "        test_residuals = test['residuals_transform_price']\n",
    "        window=5\n",
    "\n",
    "        min_val_train = train_residuals[::-1].rolling(window=window).min()[::-1]\n",
    "        min_val_test = test_residuals[::-1].rolling(window=window).min()[::-1]\n",
    "\n",
    "        fig = plt.figure(figsize=(8, 6))\n",
    "        ax1 = plt.subplot(1, 2, 1)\n",
    "        ax2 = plt.subplot(1, 2, 2, sharey=ax1)\n",
    "\n",
    "\n",
    "        ax1.boxplot((train_residuals - min_val_train)[:-window])\n",
    "        ax1.set_title('TRAIN')\n",
    "        ax1.axhline(threshold, linestyle='dashed', color='black', alpha=0.7)\n",
    "        ax1.grid()\n",
    "\n",
    "        ax2.boxplot((test_residuals - min_val_test)[:-window])\n",
    "        ax2.set_title('TEST')\n",
    "\n",
    "        ax2.grid()\n",
    "        ax2.axhline(threshold, linestyle='dashed', color='black', alpha=0.7)\n",
    "\n",
    "        plt.suptitle('Fold %d' % fold)\n",
    "        plt.savefig(\"./plots/fold_residual_%i\" % fold)\n",
    "        plt.close(fig)"
   ]
  },
  {
   "cell_type": "code",
   "execution_count": null,
   "metadata": {},
   "outputs": [
    {
     "name": "stderr",
     "output_type": "stream",
     "text": [
      "/home/alex/.conda/envs/analysis/lib/python3.6/site-packages/matplotlib/pyplot.py:514: RuntimeWarning: More than 20 figures have been opened. Figures created through the pyplot interface (`matplotlib.pyplot.figure`) are retained until explicitly closed and may consume too much memory. (To control this warning, see the rcParam `figure.max_open_warning`).\n",
      "  max_open_warning, RuntimeWarning)\n"
     ]
    }
   ],
   "source": [
    "img_directory = './plots/fold_plots/'\n",
    "import matplotlib.gridspec as gridspec\n",
    "from matplotlib.dates import DateFormatter\n",
    "\n",
    "if plot:\n",
    "    df_goog.TIMESTAMP = pd.to_datetime(df_goog.TIMESTAMP)\n",
    "    df_googl.TIMESTAMP = pd.to_datetime(df_googl.TIMESTAMP)\n",
    "    \n",
    "    for fold in range(len(info)):\n",
    "        train = info[fold]['train']['df']\n",
    "        test = info[fold]['test']['df']\n",
    "\n",
    "        df_view = df_goog.iloc[train.index[0]:test.index[-1]]\n",
    "        df_viewl = df_googl.iloc[train.index[0]:test.index[-1]]\n",
    "\n",
    "        fig = plt.figure(figsize=(20, 10))\n",
    "        gridspec.GridSpec(2, 2)\n",
    "\n",
    "        ax1 = plt.subplot2grid((2, 2), (0, 0))\n",
    "        train.plot(ax=ax1, alpha=0.5)\n",
    "        ax1.legend()\n",
    "        ax1.set_title('Training T-scores; Indices = %d - %d' % (train.index[0], train.index[-1]))\n",
    "        ax1.set_xlabel('Index')\n",
    "        ax1.set_ylabel('Absolute Value of T-score')\n",
    "        ax1.set_ylim([-5, 5])\n",
    "        ax1.set_xlim([train.index[0], train.index[-1]])\n",
    "        ax1.axhline(0, linestyle='dashed', alpha=0.5, color='black')\n",
    "        ax1.grid()\n",
    "\n",
    "        ax2 = plt.subplot2grid((2, 2), (1, 0))\n",
    "        test.plot(ax=ax2, alpha=0.5)\n",
    "        ax2.legend()\n",
    "        ax2.set_title('Testing T-scores; Indices = %d - %d' % (test.index[0], test.index[-1]))\n",
    "        ax2.set_xlabel('Index')\n",
    "        ax2.set_ylabel('Absolute Value of T-score')\n",
    "        ax2.set_ylim([-5, 5])\n",
    "        ax2.set_xlim([test.index[0], test.index[-1]])\n",
    "        ax2.axhline(0, linestyle='dashed', alpha=0.5, color='black')\n",
    "        ax2.grid()\n",
    "\n",
    "        ax3 = plt.subplot2grid((2, 2), (0, 1), colspan=1, rowspan=2)\n",
    "        ax3.plot(df_view[\"TIMESTAMP\"], df_view[\"CLOSE\"], color='red', alpha=0.5, label='GOOG',)\n",
    "        ax3.plot(df_viewl[\"TIMESTAMP\"], df_viewl[\"CLOSE\"], color='green', alpha=0.5, label='GOOGL')\n",
    "        ax3.set_title('GOOG vs. GOOGL intra-day closing prices')\n",
    "        ax3.set_xlabel('DATE')\n",
    "        ax3.set_ylabel('PRICE')\n",
    "        ax3.axvspan(df_view.loc[train.index[0]].TIMESTAMP, df_view.loc[train.index[-1]].TIMESTAMP, color='blue', alpha=0.1, label='train')\n",
    "        ax3.axvspan(df_view.loc[train.index[-1]].TIMESTAMP, df_view.loc[test.index[-2]].TIMESTAMP, color='orange', alpha=0.1, label='test')\n",
    "        ax3.set_xlim([df_view.loc[train.index[0]].TIMESTAMP, df_view.loc[test.index[-2]].TIMESTAMP])\n",
    "        ax3.grid()\n",
    "        ax3.legend()\n",
    "        plt.xticks(rotation=45)\n",
    "        plt.savefig(img_directory+'/fold%d' % fold)"
   ]
  }
 ],
 "metadata": {
  "kernelspec": {
   "display_name": "Python 3",
   "language": "python",
   "name": "python3"
  },
  "language_info": {
   "codemirror_mode": {
    "name": "ipython",
    "version": 3
   },
   "file_extension": ".py",
   "mimetype": "text/x-python",
   "name": "python",
   "nbconvert_exporter": "python",
   "pygments_lexer": "ipython3",
   "version": "3.6.7"
  }
 },
 "nbformat": 4,
 "nbformat_minor": 2
}
