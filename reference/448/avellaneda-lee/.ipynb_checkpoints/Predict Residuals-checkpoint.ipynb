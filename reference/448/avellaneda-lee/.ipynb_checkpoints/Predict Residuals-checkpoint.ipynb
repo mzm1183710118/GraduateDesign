{
 "cells": [
  {
   "cell_type": "code",
   "execution_count": 61,
   "metadata": {
    "collapsed": true
   },
   "outputs": [],
   "source": [
    "import pandas as pd\n",
    "import numpy as np\n",
    "import keras \n",
    "import tensorflow as tf\n",
    "import matplotlib.pyplot as plt\n",
    "from sklearn.linear_model import LinearRegression\n",
    "from statsmodels.tsa.ar_model import AR\n",
    "\n",
    "import matplotlib.pyplot as plt\n",
    "import math\n",
    "from keras.models import Sequential\n",
    "from keras.layers import Dense\n",
    "from keras.layers import LSTM\n",
    "from sklearn.preprocessing import MinMaxScaler\n",
    "from sklearn.metrics import mean_squared_error"
   ]
  },
  {
   "cell_type": "markdown",
   "metadata": {},
   "source": [
    "# Calculate Log Returns from Midprice data"
   ]
  },
  {
   "cell_type": "code",
   "execution_count": 14,
   "metadata": {
    "collapsed": true
   },
   "outputs": [],
   "source": [
    "stock1 = 'FB'\n",
    "stock2 = 'GOOG'"
   ]
  },
  {
   "cell_type": "code",
   "execution_count": 39,
   "metadata": {
    "collapsed": true
   },
   "outputs": [],
   "source": [
    "data = pd.read_csv('tech_stock_data.csv')\n",
    "data = data.loc[0:23399,] # get 1 day"
   ]
  },
  {
   "cell_type": "code",
   "execution_count": 41,
   "metadata": {
    "collapsed": true
   },
   "outputs": [],
   "source": [
    "def regress(returns1,returns2):\n",
    "    x = np.asarray(returns1).reshape(-1,1)\n",
    "    y = np.asarray(returns2).reshape(-1,1)\n",
    "    model = LinearRegression()\n",
    "    model.fit(x,y)\n",
    "    a = model.intercept_[0]\n",
    "    b = model.coef_[0,0]\n",
    "    residuals = y-model.predict(x)\n",
    "    return residuals, a,b\n",
    "\n",
    "def returns(midprices):\n",
    "    return np.diff(midprices, axis=-1)/midprices[:-1]"
   ]
  },
  {
   "cell_type": "code",
   "execution_count": 50,
   "metadata": {
    "collapsed": true,
    "scrolled": true
   },
   "outputs": [],
   "source": [
    "l1 = list(data[stock1])\n",
    "l2 = list(data[stock2])\n",
    "dataset = regress(l1,l2)[0]"
   ]
  },
  {
   "cell_type": "markdown",
   "metadata": {},
   "source": [
    "# Split into Train/Val/Test"
   ]
  },
  {
   "cell_type": "code",
   "execution_count": 90,
   "metadata": {},
   "outputs": [
    {
     "name": "stdout",
     "output_type": "stream",
     "text": [
      "(15678, 2340, 5382)\n"
     ]
    }
   ],
   "source": [
    "# split into train and test sets\n",
    "train_size = int(len(dataset) * 0.67)\n",
    "val_size = int(len(dataset) * 0.10)\n",
    "test_size = len(dataset) - train_size - val_size\n",
    "\n",
    "train, val, test = dataset[0:train_size,:],dataset[train_size:train_size+val_size,:],  dataset[train_size+val_size:len(dataset),:]\n",
    "print(len(train), len(val), len(test))\n",
    "\n",
    "# convert an array of values into a dataset matrix\n",
    "def create_dataset(dataset, look_back=10):\n",
    "    dataX, dataY = [], []\n",
    "    for i in range(len(dataset)-look_back-1):\n",
    "        a = dataset[i:(i+look_back), 0]\n",
    "        dataX.append(a)\n",
    "        dataY.append(dataset[i + look_back, 0])\n",
    "    return np.array(dataX), np.array(dataY)"
   ]
  },
  {
   "cell_type": "code",
   "execution_count": 91,
   "metadata": {
    "collapsed": true
   },
   "outputs": [],
   "source": [
    "# reshape into X=t and Y=t+1\n",
    "look_back = 10\n",
    "trainX, trainY = create_dataset(train, look_back)\n",
    "valX, valY = create_dataset(val, look_back)\n",
    "testX, testY = create_dataset(test, look_back)\n",
    "\n",
    "# reshape input to be [samples, time steps, features]\n",
    "trainX = np.reshape(trainX, (trainX.shape[0], 1, trainX.shape[1]))\n",
    "testX = np.reshape(testX, (testX.shape[0], 1, testX.shape[1]))\n",
    "valX = np.reshape(valX, (valX.shape[0], 1, valX.shape[1]))"
   ]
  },
  {
   "cell_type": "markdown",
   "metadata": {},
   "source": [
    "# RNN architecture"
   ]
  },
  {
   "cell_type": "code",
   "execution_count": 92,
   "metadata": {},
   "outputs": [
    {
     "name": "stdout",
     "output_type": "stream",
     "text": [
      "Train on 15667 samples, validate on 2329 samples\n",
      "Epoch 1/25\n",
      " - 1s - loss: 0.1299 - val_loss: 0.0072\n",
      "Epoch 2/25\n",
      " - 0s - loss: 0.0134 - val_loss: 0.0057\n",
      "Epoch 3/25\n",
      " - 0s - loss: 0.0098 - val_loss: 0.0048\n",
      "Epoch 4/25\n",
      " - 0s - loss: 0.0080 - val_loss: 0.0043\n",
      "Epoch 5/25\n",
      " - 0s - loss: 0.0071 - val_loss: 0.0039\n",
      "Epoch 6/25\n",
      " - 0s - loss: 0.0065 - val_loss: 0.0036\n",
      "Epoch 7/25\n",
      " - 0s - loss: 0.0059 - val_loss: 0.0033\n",
      "Epoch 8/25\n",
      " - 0s - loss: 0.0054 - val_loss: 0.0031\n",
      "Epoch 9/25\n",
      " - 0s - loss: 0.0049 - val_loss: 0.0028\n",
      "Epoch 10/25\n",
      " - 0s - loss: 0.0045 - val_loss: 0.0027\n",
      "Epoch 11/25\n",
      " - 0s - loss: 0.0042 - val_loss: 0.0025\n",
      "Epoch 12/25\n",
      " - 0s - loss: 0.0039 - val_loss: 0.0024\n",
      "Epoch 13/25\n",
      " - 0s - loss: 0.0037 - val_loss: 0.0023\n",
      "Epoch 14/25\n",
      " - 0s - loss: 0.0036 - val_loss: 0.0023\n",
      "Epoch 15/25\n",
      " - 0s - loss: 0.0035 - val_loss: 0.0022\n",
      "Epoch 16/25\n",
      " - 0s - loss: 0.0033 - val_loss: 0.0021\n",
      "Epoch 17/25\n",
      " - 0s - loss: 0.0033 - val_loss: 0.0021\n",
      "Epoch 18/25\n",
      " - 0s - loss: 0.0032 - val_loss: 0.0021\n",
      "Epoch 19/25\n",
      " - 0s - loss: 0.0031 - val_loss: 0.0020\n",
      "Epoch 20/25\n",
      " - 0s - loss: 0.0031 - val_loss: 0.0020\n",
      "Epoch 21/25\n",
      " - 0s - loss: 0.0030 - val_loss: 0.0020\n",
      "Epoch 22/25\n",
      " - 0s - loss: 0.0030 - val_loss: 0.0020\n",
      "Epoch 23/25\n",
      " - 0s - loss: 0.0029 - val_loss: 0.0019\n",
      "Epoch 24/25\n",
      " - 0s - loss: 0.0029 - val_loss: 0.0019\n",
      "Epoch 25/25\n",
      " - 0s - loss: 0.0029 - val_loss: 0.0019\n"
     ]
    },
    {
     "data": {
      "text/plain": [
       "<keras.callbacks.History at 0x7f424ccb3ad0>"
      ]
     },
     "execution_count": 92,
     "metadata": {},
     "output_type": "execute_result"
    }
   ],
   "source": [
    "# create and fit the LSTM network\n",
    "model = Sequential()\n",
    "model.add(LSTM(25, input_shape=(1, look_back)))\n",
    "model.add(Dense(1))\n",
    "model.compile(loss='mean_squared_error', optimizer='adam')\n",
    "model.fit(trainX, trainY, validation_data=([valX, valY]), epochs=25, batch_size=128, verbose=2)"
   ]
  },
  {
   "cell_type": "code",
   "execution_count": 103,
   "metadata": {},
   "outputs": [
    {
     "name": "stdout",
     "output_type": "stream",
     "text": [
      "Train MSE: 0.00281413402904\n",
      "Val MSE: 0.00190058531745\n",
      "Test MSE: 0.00198767835095\n"
     ]
    }
   ],
   "source": [
    "# make predictions\n",
    "import sklearn\n",
    "testPredict = model.predict(testX)\n",
    "test_mse = sklearn.metrics.mean_squared_error(testY, testPredict)\n",
    "train_mse = sklearn.metrics.mean_squared_error(trainY, model.predict(trainX))\n",
    "val_mse = sklearn.metrics.mean_squared_error(valY, model.predict(valX))\n",
    "\n",
    "print('Train MSE: {}'.format(train_mse))\n",
    "print('Val MSE: {}'.format(val_mse))\n",
    "print('Test MSE: {}'.format(test_mse))"
   ]
  },
  {
   "cell_type": "code",
   "execution_count": 99,
   "metadata": {},
   "outputs": [
    {
     "data": {
      "text/plain": [
       "array([[-0.38952255],\n",
       "       [-0.34877542],\n",
       "       [-0.3363887 ],\n",
       "       ...,\n",
       "       [-1.9237403 ],\n",
       "       [-1.8996367 ],\n",
       "       [-1.8669881 ]], dtype=float32)"
      ]
     },
     "execution_count": 99,
     "metadata": {},
     "output_type": "execute_result"
    }
   ],
   "source": [
    "testPredict"
   ]
  },
  {
   "cell_type": "code",
   "execution_count": 100,
   "metadata": {},
   "outputs": [
    {
     "data": {
      "image/png": "[encoded data removed]",
      "text/plain": [
       "<matplotlib.figure.Figure at 0x7f424c4616d0>"
      ]
     },
     "metadata": {},
     "output_type": "display_data"
    }
   ],
   "source": [
    "plt.plot(testPredict)\n",
    "plt.plot(testY)\n",
    "plt.show()"
   ]
  },
  {
   "cell_type": "code",
   "execution_count": 101,
   "metadata": {
    "scrolled": true
   },
   "outputs": [
    {
     "data": {
      "text/plain": [
       "array([[-0.38952255],\n",
       "       [-0.34877542],\n",
       "       [-0.3363887 ],\n",
       "       ...,\n",
       "       [-1.9237403 ],\n",
       "       [-1.8996367 ],\n",
       "       [-1.8669881 ]], dtype=float32)"
      ]
     },
     "execution_count": 101,
     "metadata": {},
     "output_type": "execute_result"
    }
   ],
   "source": [
    "testPredict"
   ]
  },
  {
   "cell_type": "code",
   "execution_count": 102,
   "metadata": {},
   "outputs": [
    {
     "data": {
      "text/plain": [
       "array([-0.32628809, -0.32628809, -0.4680379 , ..., -1.90978771,\n",
       "       -1.88066261, -1.89153752])"
      ]
     },
     "execution_count": 102,
     "metadata": {},
     "output_type": "execute_result"
    }
   ],
   "source": [
    "testY"
   ]
  },
  {
   "cell_type": "code",
   "execution_count": null,
   "metadata": {
    "collapsed": true
   },
   "outputs": [],
   "source": []
  }
 ],
 "metadata": {
  "kernelspec": {
   "display_name": "Python 2",
   "language": "python",
   "name": "python2"
  },
  "language_info": {
   "codemirror_mode": {
    "name": "ipython",
    "version": 2
   },
   "file_extension": ".py",
   "mimetype": "text/x-python",
   "name": "python",
   "nbconvert_exporter": "python",
   "pygments_lexer": "ipython2",
   "version": "2.7.14"
  }
 },
 "nbformat": 4,
 "nbformat_minor": 2
}
