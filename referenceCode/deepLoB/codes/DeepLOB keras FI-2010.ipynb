{
 "cells": [
  {
   "cell_type": "markdown",
   "metadata": {},
   "source": [
    "## Replicate - DeepLOB: Deep Convolutional Neural Networks for Limit Order Books\n",
    "(Paper authors: Zihao Zhang, Stefan Zohren, Stephen Roberts)\n",
    "\n",
    "Dataset source: https://drive.google.com/drive/folders/1Xen3aRid9ZZhFqJRgEMyETNazk02cNmv?usp=sharing"
   ]
  },
  {
   "cell_type": "code",
   "execution_count": 22,
   "metadata": {},
   "outputs": [],
   "source": [
    "# import libraries\n",
    "import pandas as pd\n",
    "import numpy as np\n",
    "from matplotlib import pyplot as plt\n",
    "\n",
    "from keras.utils import np_utils\n",
    "from keras.models import Model\n",
    "from keras.optimizers import Adam\n",
    "from keras.layers import Input, Conv2D, LeakyReLU, MaxPooling2D, concatenate, LSTM, Reshape, Dense\n",
    "from keras.callbacks import EarlyStopping"
   ]
  },
  {
   "cell_type": "code",
   "execution_count": 27,
   "metadata": {},
   "outputs": [],
   "source": [
    "# # set random seed\n",
    "\n",
    "# from tensorflow import set_random_seed\n",
    "# set_random_seed(10)"
   ]
  },
  {
   "cell_type": "markdown",
   "metadata": {},
   "source": [
    "# Data preparation\n",
    "\n",
    "The first 40 columns of the FI-2010 dataset are 10 levels ask and bid information for a limit order book and we only use these 40 features in our network. The last 5 columns of the FI-2010 dataset are the labels with different prediction horizons. "
   ]
  },
  {
   "cell_type": "code",
   "execution_count": 2,
   "metadata": {},
   "outputs": [],
   "source": [
    "train_fi = np.loadtxt('./data/Train_Dst_NoAuction_DecPre_CF_6.txt')\n",
    "\n",
    "test_fi_1 = np.loadtxt('./data/Test_Dst_NoAuction_DecPre_CF_6.txt')\n",
    "test_fi_2 = np.loadtxt('./data/Test_Dst_NoAuction_DecPre_CF_7.txt')\n",
    "test_fi_3 = np.loadtxt('./data/Test_Dst_NoAuction_DecPre_CF_8.txt')\n",
    "test_fi_4 = np.loadtxt('./data/Test_Dst_NoAuction_DecPre_CF_9.txt')\n",
    "test_fi = np.hstack((test_fi_1, test_fi_2, test_fi_3,test_fi_4))"
   ]
  },
  {
   "cell_type": "code",
   "execution_count": 4,
   "metadata": {},
   "outputs": [],
   "source": [
    "def extract_x_y_data(data, timestamp_per_sample):\n",
    "    data_x = np.array(data[:40, :].T)\n",
    "    data_y = np.array(data[-5:, :].T)\n",
    "    [N, P_x] = data_x.shape\n",
    "#     P_y = data_y.shape[1]\n",
    "    \n",
    "    x = np.zeros([(N-timestamp_per_sample+1), timestamp_per_sample, P_x])\n",
    "    \n",
    "    for i in range(N-timestamp_per_sample+1):\n",
    "        x[i] = data_x[i:(i+timestamp_per_sample), :]\n",
    "        \n",
    "    x = x.reshape(x.shape + (1,))\n",
    "        \n",
    "    y = data_y[(timestamp_per_sample-1):]\n",
    "    y = y[:,3] - 1\n",
    "    y = np_utils.to_categorical(y, 3)\n",
    "    \n",
    "    return x, y\n",
    "\n",
    "train_fi_x, train_fi_y = extract_x_y_data(train_fi, timestamp_per_sample=100)\n",
    "test_fi_x, test_fi_y = extract_x_y_data(test_fi, timestamp_per_sample=100)"
   ]
  },
  {
   "cell_type": "code",
   "execution_count": 5,
   "metadata": {},
   "outputs": [
    {
     "data": {
      "text/plain": [
       "(217305, 100, 40, 1)"
      ]
     },
     "execution_count": 5,
     "metadata": {},
     "output_type": "execute_result"
    }
   ],
   "source": [
    "train_fi_x.shape"
   ]
  },
  {
   "cell_type": "code",
   "execution_count": 6,
   "metadata": {},
   "outputs": [
    {
     "data": {
      "text/plain": [
       "(217305, 3)"
      ]
     },
     "execution_count": 6,
     "metadata": {},
     "output_type": "execute_result"
    }
   ],
   "source": [
    "train_fi_y.shape"
   ]
  },
  {
   "cell_type": "code",
   "execution_count": 7,
   "metadata": {},
   "outputs": [
    {
     "data": {
      "text/plain": [
       "(176834, 100, 40, 1)"
      ]
     },
     "execution_count": 7,
     "metadata": {},
     "output_type": "execute_result"
    }
   ],
   "source": [
    "test_fi_x.shape"
   ]
  },
  {
   "cell_type": "code",
   "execution_count": 8,
   "metadata": {},
   "outputs": [
    {
     "data": {
      "text/plain": [
       "(176834, 3)"
      ]
     },
     "execution_count": 8,
     "metadata": {},
     "output_type": "execute_result"
    }
   ],
   "source": [
    "test_fi_y.shape"
   ]
  },
  {
   "cell_type": "code",
   "execution_count": 21,
   "metadata": {},
   "outputs": [],
   "source": [
    "train_fi_x2, train_fi_y2, test_fi_x2, test_fi_y2 = train_fi_x[:30000,:,:,:], train_fi_y[:30000,:], test_fi_x[:3000,:], test_fi_y[:3000,:]"
   ]
  },
  {
   "cell_type": "code",
   "execution_count": 22,
   "metadata": {},
   "outputs": [],
   "source": [
    "train_fi_x3, train_fi_y3, test_fi_x3, test_fi_y3 = train_fi_x[:100000,:,:,:], train_fi_y[:100000,:], test_fi_x[:20000,:], test_fi_y[:20000,:]"
   ]
  },
  {
   "cell_type": "code",
   "execution_count": null,
   "metadata": {},
   "outputs": [],
   "source": []
  },
  {
   "cell_type": "code",
   "execution_count": 10,
   "metadata": {},
   "outputs": [],
   "source": [
    "# trainX_CNN2, trainY_CNN2, testX_CNN2, testY_CNN2 = trainX_CNN[:10000,:,:,:], trainY_CNN[:10000,:], testX_CNN[:1000,:], testY_CNN[:1000,:]"
   ]
  },
  {
   "cell_type": "code",
   "execution_count": 11,
   "metadata": {},
   "outputs": [],
   "source": [
    "# trainX_CNN3, trainY_CNN3, testX_CNN3, testY_CNN3 = trainX_CNN[10000:20000,:,:,:], trainY_CNN[10000:20000,:], testX_CNN[1000:2000,:], testY_CNN[1000:2000,:]"
   ]
  },
  {
   "cell_type": "markdown",
   "metadata": {},
   "source": [
    "#### Hypter Parameters"
   ]
  },
  {
   "cell_type": "code",
   "execution_count": 12,
   "metadata": {},
   "outputs": [],
   "source": [
    "lookback_timestep = 100\n",
    "feature_num = 40\n",
    "\n",
    "#Conv param\n",
    "conv_filter_num = 16\n",
    "\n",
    "#Inception module param\n",
    "inception_num = 32\n",
    "\n",
    "#LSTM param\n",
    "LSTM_num = 64\n",
    "\n",
    "#Activation param\n",
    "leaky_relu_alpha = 0.01\n"
   ]
  },
  {
   "cell_type": "markdown",
   "metadata": {},
   "source": [
    "#### Training Hyper Params"
   ]
  },
  {
   "cell_type": "code",
   "execution_count": 13,
   "metadata": {},
   "outputs": [],
   "source": [
    "# categorical crossentropy loss\n",
    "loss = 'categorical_crossentropy'\n",
    "\n",
    "# ADAM is used\n",
    "learning_rate = 0.01\n",
    "adam_epsilon = 1\n",
    "optimizer = Adam(lr=learning_rate, epsilon=1)\n",
    "\n",
    "# accuracy is used for stopping training\n",
    "metrics = ['accuracy']\n",
    "\n",
    "#max epoch num is not specified in paper, use 120 because paper mentions training stops at about 100 epochs\n",
    "num_epoch = 120\n",
    "#stop training when validation accuracy does not improve for 20 epochs\n",
    "stop_epoch_num = 20\n",
    "#mini-batch size 32 from paper\n",
    "batch_size = 32\n"
   ]
  },
  {
   "cell_type": "markdown",
   "metadata": {},
   "source": [
    "#### Inception module\n",
    "\n",
    "we split the input into a small set of lowerdimensional representations by using 1 × 1 convolutions, transform the representations by a set of filters, here 3 × 1 and 5 × 1, and then merge the outputs. A max-pooling layer is used inside the Inception Module, with stride 1 and zero padding. “Inception@32” represents one module and indicates all convolutional layers have 32 filters in this module, and the approach is depicted schematically in Figure 4"
   ]
  },
  {
   "cell_type": "code",
   "execution_count": 14,
   "metadata": {},
   "outputs": [],
   "source": [
    "\n",
    "def initiate_DeepLOB_model(lookback_timestep, feature_num, conv_filter_num, inception_num, LSTM_num, leaky_relu_alpha,\n",
    "                          loss, optimizer, metrics):\n",
    "    \n",
    "    input_tensor = Input(shape=(lookback_timestep, feature_num, 1))\n",
    "    \n",
    "    # Conv block1\n",
    "    print(input_tensor.shape)\n",
    "    conv_layer1 = Conv2D(conv_filter_num, (1,2), strides=(1, 2))(input_tensor)\n",
    "    print(conv_layer1.shape)\n",
    "    conv_layer1 =LeakyReLU(alpha=leaky_relu_alpha)(conv_layer1)\n",
    "    print(conv_layer1.shape)\n",
    "    conv_layer1 = Conv2D(conv_filter_num, (4,1), padding='same')(conv_layer1)\n",
    "    conv_first1 = LeakyReLU(alpha=leaky_relu_alpha)(conv_layer1)\n",
    "    print(conv_layer1.shape)\n",
    "    conv_layer1 = Conv2D(conv_filter_num, (4,1), padding='same')(conv_layer1)\n",
    "    conv_layer1 = LeakyReLU(alpha=leaky_relu_alpha)(conv_layer1)\n",
    "    print(conv_layer1.shape)\n",
    "\n",
    "    # Conv block2\n",
    "    conv_layer2 = Conv2D(conv_filter_num, (1,2), strides=(1, 2))(conv_layer1)\n",
    "    conv_layer2 = LeakyReLU(alpha=leaky_relu_alpha)(conv_layer2)\n",
    "    print(conv_layer2.shape)\n",
    "    conv_layer2 = Conv2D(conv_filter_num, (4,1), padding='same')(conv_layer2)\n",
    "    conv_layer2 = LeakyReLU(alpha=leaky_relu_alpha)(conv_layer2)\n",
    "    print(conv_layer2.shape)\n",
    "    conv_layer2 = Conv2D(conv_filter_num, (4,1), padding='same')(conv_layer2)\n",
    "    conv_layer2 = LeakyReLU(alpha=leaky_relu_alpha)(conv_layer2)\n",
    "    print(conv_layer2.shape)\n",
    "\n",
    "    # Conv block3\n",
    "    conv_layer3 = Conv2D(conv_filter_num, (1,10))(conv_layer2)\n",
    "    conv_layer3 = LeakyReLU(alpha=leaky_relu_alpha)(conv_layer3)\n",
    "    print(conv_layer3.shape)\n",
    "    conv_layer3 = Conv2D(conv_filter_num, (4,1), padding='same')(conv_layer3)\n",
    "    conv_layer3 = LeakyReLU(alpha=leaky_relu_alpha)(conv_layer3)\n",
    "    print(conv_layer3.shape)\n",
    "    conv_layer3 = Conv2D(conv_filter_num, (4,1), padding='same')(conv_layer3)\n",
    "    conv_layer3 = LeakyReLU(alpha=leaky_relu_alpha)(conv_layer3)\n",
    "    print(conv_layer3.shape)\n",
    "    \n",
    "    # Inception module\n",
    "    inception_module1 = Conv2D(inception_num, (1,1), padding='same')(conv_layer3)\n",
    "    inception_module1 = LeakyReLU(alpha=leaky_relu_alpha)(inception_module1)\n",
    "    print(inception_module1.shape)\n",
    "    inception_module1 = Conv2D(inception_num, (3,1), padding='same')(inception_module1)\n",
    "    inception_module1 = LeakyReLU(alpha=leaky_relu_alpha)(inception_module1)\n",
    "    print(inception_module1.shape)\n",
    "\n",
    "    inception_module2 = Conv2D(inception_num, (1,1), padding='same')(conv_layer3)\n",
    "    inception_module2 = LeakyReLU(alpha=leaky_relu_alpha)(inception_module2)\n",
    "    print(inception_module2.shape)\n",
    "    inception_module2 = Conv2D(inception_num, (5,1), padding='same')(inception_module2)\n",
    "    inception_module2 = LeakyReLU(alpha=leaky_relu_alpha)(inception_module2)\n",
    "    print(inception_module2.shape)\n",
    "\n",
    "    inception_module3 = MaxPooling2D((3,1), strides=(1,1), padding='same')(conv_layer3)\n",
    "    print(inception_module3.shape)\n",
    "    inception_module3 = Conv2D(inception_num, (1,1), padding='same')(inception_module3)\n",
    "    print(inception_module3.shape)\n",
    "    inception_module3 = LeakyReLU(alpha=leaky_relu_alpha)(inception_module3)\n",
    "    print(inception_module3.shape)\n",
    "    \n",
    "    inception_module_final = concatenate([inception_module1, inception_module2, inception_module3], axis=3)\n",
    "    print(inception_module_final.shape)\n",
    "    inception_module_final = Reshape((inception_module_final.shape[1], inception_module_final.shape[3]))(inception_module_final)\n",
    "    print(inception_module_final.shape)\n",
    "\n",
    "    # LSTM\n",
    "    LSTM_output = LSTM(LSTM_num)(inception_module_final)\n",
    "    print(LSTM_output.shape)\n",
    "\n",
    "    # Fully Connected Layer with softmax activation function for output\n",
    "    model_output = Dense(3, activation='softmax')(LSTM_output)\n",
    "    print(model_output.shape)\n",
    "    \n",
    "    DeepLOB_model = Model(inputs=input_tensor, outputs= model_output)  \n",
    "    \n",
    "    DeepLOB_model.compile(optimizer=optimizer, loss=loss, metrics=metrics)\n",
    "\n",
    "    return DeepLOB_model\n"
   ]
  },
  {
   "cell_type": "code",
   "execution_count": 15,
   "metadata": {},
   "outputs": [
    {
     "name": "stdout",
     "output_type": "stream",
     "text": [
      "(None, 100, 40, 1)\n",
      "(None, 100, 20, 16)\n",
      "(None, 100, 20, 16)\n",
      "(None, 100, 20, 16)\n",
      "(None, 100, 20, 16)\n",
      "(None, 100, 10, 16)\n",
      "(None, 100, 10, 16)\n",
      "(None, 100, 10, 16)\n",
      "(None, 100, 1, 16)\n",
      "(None, 100, 1, 16)\n",
      "(None, 100, 1, 16)\n",
      "(None, 100, 1, 32)\n",
      "(None, 100, 1, 32)\n",
      "(None, 100, 1, 32)\n",
      "(None, 100, 1, 32)\n",
      "(None, 100, 1, 16)\n",
      "(None, 100, 1, 32)\n",
      "(None, 100, 1, 32)\n",
      "(None, 100, 1, 96)\n",
      "(None, 100, 96)\n",
      "(None, 64)\n",
      "(None, 3)\n"
     ]
    }
   ],
   "source": [
    "DeepLOB_model = initiate_DeepLOB_model(lookback_timestep, feature_num, conv_filter_num, inception_num, LSTM_num, leaky_relu_alpha,\n",
    "                          loss, optimizer, metrics)"
   ]
  },
  {
   "cell_type": "markdown",
   "metadata": {},
   "source": [
    "# Model Training"
   ]
  },
  {
   "cell_type": "code",
   "execution_count": 26,
   "metadata": {},
   "outputs": [
    {
     "name": "stdout",
     "output_type": "stream",
     "text": [
      "Epoch 1/120\n",
      "3125/3125 - 499s - loss: 1.0867 - accuracy: 0.3696 - val_loss: 1.0705 - val_accuracy: 0.3851\n",
      "Epoch 2/120\n",
      "3125/3125 - 475s - loss: 1.0854 - accuracy: 0.3712 - val_loss: 1.0669 - val_accuracy: 0.3920\n",
      "Epoch 3/120\n",
      "3125/3125 - 510s - loss: 1.0842 - accuracy: 0.3688 - val_loss: 1.0623 - val_accuracy: 0.3920\n",
      "Epoch 4/120\n",
      "3125/3125 - 496s - loss: 1.0839 - accuracy: 0.3699 - val_loss: 1.0638 - val_accuracy: 0.3965\n",
      "Epoch 5/120\n",
      "3125/3125 - 490s - loss: 1.0834 - accuracy: 0.3706 - val_loss: 1.0654 - val_accuracy: 0.3966\n",
      "Epoch 6/120\n",
      "3125/3125 - 469s - loss: 1.0833 - accuracy: 0.3683 - val_loss: 1.0604 - val_accuracy: 0.3972\n",
      "Epoch 7/120\n",
      "3125/3125 - 256s - loss: 1.0828 - accuracy: 0.3692 - val_loss: 1.0633 - val_accuracy: 0.3927\n",
      "Epoch 8/120\n",
      "3125/3125 - 252s - loss: 1.0817 - accuracy: 0.3750 - val_loss: 1.0569 - val_accuracy: 0.3957\n",
      "Epoch 9/120\n",
      "3125/3125 - 249s - loss: 1.0753 - accuracy: 0.3866 - val_loss: 1.0524 - val_accuracy: 0.4059\n",
      "Epoch 10/120\n",
      "3125/3125 - 249s - loss: 1.0707 - accuracy: 0.3883 - val_loss: 1.0522 - val_accuracy: 0.4137\n",
      "Epoch 11/120\n",
      "3125/3125 - 250s - loss: 1.0689 - accuracy: 0.3895 - val_loss: 1.0464 - val_accuracy: 0.4074\n",
      "Epoch 12/120\n",
      "3125/3125 - 250s - loss: 1.0670 - accuracy: 0.3928 - val_loss: 1.0506 - val_accuracy: 0.4161\n",
      "Epoch 13/120\n",
      "3125/3125 - 250s - loss: 1.0640 - accuracy: 0.3924 - val_loss: 1.0516 - val_accuracy: 0.4080\n",
      "Epoch 14/120\n",
      "3125/3125 - 252s - loss: 1.0595 - accuracy: 0.4000 - val_loss: 1.0419 - val_accuracy: 0.4231\n",
      "Epoch 15/120\n",
      "3125/3125 - 250s - loss: 1.0546 - accuracy: 0.4060 - val_loss: 1.0538 - val_accuracy: 0.4056\n",
      "Epoch 16/120\n",
      "3125/3125 - 251s - loss: 1.0497 - accuracy: 0.4112 - val_loss: 1.0475 - val_accuracy: 0.4222\n",
      "Epoch 17/120\n",
      "3125/3125 - 255s - loss: 1.0452 - accuracy: 0.4187 - val_loss: 1.0434 - val_accuracy: 0.4115\n",
      "Epoch 18/120\n",
      "3125/3125 - 254s - loss: 1.0413 - accuracy: 0.4214 - val_loss: 1.0417 - val_accuracy: 0.4126\n",
      "Epoch 19/120\n",
      "3125/3125 - 253s - loss: 1.0350 - accuracy: 0.4304 - val_loss: 1.0538 - val_accuracy: 0.4184\n",
      "Epoch 20/120\n",
      "3125/3125 - 258s - loss: 1.0298 - accuracy: 0.4408 - val_loss: 1.0451 - val_accuracy: 0.4146\n",
      "Epoch 21/120\n",
      "3125/3125 - 255s - loss: 1.0230 - accuracy: 0.4542 - val_loss: 1.0476 - val_accuracy: 0.4383\n",
      "Epoch 22/120\n",
      "3125/3125 - 252s - loss: 1.0148 - accuracy: 0.4680 - val_loss: 1.0706 - val_accuracy: 0.4207\n",
      "Epoch 23/120\n",
      "3125/3125 - 250s - loss: 1.0055 - accuracy: 0.4798 - val_loss: 1.0538 - val_accuracy: 0.4439\n",
      "Epoch 24/120\n",
      "3125/3125 - 251s - loss: 0.9909 - accuracy: 0.4966 - val_loss: 1.0605 - val_accuracy: 0.4584\n",
      "Epoch 25/120\n",
      "3125/3125 - 250s - loss: 0.9665 - accuracy: 0.5201 - val_loss: 1.0163 - val_accuracy: 0.4859\n",
      "Epoch 26/120\n",
      "3125/3125 - 250s - loss: 0.9458 - accuracy: 0.5393 - val_loss: 0.9829 - val_accuracy: 0.5084\n",
      "Epoch 27/120\n",
      "3125/3125 - 250s - loss: 0.9316 - accuracy: 0.5496 - val_loss: 0.9779 - val_accuracy: 0.5099\n",
      "Epoch 28/120\n",
      "3125/3125 - 250s - loss: 0.9178 - accuracy: 0.5579 - val_loss: 0.9493 - val_accuracy: 0.5373\n",
      "Epoch 29/120\n",
      "3125/3125 - 250s - loss: 0.9048 - accuracy: 0.5670 - val_loss: 0.9506 - val_accuracy: 0.5362\n",
      "Epoch 30/120\n",
      "3125/3125 - 249s - loss: 0.8930 - accuracy: 0.5752 - val_loss: 0.9357 - val_accuracy: 0.5483\n",
      "Epoch 31/120\n",
      "3125/3125 - 250s - loss: 0.8776 - accuracy: 0.5846 - val_loss: 0.9558 - val_accuracy: 0.5386\n",
      "Epoch 32/120\n",
      "3125/3125 - 250s - loss: 0.8593 - accuracy: 0.5972 - val_loss: 0.9081 - val_accuracy: 0.5753\n",
      "Epoch 33/120\n",
      "3125/3125 - 250s - loss: 0.8279 - accuracy: 0.6187 - val_loss: 0.8746 - val_accuracy: 0.5987\n",
      "Epoch 34/120\n",
      "3125/3125 - 250s - loss: 0.7811 - accuracy: 0.6476 - val_loss: 0.8404 - val_accuracy: 0.6216\n",
      "Epoch 35/120\n",
      "3125/3125 - 250s - loss: 0.7474 - accuracy: 0.6689 - val_loss: 0.7901 - val_accuracy: 0.6481\n",
      "Epoch 36/120\n",
      "3125/3125 - 252s - loss: 0.7225 - accuracy: 0.6840 - val_loss: 0.7628 - val_accuracy: 0.6625\n",
      "Epoch 37/120\n",
      "3125/3125 - 252s - loss: 0.7025 - accuracy: 0.6956 - val_loss: 0.7520 - val_accuracy: 0.6748\n",
      "Epoch 38/120\n",
      "3125/3125 - 252s - loss: 0.6847 - accuracy: 0.7054 - val_loss: 0.7404 - val_accuracy: 0.6835\n",
      "Epoch 39/120\n",
      "3125/3125 - 336s - loss: 0.6710 - accuracy: 0.7141 - val_loss: 0.7188 - val_accuracy: 0.6933\n",
      "Epoch 40/120\n",
      "3125/3125 - 393s - loss: 0.6589 - accuracy: 0.7191 - val_loss: 0.7267 - val_accuracy: 0.6931\n",
      "Epoch 41/120\n",
      "3125/3125 - 399s - loss: 0.6506 - accuracy: 0.7248 - val_loss: 0.6940 - val_accuracy: 0.7059\n",
      "Epoch 42/120\n",
      "3125/3125 - 421s - loss: 0.6416 - accuracy: 0.7288 - val_loss: 0.7154 - val_accuracy: 0.6999\n",
      "Epoch 43/120\n",
      "3125/3125 - 468s - loss: 0.6343 - accuracy: 0.7319 - val_loss: 0.6922 - val_accuracy: 0.7043\n",
      "Epoch 44/120\n",
      "3125/3125 - 454s - loss: 0.6274 - accuracy: 0.7374 - val_loss: 0.6865 - val_accuracy: 0.7135\n",
      "Epoch 45/120\n",
      "3125/3125 - 488s - loss: 0.6199 - accuracy: 0.7402 - val_loss: 0.6885 - val_accuracy: 0.7109\n",
      "Epoch 46/120\n",
      "3125/3125 - 498s - loss: 0.6134 - accuracy: 0.7438 - val_loss: 0.6729 - val_accuracy: 0.7207\n",
      "Epoch 47/120\n",
      "3125/3125 - 496s - loss: 0.6071 - accuracy: 0.7480 - val_loss: 0.6769 - val_accuracy: 0.7196\n",
      "Epoch 48/120\n",
      "3125/3125 - 478s - loss: 0.6004 - accuracy: 0.7506 - val_loss: 0.6725 - val_accuracy: 0.7196\n",
      "Epoch 49/120\n",
      "3125/3125 - 450s - loss: 0.5943 - accuracy: 0.7532 - val_loss: 0.6725 - val_accuracy: 0.7221\n",
      "Epoch 50/120\n",
      "3125/3125 - 458s - loss: 0.5902 - accuracy: 0.7550 - val_loss: 0.6975 - val_accuracy: 0.7075\n",
      "Epoch 51/120\n",
      "3125/3125 - 432s - loss: 0.5851 - accuracy: 0.7582 - val_loss: 0.6757 - val_accuracy: 0.7229\n",
      "Epoch 52/120\n",
      "3125/3125 - 431s - loss: 0.5799 - accuracy: 0.7607 - val_loss: 0.6606 - val_accuracy: 0.7227\n",
      "Epoch 53/120\n",
      "3125/3125 - 426s - loss: 0.5751 - accuracy: 0.7633 - val_loss: 0.6597 - val_accuracy: 0.7276\n",
      "Epoch 54/120\n",
      "3125/3125 - 433s - loss: 0.5707 - accuracy: 0.7641 - val_loss: 0.6824 - val_accuracy: 0.7203\n",
      "Epoch 55/120\n",
      "3125/3125 - 374s - loss: 0.5660 - accuracy: 0.7673 - val_loss: 0.6750 - val_accuracy: 0.7258\n",
      "Epoch 56/120\n",
      "3125/3125 - 291s - loss: 0.5627 - accuracy: 0.7687 - val_loss: 0.6703 - val_accuracy: 0.7225\n",
      "Epoch 57/120\n",
      "3125/3125 - 283s - loss: 0.5586 - accuracy: 0.7712 - val_loss: 0.6702 - val_accuracy: 0.7265\n",
      "Epoch 58/120\n",
      "3125/3125 - 289s - loss: 0.5553 - accuracy: 0.7727 - val_loss: 0.6845 - val_accuracy: 0.7164\n",
      "Epoch 59/120\n",
      "3125/3125 - 394s - loss: 0.5509 - accuracy: 0.7732 - val_loss: 0.6636 - val_accuracy: 0.7265\n",
      "Epoch 60/120\n",
      "3125/3125 - 412s - loss: 0.5474 - accuracy: 0.7753 - val_loss: 0.6673 - val_accuracy: 0.7296\n",
      "Epoch 61/120\n",
      "3125/3125 - 471s - loss: 0.5442 - accuracy: 0.7765 - val_loss: 0.6766 - val_accuracy: 0.7250\n",
      "Epoch 62/120\n",
      "3125/3125 - 507s - loss: 0.5401 - accuracy: 0.7786 - val_loss: 0.6707 - val_accuracy: 0.7275\n",
      "Epoch 63/120\n",
      "3125/3125 - 500s - loss: 0.5370 - accuracy: 0.7804 - val_loss: 0.6792 - val_accuracy: 0.7269\n",
      "Epoch 64/120\n",
      "3125/3125 - 496s - loss: 0.5332 - accuracy: 0.7829 - val_loss: 0.6610 - val_accuracy: 0.7300\n",
      "Epoch 65/120\n",
      "3125/3125 - 519s - loss: 0.5295 - accuracy: 0.7844 - val_loss: 0.6806 - val_accuracy: 0.7269\n",
      "Epoch 66/120\n",
      "3125/3125 - 419s - loss: 0.5278 - accuracy: 0.7860 - val_loss: 0.6765 - val_accuracy: 0.7270\n",
      "Epoch 67/120\n",
      "3125/3125 - 241s - loss: 0.5238 - accuracy: 0.7869 - val_loss: 0.6896 - val_accuracy: 0.7206\n",
      "Epoch 68/120\n",
      "3125/3125 - 245s - loss: 0.5194 - accuracy: 0.7905 - val_loss: 0.6802 - val_accuracy: 0.7204\n",
      "Epoch 69/120\n",
      "3125/3125 - 249s - loss: 0.5164 - accuracy: 0.7900 - val_loss: 0.6738 - val_accuracy: 0.7264\n",
      "Epoch 70/120\n",
      "3125/3125 - 248s - loss: 0.5142 - accuracy: 0.7906 - val_loss: 0.6800 - val_accuracy: 0.7228\n",
      "Epoch 71/120\n",
      "3125/3125 - 245s - loss: 0.5095 - accuracy: 0.7933 - val_loss: 0.6830 - val_accuracy: 0.7291\n",
      "Epoch 72/120\n",
      "3125/3125 - 246s - loss: 0.5056 - accuracy: 0.7955 - val_loss: 0.6836 - val_accuracy: 0.7294\n",
      "Epoch 73/120\n",
      "3125/3125 - 257s - loss: 0.5041 - accuracy: 0.7964 - val_loss: 0.6791 - val_accuracy: 0.7217\n",
      "Epoch 74/120\n",
      "3125/3125 - 246s - loss: 0.4999 - accuracy: 0.7975 - val_loss: 0.7011 - val_accuracy: 0.7182\n",
      "Epoch 75/120\n",
      "3125/3125 - 250s - loss: 0.4972 - accuracy: 0.7989 - val_loss: 0.6988 - val_accuracy: 0.7199\n",
      "Epoch 76/120\n",
      "3125/3125 - 233s - loss: 0.4927 - accuracy: 0.8009 - val_loss: 0.6957 - val_accuracy: 0.7200\n",
      "Epoch 77/120\n",
      "3125/3125 - 236s - loss: 0.4913 - accuracy: 0.8013 - val_loss: 0.7171 - val_accuracy: 0.7145\n",
      "Epoch 78/120\n",
      "3125/3125 - 244s - loss: 0.4877 - accuracy: 0.8030 - val_loss: 0.6952 - val_accuracy: 0.7217\n"
     ]
    },
    {
     "name": "stdout",
     "output_type": "stream",
     "text": [
      "Epoch 79/120\n",
      "3125/3125 - 253s - loss: 0.4835 - accuracy: 0.8059 - val_loss: 0.7040 - val_accuracy: 0.7222\n",
      "Epoch 80/120\n",
      "3125/3125 - 252s - loss: 0.4839 - accuracy: 0.8049 - val_loss: 0.7348 - val_accuracy: 0.7129\n",
      "Epoch 81/120\n",
      "3125/3125 - 248s - loss: 0.4783 - accuracy: 0.8081 - val_loss: 0.7111 - val_accuracy: 0.7183\n",
      "Epoch 82/120\n",
      "3125/3125 - 247s - loss: 0.4756 - accuracy: 0.8086 - val_loss: 0.7028 - val_accuracy: 0.7246\n",
      "Epoch 83/120\n",
      "3125/3125 - 244s - loss: 0.4710 - accuracy: 0.8109 - val_loss: 0.7291 - val_accuracy: 0.7108\n",
      "Epoch 84/120\n",
      "3125/3125 - 254s - loss: 0.4684 - accuracy: 0.8128 - val_loss: 0.7136 - val_accuracy: 0.7218\n",
      "Epoch 00084: early stopping\n"
     ]
    },
    {
     "data": {
      "text/plain": [
       "<tensorflow.python.keras.callbacks.History at 0x2d102e976d0>"
      ]
     },
     "execution_count": 26,
     "metadata": {},
     "output_type": "execute_result"
    }
   ],
   "source": [
    "es = EarlyStopping(monitor='val_accuracy', mode='max', patience = stop_epoch_num, verbose=1)\n",
    "DeepLOB_model.fit(train_fi_x3, train_fi_y3, epochs=num_epoch, batch_size=batch_size, verbose=2, validation_data=(test_fi_x3, test_fi_y3), callbacks = [es])"
   ]
  },
  {
   "cell_type": "markdown",
   "metadata": {},
   "source": [
    "## Visualizations"
   ]
  },
  {
   "cell_type": "code",
   "execution_count": 57,
   "metadata": {},
   "outputs": [],
   "source": [
    "file1 = open('./output/FI-2010-training-process.txt', 'r')\n",
    "fi_lines = file1.readlines()\n",
    "loss_value_list = []\n",
    "accuracy_value_list = []\n",
    "val_loss_value_list = []\n",
    "val_accuracy_value_list = []\n",
    "for i in range(len(fi_lines)):\n",
    "    line = fi_lines[i]\n",
    "    str_list = np.array(line.split(' '))\n",
    "    if i % 2 == 1:\n",
    "        loss_i = np.where(str_list == 'loss')[0][0]\n",
    "        loss_value = float(str_list[loss_i + 1])\n",
    "        accuracy_i = np.where(str_list == 'accuracy')[0][0]\n",
    "        accuracy_value = float(str_list[accuracy_i + 1])\n",
    "        val_loss_i = np.where(str_list == 'val_loss')[0][0]\n",
    "        val_loss_value = float(str_list[val_loss_i + 1])\n",
    "        val_accuracy_i = np.where(str_list == 'val_accuracy')[0][0]\n",
    "        val_accuracy_value = float(str_list[val_accuracy_i + 1])\n",
    "\n",
    "        loss_value_list.append(loss_value)\n",
    "        accuracy_value_list.append(accuracy_value)\n",
    "        val_loss_value_list.append(val_loss_value)\n",
    "        val_accuracy_value_list.append(val_accuracy_value)\n",
    "epoch_list = list(range(1,len(loss_value_list)+1))"
   ]
  },
  {
   "cell_type": "code",
   "execution_count": 58,
   "metadata": {},
   "outputs": [
    {
     "data": {
      "image/png": "[encoded data removed]",
      "text/plain": [
       "<Figure size 432x288 with 1 Axes>"
      ]
     },
     "metadata": {
      "needs_background": "light"
     },
     "output_type": "display_data"
    }
   ],
   "source": [
    "# multiple line plots\n",
    "plt.plot(epoch_list, loss_value_list, color='skyblue', linewidth=2)\n",
    "plt.plot(epoch_list, val_loss_value_list, color='green', linewidth=2)\n",
    "\n",
    "plt.xlabel('Epoch')\n",
    "plt.ylabel('Loss')\n",
    "plt.title('Loss vs Epoch Graph')\n",
    "plt.legend(['Training Loss', 'Validation Loss'])\n",
    "\n",
    "plt.savefig('./output/FI-2010 Loss Graph.png')\n",
    "plt.show()"
   ]
  },
  {
   "cell_type": "code",
   "execution_count": 59,
   "metadata": {},
   "outputs": [
    {
     "data": {
      "image/png": "[encoded data removed]",
      "text/plain": [
       "<Figure size 432x288 with 1 Axes>"
      ]
     },
     "metadata": {
      "needs_background": "light"
     },
     "output_type": "display_data"
    }
   ],
   "source": [
    "# multiple line plots\n",
    "plt.plot(epoch_list, accuracy_value_list, color='skyblue', linewidth=2)\n",
    "plt.plot(epoch_list, val_accuracy_value_list, color='green', linewidth=2)\n",
    "\n",
    "plt.xlabel('Epoch')\n",
    "plt.ylabel('Accuracy')\n",
    "plt.title('Accuracy vs Epoch Graph')\n",
    "plt.legend(['Training Accuracy', 'Validation Accuracy'])\n",
    "\n",
    "plt.savefig('./output/FI-2010 Accuracy Graph.png')\n",
    "plt.show()"
   ]
  },
  {
   "cell_type": "code",
   "execution_count": 60,
   "metadata": {},
   "outputs": [],
   "source": [
    "JNJ_lines = open('./output/JNJ-training-process.txt', 'r').readlines()\n",
    "loss_value_list = []\n",
    "accuracy_value_list = []\n",
    "val_loss_value_list = []\n",
    "val_accuracy_value_list = []\n",
    "for i in range(len(JNJ_lines)):\n",
    "    line = JNJ_lines[i]\n",
    "    str_list = np.array(line.split(' '))\n",
    "    if i % 2 == 1:\n",
    "        loss_i = np.where(str_list == 'loss:')[0][0]\n",
    "        loss_value = float(str_list[loss_i + 1])\n",
    "        accuracy_i = np.where(str_list == 'accuracy:')[0][0]\n",
    "        accuracy_value = float(str_list[accuracy_i + 1])\n",
    "        val_loss_i = np.where(str_list == 'val_loss:')[0][0]\n",
    "        val_loss_value = float(str_list[val_loss_i + 1])\n",
    "        val_accuracy_i = np.where(str_list == 'val_accuracy:')[0][0]\n",
    "        val_accuracy_value = float(str_list[val_accuracy_i + 1])\n",
    "\n",
    "        loss_value_list.append(loss_value)\n",
    "        accuracy_value_list.append(accuracy_value)\n",
    "        val_loss_value_list.append(val_loss_value)\n",
    "        val_accuracy_value_list.append(val_accuracy_value)\n",
    "epoch_list = list(range(1,len(loss_value_list)+1))"
   ]
  },
  {
   "cell_type": "code",
   "execution_count": 61,
   "metadata": {},
   "outputs": [
    {
     "data": {
      "image/png": "[encoded data removed]",
      "text/plain": [
       "<Figure size 432x288 with 1 Axes>"
      ]
     },
     "metadata": {
      "needs_background": "light"
     },
     "output_type": "display_data"
    }
   ],
   "source": [
    "# multiple line plots\n",
    "plt.plot(epoch_list, loss_value_list, color='skyblue', linewidth=2)\n",
    "plt.plot(epoch_list, val_loss_value_list, color='green', linewidth=2)\n",
    "\n",
    "plt.xlabel('Epoch')\n",
    "plt.ylabel('Loss')\n",
    "plt.title('Loss vs Epoch Graph')\n",
    "plt.legend(['Training Loss', 'Validation Loss'])\n",
    "\n",
    "plt.savefig('./output/JNJ Loss Graph.png')\n",
    "plt.show()"
   ]
  },
  {
   "cell_type": "code",
   "execution_count": 62,
   "metadata": {},
   "outputs": [
    {
     "data": {
      "image/png": "[encoded data removed]",
      "text/plain": [
       "<Figure size 432x288 with 1 Axes>"
      ]
     },
     "metadata": {
      "needs_background": "light"
     },
     "output_type": "display_data"
    }
   ],
   "source": [
    "# multiple line plots\n",
    "plt.plot(epoch_list, accuracy_value_list, color='skyblue', linewidth=2)\n",
    "plt.plot(epoch_list, val_accuracy_value_list, color='green', linewidth=2)\n",
    "\n",
    "plt.xlabel('Epoch')\n",
    "plt.ylabel('Accuracy')\n",
    "plt.title('Accuracy vs Epoch Graph')\n",
    "plt.legend(['Training Accuracy', 'Validation Accuracy'])\n",
    "\n",
    "plt.savefig('./output/JNJ Accuracy Graph.png')\n",
    "plt.show()"
   ]
  },
  {
   "cell_type": "code",
   "execution_count": null,
   "metadata": {},
   "outputs": [],
   "source": []
  }
 ],
 "metadata": {
  "kernelspec": {
   "display_name": "Python 3",
   "language": "python",
   "name": "python3"
  },
  "language_info": {
   "codemirror_mode": {
    "name": "ipython",
    "version": 3
   },
   "file_extension": ".py",
   "mimetype": "text/x-python",
   "name": "python",
   "nbconvert_exporter": "python",
   "pygments_lexer": "ipython3",
   "version": "3.8.5"
  }
 },
 "nbformat": 4,
 "nbformat_minor": 2
}
