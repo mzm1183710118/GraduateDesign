{
 "cells": [
  {
   "cell_type": "code",
   "execution_count": 11,
   "metadata": {},
   "outputs": [],
   "source": [
    "# load packages\n",
    "import pandas as pd\n",
    "import seaborn as sns\n",
    "# import pickle\n",
    "import numpy as np\n",
    "import matplotlib.pyplot as plt\n",
    "from tqdm import tqdm \n",
    "import math\n",
    "# from sklearn.metrics import accuracy_score, classification_report, confusion_matrix\n",
    "import utils.prepareDataCSV as prepare\n",
    "import utils.baselineModels as baseline\n",
    "import utils.train as train\n",
    "import utils.plot as p\n",
    "\n",
    "import torch\n",
    "import torch.nn.functional as F\n",
    "# from torch.utils import data\n",
    "from torchinfo import summary\n",
    "import torch.nn as nn\n",
    "# import torch.optim as optim\n",
    "%matplotlib inline"
   ]
  },
  {
   "cell_type": "code",
   "execution_count": 2,
   "metadata": {},
   "outputs": [
    {
     "name": "stdout",
     "output_type": "stream",
     "text": [
      "cuda:0\n"
     ]
    }
   ],
   "source": [
    "device = torch.device(\"cuda:0\" if torch.cuda.is_available() else \"cpu\")\n",
    "print(device)"
   ]
  },
  {
   "cell_type": "code",
   "execution_count": 53,
   "metadata": {},
   "outputs": [
    {
     "data": {
      "text/html": [
       "<div>\n",
       "<style scoped>\n",
       "    .dataframe tbody tr th:only-of-type {\n",
       "        vertical-align: middle;\n",
       "    }\n",
       "\n",
       "    .dataframe tbody tr th {\n",
       "        vertical-align: top;\n",
       "    }\n",
       "\n",
       "    .dataframe thead th {\n",
       "        text-align: right;\n",
       "    }\n",
       "</style>\n",
       "<table border=\"1\" class=\"dataframe\">\n",
       "  <thead>\n",
       "    <tr style=\"text-align: right;\">\n",
       "      <th></th>\n",
       "      <th>0</th>\n",
       "      <th>1</th>\n",
       "      <th>2</th>\n",
       "      <th>3</th>\n",
       "      <th>4</th>\n",
       "      <th>5</th>\n",
       "      <th>6</th>\n",
       "      <th>7</th>\n",
       "      <th>8</th>\n",
       "      <th>9</th>\n",
       "      <th>...</th>\n",
       "      <th>147</th>\n",
       "      <th>148</th>\n",
       "      <th>midprice</th>\n",
       "      <th>MPchange</th>\n",
       "      <th>y10</th>\n",
       "      <th>OI</th>\n",
       "      <th>OIR</th>\n",
       "      <th>spread</th>\n",
       "      <th>OIstd</th>\n",
       "      <th>OIRstd</th>\n",
       "    </tr>\n",
       "  </thead>\n",
       "  <tbody>\n",
       "    <tr>\n",
       "      <th>0</th>\n",
       "      <td>0.1291</td>\n",
       "      <td>0.02500</td>\n",
       "      <td>0.1289</td>\n",
       "      <td>0.01500</td>\n",
       "      <td>0.1292</td>\n",
       "      <td>0.04273</td>\n",
       "      <td>0.1288</td>\n",
       "      <td>0.01000</td>\n",
       "      <td>0.1293</td>\n",
       "      <td>0.0444</td>\n",
       "      <td>...</td>\n",
       "      <td>2.0</td>\n",
       "      <td>2.0</td>\n",
       "      <td>0.12900</td>\n",
       "      <td>0.0</td>\n",
       "      <td>1</td>\n",
       "      <td>0.00000</td>\n",
       "      <td>-0.250000</td>\n",
       "      <td>0.0002</td>\n",
       "      <td>-0.024253</td>\n",
       "      <td>-0.680427</td>\n",
       "    </tr>\n",
       "    <tr>\n",
       "      <th>1</th>\n",
       "      <td>0.1291</td>\n",
       "      <td>0.02500</td>\n",
       "      <td>0.1289</td>\n",
       "      <td>0.01000</td>\n",
       "      <td>0.1292</td>\n",
       "      <td>0.04273</td>\n",
       "      <td>0.1288</td>\n",
       "      <td>0.00500</td>\n",
       "      <td>0.1293</td>\n",
       "      <td>0.0444</td>\n",
       "      <td>...</td>\n",
       "      <td>2.0</td>\n",
       "      <td>2.0</td>\n",
       "      <td>0.12900</td>\n",
       "      <td>0.0</td>\n",
       "      <td>1</td>\n",
       "      <td>-0.00500</td>\n",
       "      <td>-0.428571</td>\n",
       "      <td>0.0002</td>\n",
       "      <td>-1.939917</td>\n",
       "      <td>-1.126842</td>\n",
       "    </tr>\n",
       "    <tr>\n",
       "      <th>2</th>\n",
       "      <td>0.1291</td>\n",
       "      <td>0.02500</td>\n",
       "      <td>0.1289</td>\n",
       "      <td>0.01000</td>\n",
       "      <td>0.1292</td>\n",
       "      <td>0.04273</td>\n",
       "      <td>0.1288</td>\n",
       "      <td>0.00500</td>\n",
       "      <td>0.1293</td>\n",
       "      <td>0.0444</td>\n",
       "      <td>...</td>\n",
       "      <td>2.0</td>\n",
       "      <td>2.0</td>\n",
       "      <td>0.12900</td>\n",
       "      <td>0.0</td>\n",
       "      <td>1</td>\n",
       "      <td>0.00000</td>\n",
       "      <td>-0.428571</td>\n",
       "      <td>0.0002</td>\n",
       "      <td>-0.024253</td>\n",
       "      <td>-1.126842</td>\n",
       "    </tr>\n",
       "    <tr>\n",
       "      <th>3</th>\n",
       "      <td>0.1291</td>\n",
       "      <td>0.02500</td>\n",
       "      <td>0.1289</td>\n",
       "      <td>0.01500</td>\n",
       "      <td>0.1292</td>\n",
       "      <td>0.04273</td>\n",
       "      <td>0.1288</td>\n",
       "      <td>0.01000</td>\n",
       "      <td>0.1293</td>\n",
       "      <td>0.0444</td>\n",
       "      <td>...</td>\n",
       "      <td>2.0</td>\n",
       "      <td>2.0</td>\n",
       "      <td>0.12900</td>\n",
       "      <td>0.0</td>\n",
       "      <td>1</td>\n",
       "      <td>0.00500</td>\n",
       "      <td>-0.250000</td>\n",
       "      <td>0.0002</td>\n",
       "      <td>1.891410</td>\n",
       "      <td>-0.680427</td>\n",
       "    </tr>\n",
       "    <tr>\n",
       "      <th>4</th>\n",
       "      <td>0.1291</td>\n",
       "      <td>0.02500</td>\n",
       "      <td>0.1289</td>\n",
       "      <td>0.01500</td>\n",
       "      <td>0.1292</td>\n",
       "      <td>0.04273</td>\n",
       "      <td>0.1288</td>\n",
       "      <td>0.01000</td>\n",
       "      <td>0.1293</td>\n",
       "      <td>0.0444</td>\n",
       "      <td>...</td>\n",
       "      <td>2.0</td>\n",
       "      <td>2.0</td>\n",
       "      <td>0.12900</td>\n",
       "      <td>0.0</td>\n",
       "      <td>1</td>\n",
       "      <td>0.00000</td>\n",
       "      <td>-0.250000</td>\n",
       "      <td>0.0002</td>\n",
       "      <td>-0.024253</td>\n",
       "      <td>-0.680427</td>\n",
       "    </tr>\n",
       "    <tr>\n",
       "      <th>...</th>\n",
       "      <td>...</td>\n",
       "      <td>...</td>\n",
       "      <td>...</td>\n",
       "      <td>...</td>\n",
       "      <td>...</td>\n",
       "      <td>...</td>\n",
       "      <td>...</td>\n",
       "      <td>...</td>\n",
       "      <td>...</td>\n",
       "      <td>...</td>\n",
       "      <td>...</td>\n",
       "      <td>...</td>\n",
       "      <td>...</td>\n",
       "      <td>...</td>\n",
       "      <td>...</td>\n",
       "      <td>...</td>\n",
       "      <td>...</td>\n",
       "      <td>...</td>\n",
       "      <td>...</td>\n",
       "      <td>...</td>\n",
       "      <td>...</td>\n",
       "    </tr>\n",
       "    <tr>\n",
       "      <th>10429</th>\n",
       "      <td>0.3644</td>\n",
       "      <td>0.00200</td>\n",
       "      <td>0.3639</td>\n",
       "      <td>0.00129</td>\n",
       "      <td>0.3645</td>\n",
       "      <td>0.00200</td>\n",
       "      <td>0.3635</td>\n",
       "      <td>0.00200</td>\n",
       "      <td>0.3646</td>\n",
       "      <td>0.0020</td>\n",
       "      <td>...</td>\n",
       "      <td>2.0</td>\n",
       "      <td>2.0</td>\n",
       "      <td>0.36415</td>\n",
       "      <td>0.0</td>\n",
       "      <td>1</td>\n",
       "      <td>-0.00375</td>\n",
       "      <td>-0.215805</td>\n",
       "      <td>0.0005</td>\n",
       "      <td>-0.598952</td>\n",
       "      <td>-0.271246</td>\n",
       "    </tr>\n",
       "    <tr>\n",
       "      <th>10430</th>\n",
       "      <td>0.3644</td>\n",
       "      <td>0.00200</td>\n",
       "      <td>0.3639</td>\n",
       "      <td>0.00129</td>\n",
       "      <td>0.3645</td>\n",
       "      <td>0.00200</td>\n",
       "      <td>0.3635</td>\n",
       "      <td>0.00200</td>\n",
       "      <td>0.3646</td>\n",
       "      <td>0.0020</td>\n",
       "      <td>...</td>\n",
       "      <td>2.0</td>\n",
       "      <td>2.0</td>\n",
       "      <td>0.36415</td>\n",
       "      <td>0.0</td>\n",
       "      <td>1</td>\n",
       "      <td>0.00000</td>\n",
       "      <td>-0.215805</td>\n",
       "      <td>0.0005</td>\n",
       "      <td>-0.024253</td>\n",
       "      <td>-0.271246</td>\n",
       "    </tr>\n",
       "    <tr>\n",
       "      <th>10431</th>\n",
       "      <td>0.3644</td>\n",
       "      <td>0.00200</td>\n",
       "      <td>0.3639</td>\n",
       "      <td>0.00129</td>\n",
       "      <td>0.3645</td>\n",
       "      <td>0.00200</td>\n",
       "      <td>0.3634</td>\n",
       "      <td>0.00076</td>\n",
       "      <td>0.3646</td>\n",
       "      <td>0.0020</td>\n",
       "      <td>...</td>\n",
       "      <td>2.0</td>\n",
       "      <td>2.0</td>\n",
       "      <td>0.36415</td>\n",
       "      <td>0.0</td>\n",
       "      <td>1</td>\n",
       "      <td>0.00000</td>\n",
       "      <td>-0.215805</td>\n",
       "      <td>0.0005</td>\n",
       "      <td>-0.024253</td>\n",
       "      <td>-0.271246</td>\n",
       "    </tr>\n",
       "    <tr>\n",
       "      <th>10432</th>\n",
       "      <td>0.3644</td>\n",
       "      <td>0.00200</td>\n",
       "      <td>0.3639</td>\n",
       "      <td>0.00129</td>\n",
       "      <td>0.3645</td>\n",
       "      <td>0.00200</td>\n",
       "      <td>0.3634</td>\n",
       "      <td>0.00076</td>\n",
       "      <td>0.3646</td>\n",
       "      <td>0.0020</td>\n",
       "      <td>...</td>\n",
       "      <td>3.0</td>\n",
       "      <td>2.0</td>\n",
       "      <td>0.36415</td>\n",
       "      <td>0.0</td>\n",
       "      <td>1</td>\n",
       "      <td>0.00000</td>\n",
       "      <td>-0.215805</td>\n",
       "      <td>0.0005</td>\n",
       "      <td>-0.024253</td>\n",
       "      <td>-0.271246</td>\n",
       "    </tr>\n",
       "    <tr>\n",
       "      <th>10433</th>\n",
       "      <td>0.3643</td>\n",
       "      <td>0.00296</td>\n",
       "      <td>0.3639</td>\n",
       "      <td>0.00450</td>\n",
       "      <td>0.3644</td>\n",
       "      <td>0.00686</td>\n",
       "      <td>0.3634</td>\n",
       "      <td>0.00076</td>\n",
       "      <td>0.3645</td>\n",
       "      <td>0.0020</td>\n",
       "      <td>...</td>\n",
       "      <td>3.0</td>\n",
       "      <td>3.0</td>\n",
       "      <td>0.36410</td>\n",
       "      <td>0.0</td>\n",
       "      <td>1</td>\n",
       "      <td>0.00025</td>\n",
       "      <td>0.206434</td>\n",
       "      <td>0.0004</td>\n",
       "      <td>0.023638</td>\n",
       "      <td>0.202587</td>\n",
       "    </tr>\n",
       "  </tbody>\n",
       "</table>\n",
       "<p>10434 rows × 157 columns</p>\n",
       "</div>"
      ],
      "text/plain": [
       "            0        1       2        3       4        5       6        7  \\\n",
       "0      0.1291  0.02500  0.1289  0.01500  0.1292  0.04273  0.1288  0.01000   \n",
       "1      0.1291  0.02500  0.1289  0.01000  0.1292  0.04273  0.1288  0.00500   \n",
       "2      0.1291  0.02500  0.1289  0.01000  0.1292  0.04273  0.1288  0.00500   \n",
       "3      0.1291  0.02500  0.1289  0.01500  0.1292  0.04273  0.1288  0.01000   \n",
       "4      0.1291  0.02500  0.1289  0.01500  0.1292  0.04273  0.1288  0.01000   \n",
       "...       ...      ...     ...      ...     ...      ...     ...      ...   \n",
       "10429  0.3644  0.00200  0.3639  0.00129  0.3645  0.00200  0.3635  0.00200   \n",
       "10430  0.3644  0.00200  0.3639  0.00129  0.3645  0.00200  0.3635  0.00200   \n",
       "10431  0.3644  0.00200  0.3639  0.00129  0.3645  0.00200  0.3634  0.00076   \n",
       "10432  0.3644  0.00200  0.3639  0.00129  0.3645  0.00200  0.3634  0.00076   \n",
       "10433  0.3643  0.00296  0.3639  0.00450  0.3644  0.00686  0.3634  0.00076   \n",
       "\n",
       "            8       9  ...  147  148  midprice  MPchange  y10       OI  \\\n",
       "0      0.1293  0.0444  ...  2.0  2.0   0.12900       0.0    1  0.00000   \n",
       "1      0.1293  0.0444  ...  2.0  2.0   0.12900       0.0    1 -0.00500   \n",
       "2      0.1293  0.0444  ...  2.0  2.0   0.12900       0.0    1  0.00000   \n",
       "3      0.1293  0.0444  ...  2.0  2.0   0.12900       0.0    1  0.00500   \n",
       "4      0.1293  0.0444  ...  2.0  2.0   0.12900       0.0    1  0.00000   \n",
       "...       ...     ...  ...  ...  ...       ...       ...  ...      ...   \n",
       "10429  0.3646  0.0020  ...  2.0  2.0   0.36415       0.0    1 -0.00375   \n",
       "10430  0.3646  0.0020  ...  2.0  2.0   0.36415       0.0    1  0.00000   \n",
       "10431  0.3646  0.0020  ...  2.0  2.0   0.36415       0.0    1  0.00000   \n",
       "10432  0.3646  0.0020  ...  3.0  2.0   0.36415       0.0    1  0.00000   \n",
       "10433  0.3645  0.0020  ...  3.0  3.0   0.36410       0.0    1  0.00025   \n",
       "\n",
       "            OIR  spread     OIstd    OIRstd  \n",
       "0     -0.250000  0.0002 -0.024253 -0.680427  \n",
       "1     -0.428571  0.0002 -1.939917 -1.126842  \n",
       "2     -0.428571  0.0002 -0.024253 -1.126842  \n",
       "3     -0.250000  0.0002  1.891410 -0.680427  \n",
       "4     -0.250000  0.0002 -0.024253 -0.680427  \n",
       "...         ...     ...       ...       ...  \n",
       "10429 -0.215805  0.0005 -0.598952 -0.271246  \n",
       "10430 -0.215805  0.0005 -0.024253 -0.271246  \n",
       "10431 -0.215805  0.0005 -0.024253 -0.271246  \n",
       "10432 -0.215805  0.0005 -0.024253 -0.271246  \n",
       "10433  0.206434  0.0004  0.023638  0.202587  \n",
       "\n",
       "[10434 rows x 157 columns]"
      ]
     },
     "execution_count": 53,
     "metadata": {},
     "output_type": "execute_result"
    }
   ],
   "source": [
    "train7path = '../../data/processed/stock3/moreX_test8_part3.csv'\n",
    "df = pd.read_csv(train7path)\n",
    "df"
   ]
  },
  {
   "cell_type": "code",
   "execution_count": 19,
   "metadata": {},
   "outputs": [],
   "source": [
    "train7path = '../../data/processed/stock3/moreX_train7_part3.csv'\n",
    "test7path = '../../data/processed/stock3/moreX_test7_part3.csv'\n",
    "test8path = '../../data/processed/stock3/moreX_test8_part3.csv'\n",
    "test9path = '../../data/processed/stock3/moreX_test9_part3.csv'\n",
    "dec_train, dec_val, dec_test = prepare.splitDataset(0.8,0.8,train7path,test7path,test8path,test9path)\n",
    "train_loader, val_loader, test_loader = prepare.getDataLoader(dec_train,dec_val,dec_test,k=-6,num_classes=3,T=100,batch_size=64)"
   ]
  },
  {
   "cell_type": "code",
   "execution_count": 20,
   "metadata": {},
   "outputs": [
    {
     "data": {
      "text/plain": [
       "LstmNet(\n",
       "  (conv1): Sequential(\n",
       "    (0): Conv2d(1, 32, kernel_size=(1, 2), stride=(1, 2))\n",
       "    (1): LeakyReLU(negative_slope=0.01)\n",
       "    (2): BatchNorm2d(32, eps=1e-05, momentum=0.1, affine=True, track_running_stats=True)\n",
       "    (3): Conv2d(32, 32, kernel_size=(4, 1), stride=(1, 1))\n",
       "    (4): LeakyReLU(negative_slope=0.01)\n",
       "    (5): BatchNorm2d(32, eps=1e-05, momentum=0.1, affine=True, track_running_stats=True)\n",
       "  )\n",
       "  (conv2): Sequential(\n",
       "    (0): Conv2d(32, 32, kernel_size=(1, 2), stride=(1, 2))\n",
       "    (1): Tanh()\n",
       "    (2): BatchNorm2d(32, eps=1e-05, momentum=0.1, affine=True, track_running_stats=True)\n",
       "    (3): Conv2d(32, 32, kernel_size=(4, 1), stride=(1, 1))\n",
       "    (4): Tanh()\n",
       "    (5): BatchNorm2d(32, eps=1e-05, momentum=0.1, affine=True, track_running_stats=True)\n",
       "  )\n",
       "  (conv3): Sequential(\n",
       "    (0): Conv2d(32, 32, kernel_size=(1, 10), stride=(1, 1))\n",
       "    (1): LeakyReLU(negative_slope=0.01)\n",
       "    (2): BatchNorm2d(32, eps=1e-05, momentum=0.1, affine=True, track_running_stats=True)\n",
       "    (3): Conv2d(32, 32, kernel_size=(4, 1), stride=(1, 1))\n",
       "    (4): LeakyReLU(negative_slope=0.01)\n",
       "    (5): BatchNorm2d(32, eps=1e-05, momentum=0.1, affine=True, track_running_stats=True)\n",
       "  )\n",
       "  (lstm): LSTM(32, 64, batch_first=True)\n",
       "  (fc1): Linear(in_features=64, out_features=3, bias=True)\n",
       ")"
      ]
     },
     "execution_count": 20,
     "metadata": {},
     "output_type": "execute_result"
    }
   ],
   "source": [
    "model = baseline.LstmNet(y_len=3, device=device, hidden_size=64)\n",
    "model.to(device)"
   ]
  },
  {
   "cell_type": "code",
   "execution_count": 5,
   "metadata": {},
   "outputs": [
    {
     "data": {
      "text/plain": [
       "==========================================================================================\n",
       "Layer (type:depth-idx)                   Output Shape              Param #\n",
       "==========================================================================================\n",
       "LstmNet                                  --                        --\n",
       "├─Sequential: 1-1                        [64, 32, 97, 21]          --\n",
       "│    └─Conv2d: 2-1                       [64, 32, 100, 21]         96\n",
       "│    └─LeakyReLU: 2-2                    [64, 32, 100, 21]         --\n",
       "│    └─BatchNorm2d: 2-3                  [64, 32, 100, 21]         64\n",
       "│    └─Conv2d: 2-4                       [64, 32, 97, 21]          4,128\n",
       "│    └─LeakyReLU: 2-5                    [64, 32, 97, 21]          --\n",
       "│    └─BatchNorm2d: 2-6                  [64, 32, 97, 21]          64\n",
       "├─Sequential: 1-2                        [64, 32, 94, 10]          --\n",
       "│    └─Conv2d: 2-7                       [64, 32, 97, 10]          2,080\n",
       "│    └─Tanh: 2-8                         [64, 32, 97, 10]          --\n",
       "│    └─BatchNorm2d: 2-9                  [64, 32, 97, 10]          64\n",
       "│    └─Conv2d: 2-10                      [64, 32, 94, 10]          4,128\n",
       "│    └─Tanh: 2-11                        [64, 32, 94, 10]          --\n",
       "│    └─BatchNorm2d: 2-12                 [64, 32, 94, 10]          64\n",
       "├─Sequential: 1-3                        [64, 32, 91, 1]           --\n",
       "│    └─Conv2d: 2-13                      [64, 32, 94, 1]           10,272\n",
       "│    └─LeakyReLU: 2-14                   [64, 32, 94, 1]           --\n",
       "│    └─BatchNorm2d: 2-15                 [64, 32, 94, 1]           64\n",
       "│    └─Conv2d: 2-16                      [64, 32, 91, 1]           4,128\n",
       "│    └─LeakyReLU: 2-17                   [64, 32, 91, 1]           --\n",
       "│    └─BatchNorm2d: 2-18                 [64, 32, 91, 1]           64\n",
       "├─LSTM: 1-4                              [64, 91, 64]              25,088\n",
       "├─Linear: 1-5                            [64, 3]                   195\n",
       "==========================================================================================\n",
       "Total params: 50,499\n",
       "Trainable params: 50,499\n",
       "Non-trainable params: 0\n",
       "Total mult-adds (G): 1.16\n",
       "==========================================================================================\n",
       "Input size (MB): 1.08\n",
       "Forward/backward pass size (MB): 207.19\n",
       "Params size (MB): 0.20\n",
       "Estimated Total Size (MB): 208.47\n",
       "=========================================================================================="
      ]
     },
     "execution_count": 5,
     "metadata": {},
     "output_type": "execute_result"
    }
   ],
   "source": [
    "summary(model, (64, 1, 100, 42))"
   ]
  },
  {
   "cell_type": "code",
   "execution_count": 21,
   "metadata": {},
   "outputs": [
    {
     "name": "stderr",
     "output_type": "stream",
     "text": [
      "  2%|▏         | 1/50 [00:06<04:59,  6.12s/it]"
     ]
    },
    {
     "name": "stdout",
     "output_type": "stream",
     "text": [
      "model saved\n",
      "Epoch 1/50, Train Loss: 1.0910,           Validation Loss: 1.0800, Duration: 0:00:06.117355, Best Val Epoch: 0\n"
     ]
    },
    {
     "name": "stderr",
     "output_type": "stream",
     "text": [
      "  4%|▍         | 2/50 [00:11<04:41,  5.86s/it]"
     ]
    },
    {
     "name": "stdout",
     "output_type": "stream",
     "text": [
      "model saved\n",
      "Epoch 2/50, Train Loss: 1.0689,           Validation Loss: 1.0774, Duration: 0:00:05.680610, Best Val Epoch: 1\n"
     ]
    },
    {
     "name": "stderr",
     "output_type": "stream",
     "text": [
      "  6%|▌         | 3/50 [00:17<04:36,  5.89s/it]"
     ]
    },
    {
     "name": "stdout",
     "output_type": "stream",
     "text": [
      "model saved\n",
      "Epoch 3/50, Train Loss: 1.0494,           Validation Loss: 1.0765, Duration: 0:00:05.912547, Best Val Epoch: 2\n"
     ]
    },
    {
     "name": "stderr",
     "output_type": "stream",
     "text": [
      "  8%|▊         | 4/50 [00:23<04:33,  5.95s/it]"
     ]
    },
    {
     "name": "stdout",
     "output_type": "stream",
     "text": [
      "model saved\n",
      "Epoch 4/50, Train Loss: 1.0326,           Validation Loss: 1.0759, Duration: 0:00:06.044940, Best Val Epoch: 3\n"
     ]
    },
    {
     "name": "stderr",
     "output_type": "stream",
     "text": [
      " 10%|█         | 5/50 [00:29<04:26,  5.92s/it]"
     ]
    },
    {
     "name": "stdout",
     "output_type": "stream",
     "text": [
      "Epoch 5/50, Train Loss: 1.0194,           Validation Loss: 1.0762, Duration: 0:00:05.858500, Best Val Epoch: 3\n"
     ]
    },
    {
     "name": "stderr",
     "output_type": "stream",
     "text": [
      " 12%|█▏        | 6/50 [00:35<04:18,  5.89s/it]"
     ]
    },
    {
     "name": "stdout",
     "output_type": "stream",
     "text": [
      "model saved\n",
      "Epoch 6/50, Train Loss: 1.0050,           Validation Loss: 1.0751, Duration: 0:00:05.822599, Best Val Epoch: 5\n"
     ]
    },
    {
     "name": "stderr",
     "output_type": "stream",
     "text": [
      " 14%|█▍        | 7/50 [00:41<04:13,  5.90s/it]"
     ]
    },
    {
     "name": "stdout",
     "output_type": "stream",
     "text": [
      "Epoch 7/50, Train Loss: 0.9948,           Validation Loss: 1.0782, Duration: 0:00:05.919818, Best Val Epoch: 5\n"
     ]
    },
    {
     "name": "stderr",
     "output_type": "stream",
     "text": [
      " 16%|█▌        | 8/50 [00:46<04:00,  5.74s/it]"
     ]
    },
    {
     "name": "stdout",
     "output_type": "stream",
     "text": [
      "Epoch 8/50, Train Loss: 0.9872,           Validation Loss: 1.0761, Duration: 0:00:05.393815, Best Val Epoch: 5\n"
     ]
    },
    {
     "name": "stderr",
     "output_type": "stream",
     "text": [
      " 18%|█▊        | 9/50 [00:52<03:53,  5.68s/it]"
     ]
    },
    {
     "name": "stdout",
     "output_type": "stream",
     "text": [
      "Epoch 9/50, Train Loss: 0.9797,           Validation Loss: 1.0799, Duration: 0:00:05.562286, Best Val Epoch: 5\n"
     ]
    },
    {
     "name": "stderr",
     "output_type": "stream",
     "text": [
      " 20%|██        | 10/50 [00:58<03:53,  5.83s/it]"
     ]
    },
    {
     "name": "stdout",
     "output_type": "stream",
     "text": [
      "Epoch 10/50, Train Loss: 0.9738,           Validation Loss: 1.0776, Duration: 0:00:06.147613, Best Val Epoch: 5\n"
     ]
    },
    {
     "name": "stderr",
     "output_type": "stream",
     "text": [
      " 22%|██▏       | 11/50 [01:04<03:47,  5.82s/it]"
     ]
    },
    {
     "name": "stdout",
     "output_type": "stream",
     "text": [
      "Epoch 11/50, Train Loss: 0.9680,           Validation Loss: 1.0766, Duration: 0:00:05.809471, Best Val Epoch: 5\n"
     ]
    },
    {
     "name": "stderr",
     "output_type": "stream",
     "text": [
      " 22%|██▏       | 11/50 [01:04<03:49,  5.89s/it]\n"
     ]
    },
    {
     "ename": "KeyboardInterrupt",
     "evalue": "",
     "output_type": "error",
     "traceback": [
      "\u001b[0;31m---------------------------------------------------------------------------\u001b[0m",
      "\u001b[0;31mKeyboardInterrupt\u001b[0m                         Traceback (most recent call last)",
      "\u001b[0;32m/tmp/ipykernel_40728/1215187969.py\u001b[0m in \u001b[0;36m<module>\u001b[0;34m\u001b[0m\n\u001b[1;32m      1\u001b[0m \u001b[0mcriterion\u001b[0m \u001b[0;34m=\u001b[0m \u001b[0mnn\u001b[0m\u001b[0;34m.\u001b[0m\u001b[0mCrossEntropyLoss\u001b[0m\u001b[0;34m(\u001b[0m\u001b[0;34m)\u001b[0m\u001b[0;34m\u001b[0m\u001b[0;34m\u001b[0m\u001b[0m\n\u001b[1;32m      2\u001b[0m \u001b[0moptimizer\u001b[0m \u001b[0;34m=\u001b[0m \u001b[0mtorch\u001b[0m\u001b[0;34m.\u001b[0m\u001b[0moptim\u001b[0m\u001b[0;34m.\u001b[0m\u001b[0mAdam\u001b[0m\u001b[0;34m(\u001b[0m\u001b[0mmodel\u001b[0m\u001b[0;34m.\u001b[0m\u001b[0mparameters\u001b[0m\u001b[0;34m(\u001b[0m\u001b[0;34m)\u001b[0m\u001b[0;34m,\u001b[0m \u001b[0mlr\u001b[0m\u001b[0;34m=\u001b[0m\u001b[0;36m0.0001\u001b[0m\u001b[0;34m)\u001b[0m\u001b[0;34m\u001b[0m\u001b[0;34m\u001b[0m\u001b[0m\n\u001b[0;32m----> 3\u001b[0;31m \u001b[0mtrain_losses\u001b[0m\u001b[0;34m,\u001b[0m \u001b[0mval_losses\u001b[0m \u001b[0;34m=\u001b[0m \u001b[0mtrain\u001b[0m\u001b[0;34m.\u001b[0m\u001b[0mbatch_gd\u001b[0m\u001b[0;34m(\u001b[0m\u001b[0mmodel\u001b[0m\u001b[0;34m,\u001b[0m \u001b[0mcriterion\u001b[0m\u001b[0;34m,\u001b[0m \u001b[0moptimizer\u001b[0m\u001b[0;34m,\u001b[0m \u001b[0mtrain_loader\u001b[0m\u001b[0;34m,\u001b[0m \u001b[0mval_loader\u001b[0m\u001b[0;34m,\u001b[0m \u001b[0mepochs\u001b[0m\u001b[0;34m=\u001b[0m\u001b[0;36m50\u001b[0m\u001b[0;34m,\u001b[0m \u001b[0mdevice\u001b[0m\u001b[0;34m=\u001b[0m\u001b[0mdevice\u001b[0m\u001b[0;34m,\u001b[0m \u001b[0msavedModelName\u001b[0m\u001b[0;34m=\u001b[0m\u001b[0;34m'./savedModels_rightOrder/moreX_LSTM'\u001b[0m\u001b[0;34m)\u001b[0m\u001b[0;34m\u001b[0m\u001b[0;34m\u001b[0m\u001b[0m\n\u001b[0m",
      "\u001b[0;32m~/work/GraduateDesign/utils/train.py\u001b[0m in \u001b[0;36mbatch_gd\u001b[0;34m(model, criterion, optimizer, train_loader, test_loader, epochs, device, savedModelName)\u001b[0m\n\u001b[1;32m     31\u001b[0m             \u001b[0;31m# Backward and optimize\u001b[0m\u001b[0;34m\u001b[0m\u001b[0;34m\u001b[0m\u001b[0;34m\u001b[0m\u001b[0m\n\u001b[1;32m     32\u001b[0m             \u001b[0;31m# print(\"about to optimize\")\u001b[0m\u001b[0;34m\u001b[0m\u001b[0;34m\u001b[0m\u001b[0;34m\u001b[0m\u001b[0m\n\u001b[0;32m---> 33\u001b[0;31m             \u001b[0mloss\u001b[0m\u001b[0;34m.\u001b[0m\u001b[0mbackward\u001b[0m\u001b[0;34m(\u001b[0m\u001b[0;34m)\u001b[0m\u001b[0;34m\u001b[0m\u001b[0;34m\u001b[0m\u001b[0m\n\u001b[0m\u001b[1;32m     34\u001b[0m             \u001b[0moptimizer\u001b[0m\u001b[0;34m.\u001b[0m\u001b[0mstep\u001b[0m\u001b[0;34m(\u001b[0m\u001b[0;34m)\u001b[0m\u001b[0;34m\u001b[0m\u001b[0;34m\u001b[0m\u001b[0m\n\u001b[1;32m     35\u001b[0m             \u001b[0mtrain_loss\u001b[0m\u001b[0;34m.\u001b[0m\u001b[0mappend\u001b[0m\u001b[0;34m(\u001b[0m\u001b[0mloss\u001b[0m\u001b[0;34m.\u001b[0m\u001b[0mitem\u001b[0m\u001b[0;34m(\u001b[0m\u001b[0;34m)\u001b[0m\u001b[0;34m)\u001b[0m\u001b[0;34m\u001b[0m\u001b[0;34m\u001b[0m\u001b[0m\n",
      "\u001b[0;32m/cloud/myenv/lib/python3.7/site-packages/torch/_tensor.py\u001b[0m in \u001b[0;36mbackward\u001b[0;34m(self, gradient, retain_graph, create_graph, inputs)\u001b[0m\n\u001b[1;32m    361\u001b[0m                 \u001b[0mcreate_graph\u001b[0m\u001b[0;34m=\u001b[0m\u001b[0mcreate_graph\u001b[0m\u001b[0;34m,\u001b[0m\u001b[0;34m\u001b[0m\u001b[0;34m\u001b[0m\u001b[0m\n\u001b[1;32m    362\u001b[0m                 inputs=inputs)\n\u001b[0;32m--> 363\u001b[0;31m         \u001b[0mtorch\u001b[0m\u001b[0;34m.\u001b[0m\u001b[0mautograd\u001b[0m\u001b[0;34m.\u001b[0m\u001b[0mbackward\u001b[0m\u001b[0;34m(\u001b[0m\u001b[0mself\u001b[0m\u001b[0;34m,\u001b[0m \u001b[0mgradient\u001b[0m\u001b[0;34m,\u001b[0m \u001b[0mretain_graph\u001b[0m\u001b[0;34m,\u001b[0m \u001b[0mcreate_graph\u001b[0m\u001b[0;34m,\u001b[0m \u001b[0minputs\u001b[0m\u001b[0;34m=\u001b[0m\u001b[0minputs\u001b[0m\u001b[0;34m)\u001b[0m\u001b[0;34m\u001b[0m\u001b[0;34m\u001b[0m\u001b[0m\n\u001b[0m\u001b[1;32m    364\u001b[0m \u001b[0;34m\u001b[0m\u001b[0m\n\u001b[1;32m    365\u001b[0m     \u001b[0;32mdef\u001b[0m \u001b[0mregister_hook\u001b[0m\u001b[0;34m(\u001b[0m\u001b[0mself\u001b[0m\u001b[0;34m,\u001b[0m \u001b[0mhook\u001b[0m\u001b[0;34m)\u001b[0m\u001b[0;34m:\u001b[0m\u001b[0;34m\u001b[0m\u001b[0;34m\u001b[0m\u001b[0m\n",
      "\u001b[0;32m/cloud/myenv/lib/python3.7/site-packages/torch/autograd/__init__.py\u001b[0m in \u001b[0;36mbackward\u001b[0;34m(tensors, grad_tensors, retain_graph, create_graph, grad_variables, inputs)\u001b[0m\n\u001b[1;32m    173\u001b[0m     Variable._execution_engine.run_backward(  # Calls into the C++ engine to run the backward pass\n\u001b[1;32m    174\u001b[0m         \u001b[0mtensors\u001b[0m\u001b[0;34m,\u001b[0m \u001b[0mgrad_tensors_\u001b[0m\u001b[0;34m,\u001b[0m \u001b[0mretain_graph\u001b[0m\u001b[0;34m,\u001b[0m \u001b[0mcreate_graph\u001b[0m\u001b[0;34m,\u001b[0m \u001b[0minputs\u001b[0m\u001b[0;34m,\u001b[0m\u001b[0;34m\u001b[0m\u001b[0;34m\u001b[0m\u001b[0m\n\u001b[0;32m--> 175\u001b[0;31m         allow_unreachable=True, accumulate_grad=True)  # Calls into the C++ engine to run the backward pass\n\u001b[0m\u001b[1;32m    176\u001b[0m \u001b[0;34m\u001b[0m\u001b[0m\n\u001b[1;32m    177\u001b[0m def grad(\n",
      "\u001b[0;31mKeyboardInterrupt\u001b[0m: "
     ]
    }
   ],
   "source": [
    "criterion = nn.CrossEntropyLoss()\n",
    "optimizer = torch.optim.Adam(model.parameters(), lr=0.0001)\n",
    "train_losses, val_losses = train.batch_gd(model, criterion, optimizer, train_loader, val_loader, epochs=50, device=device, savedModelName='./savedModels_rightOrder/moreX_LSTM')"
   ]
  },
  {
   "cell_type": "code",
   "execution_count": null,
   "metadata": {},
   "outputs": [
    {
     "data": {
      "image/png": "[encoded data removed]",
      "text/plain": [
       "<Figure size 432x288 with 1 Axes>"
      ]
     },
     "metadata": {
      "needs_background": "light"
     },
     "output_type": "display_data"
    }
   ],
   "source": [
    "p.drawLossChange(train_losses, val_losses)"
   ]
  },
  {
   "cell_type": "code",
   "execution_count": null,
   "metadata": {},
   "outputs": [
    {
     "name": "stdout",
     "output_type": "stream",
     "text": [
      "              precision    recall  f1-score   support\n",
      "\n",
      "           0     0.4053    0.3327    0.3654      9153\n",
      "           1     0.4157    0.4127    0.4142      9243\n",
      "           2     0.4230    0.4995    0.4581      9421\n",
      "\n",
      "    accuracy                         0.4158     27817\n",
      "   macro avg     0.4146    0.4150    0.4126     27817\n",
      "weighted avg     0.4147    0.4158    0.4130     27817\n",
      "\n"
     ]
    }
   ],
   "source": [
    "model = torch.load('./savedModels_rightOrder/moreX_LSTM')\n",
    "all_targets, all_predictions = p.getReport(test_loader, model, device)"
   ]
  },
  {
   "cell_type": "code",
   "execution_count": null,
   "metadata": {},
   "outputs": [
    {
     "data": {
      "image/png": "[encoded data removed]",
      "text/plain": [
       "<Figure size 432x288 with 2 Axes>"
      ]
     },
     "metadata": {
      "needs_background": "light"
     },
     "output_type": "display_data"
    }
   ],
   "source": [
    "p.seeConfusionMatrix(all_targets,all_predictions) "
   ]
  },
  {
   "cell_type": "markdown",
   "metadata": {},
   "source": [
    "### 查看y和2个新特征之间的相关性"
   ]
  },
  {
   "cell_type": "code",
   "execution_count": 33,
   "metadata": {},
   "outputs": [
    {
     "name": "stdout",
     "output_type": "stream",
     "text": [
      "[[1.         0.04970096]\n",
      " [0.04970096 1.        ]]\n"
     ]
    }
   ],
   "source": [
    "y = np.array(df['y10'])\n",
    "OIstd = np.array(df['OIstd'])\n",
    "OIRstd = np.array(df['OIRstd'])\n",
    "\n",
    "my_rho = np.corrcoef(OIstd, y)\n",
    "print(my_rho)"
   ]
  },
  {
   "cell_type": "markdown",
   "metadata": {},
   "source": [
    "### 画箱式图"
   ]
  },
  {
   "cell_type": "code",
   "execution_count": 52,
   "metadata": {},
   "outputs": [
    {
     "data": {
      "image/png": "[encoded data removed]",
      "text/plain": [
       "<Figure size 432x288 with 1 Axes>"
      ]
     },
     "metadata": {
      "needs_background": "light"
     },
     "output_type": "display_data"
    }
   ],
   "source": [
    "fig, axes = plt.subplots()\n",
    "sns.boxplot( x=df[\"y10\"], y=df[\"MPchange\"] )\n",
    "title = \"OIstd distribution of different y\"\n",
    "\n",
    "props = {'title': title,\n",
    "             'xlabel': 'y',\n",
    "             'ylabel': 'OIstd',\n",
    "             }\n",
    "axes.set(**props)\n",
    "plt.show()"
   ]
  },
  {
   "cell_type": "markdown",
   "metadata": {},
   "source": [
    "### 画ACF"
   ]
  },
  {
   "cell_type": "code",
   "execution_count": 7,
   "metadata": {},
   "outputs": [
    {
     "data": {
      "image/png": "[encoded data removed]",
      "text/plain": [
       "<Figure size 432x288 with 1 Axes>"
      ]
     },
     "metadata": {
      "needs_background": "light"
     },
     "output_type": "display_data"
    }
   ],
   "source": [
    "##ACF function for the OIR-ResampledData\n",
    "from statsmodels.graphics.tsaplots import plot_acf\n",
    "fig, axes = plt.subplots()\n",
    "\n",
    "plot_acf(OIRstd, ax=axes, lags = np.arange(1,11), title = 'OIR Autocorrelation', auto_ylims=True)\n",
    "\n",
    "plt.show()"
   ]
  },
  {
   "cell_type": "code",
   "execution_count": 9,
   "metadata": {},
   "outputs": [
    {
     "data": {
      "image/png": "[encoded data removed]",
      "text/plain": [
       "<Figure size 432x288 with 1 Axes>"
      ]
     },
     "metadata": {
      "needs_background": "light"
     },
     "output_type": "display_data"
    }
   ],
   "source": [
    "fig, axes = plt.subplots()\n",
    "plot_acf(OIstd, ax=axes, lags = np.arange(1,11), title = 'OI Autocorrelation', auto_ylims=True)\n",
    "plt.show()"
   ]
  },
  {
   "cell_type": "code",
   "execution_count": 10,
   "metadata": {},
   "outputs": [
    {
     "data": {
      "image/png": "[encoded data removed]",
      "text/plain": [
       "<Figure size 432x288 with 1 Axes>"
      ]
     },
     "metadata": {
      "needs_background": "light"
     },
     "output_type": "display_data"
    }
   ],
   "source": [
    "fig, axes = plt.subplots()\n",
    "plot_acf(y, ax=axes, lags = np.arange(1,11), title = 'y Autocorrelation', auto_ylims=True)\n",
    "plt.show()"
   ]
  }
 ],
 "metadata": {
  "interpreter": {
   "hash": "b6379a49a5f1dae8e2bf9e9571591081e3adb0c6993333bb633f7202ba89f625"
  },
  "kernelspec": {
   "display_name": "Python 3.7.13 64-bit ('myenv')",
   "language": "python",
   "name": "python3"
  },
  "language_info": {
   "codemirror_mode": {
    "name": "ipython",
    "version": 3
   },
   "file_extension": ".py",
   "mimetype": "text/x-python",
   "name": "python",
   "nbconvert_exporter": "python",
   "pygments_lexer": "ipython3",
   "version": "3.7.13"
  },
  "orig_nbformat": 4
 },
 "nbformat": 4,
 "nbformat_minor": 2
}
