{
 "cells": [
  {
   "cell_type": "code",
   "execution_count": 1,
   "metadata": {},
   "outputs": [
    {
     "name": "stderr",
     "output_type": "stream",
     "text": [
      "/cloud/myenv/lib/python3.7/site-packages/tqdm/auto.py:22: TqdmWarning: IProgress not found. Please update jupyter and ipywidgets. See https://ipywidgets.readthedocs.io/en/stable/user_install.html\n",
      "  from .autonotebook import tqdm as notebook_tqdm\n"
     ]
    }
   ],
   "source": [
    "import pandas as pd\n",
    "import numpy as np\n",
    "from tqdm import tqdm \n",
    "import math\n",
    "import utils.prepareDataCSV as prepare\n",
    "import utils.baselineModels as baseline\n",
    "import utils.train as train\n",
    "import utils.plot as p\n",
    "\n",
    "import torch\n",
    "import torch.nn.functional as F\n",
    "from torchinfo import summary\n",
    "import torch.nn as nn\n",
    "%matplotlib inline"
   ]
  },
  {
   "cell_type": "code",
   "execution_count": 2,
   "metadata": {},
   "outputs": [
    {
     "name": "stdout",
     "output_type": "stream",
     "text": [
      "cuda:0\n"
     ]
    }
   ],
   "source": [
    "device = torch.device(\"cuda:0\" if torch.cuda.is_available() else \"cpu\")\n",
    "print(device)"
   ]
  },
  {
   "cell_type": "markdown",
   "metadata": {},
   "source": [
    "# 在乱序的数据集上面跑模型，注意：y仍然是按照原序的数据集来计算得到的"
   ]
  },
  {
   "cell_type": "code",
   "execution_count": 6,
   "metadata": {},
   "outputs": [],
   "source": [
    "traint7path = '../../data/random_processed/stock0/randomOrder_train7_part0.csv'\n",
    "test7path = '../../data/random_processed/stock0/randomOrder_test7_part0.csv'\n",
    "test8path = '../../data/random_processed/stock0/randomOrder_test8_part0.csv'\n",
    "test9path = '../../data/random_processed/stock0/randomOrder_test9_part0.csv'\n",
    "dec_train, dec_val, dec_test = prepare.splitDataset(0.8,0.8,traint7path,test7path,test8path,test9path)\n",
    "train_loader, val_loader, test_loader = prepare.getDataLoader(dec_train,dec_val,dec_test,k=4,num_classes=3,T=100,batch_size=64)"
   ]
  },
  {
   "cell_type": "code",
   "execution_count": 7,
   "metadata": {},
   "outputs": [],
   "source": [
    "class LstmNet(nn.Module):\n",
    "    def __init__(self, y_len, device, hidden_size=64):\n",
    "        self.device = device\n",
    "        self.hidden_size = hidden_size\n",
    "        super(LstmNet, self).__init__()\n",
    "        self.conv1 = nn.Sequential( nn.Conv2d(in_channels=1, out_channels=32, kernel_size=(1,2), stride=(1,2)),\n",
    "                                    nn.LeakyReLU(negative_slope=0.01),\n",
    "                                    nn.BatchNorm2d(32),\n",
    "                                    nn.Conv2d(in_channels=32, out_channels=32, kernel_size=(4,1)),\n",
    "                                    nn.LeakyReLU(negative_slope=0.01),\n",
    "                                    nn.BatchNorm2d(32),\n",
    "                                    )\n",
    "        self.conv2 = nn.Sequential(\n",
    "                                    nn.Conv2d(in_channels=32, out_channels=32, kernel_size=(1,2), stride=(1,2)),\n",
    "                                    nn.Tanh(),\n",
    "                                    nn.BatchNorm2d(32),\n",
    "                                    nn.Conv2d(in_channels=32, out_channels=32, kernel_size=(4,1)),\n",
    "                                    nn.Tanh(),\n",
    "                                    nn.BatchNorm2d(32),\n",
    "                                )\n",
    "        self.conv3 = nn.Sequential( nn.Conv2d(in_channels=32, out_channels=32, kernel_size=(1,10)),\n",
    "                                    nn.LeakyReLU(negative_slope=0.01),\n",
    "                                    nn.BatchNorm2d(32),\n",
    "                                    nn.Conv2d(in_channels=32, out_channels=32, kernel_size=(4,1)),\n",
    "                                    nn.LeakyReLU(negative_slope=0.01),\n",
    "                                    nn.BatchNorm2d(32),\n",
    "                                    )\n",
    "        # set size\n",
    "        self.lstm = nn.LSTM(input_size=32, hidden_size=hidden_size, num_layers=1, batch_first=True)\n",
    "        # self.relu = nn.LeakyReLU(negative_slope=0.01),\n",
    "        self.fc1 = nn.Linear(hidden_size, y_len)     \n",
    "\n",
    "    def forward(self, x):\n",
    "        # h0: (number of hidden layers, batch size, hidden size)\n",
    "        h0 = torch.zeros(1, x.size(0), self.hidden_size).to(self.device)\n",
    "        c0 = torch.zeros(1, x.size(0), self.hidden_size).to(self.device)\n",
    "    \n",
    "        x = self.conv1(x)\n",
    "        x = self.conv2(x)\n",
    "        x = self.conv3(x)\n",
    "\n",
    "        x = x.permute(0, 2, 1, 3)\n",
    "        x = torch.reshape(x, (-1, x.shape[1], x.shape[2]))\n",
    "        x, _ = self.lstm(x, (h0, c0))\n",
    "        x = x[:, -1, :]\n",
    "  \n",
    "        x = self.fc1(x)\n",
    "        forecast_y = torch.softmax(x, dim=1)\n",
    "        return forecast_y"
   ]
  },
  {
   "cell_type": "code",
   "execution_count": 10,
   "metadata": {},
   "outputs": [
    {
     "data": {
      "text/plain": [
       "LstmNet(\n",
       "  (conv1): Sequential(\n",
       "    (0): Conv2d(1, 32, kernel_size=(1, 2), stride=(1, 2))\n",
       "    (1): LeakyReLU(negative_slope=0.01)\n",
       "    (2): BatchNorm2d(32, eps=1e-05, momentum=0.1, affine=True, track_running_stats=True)\n",
       "    (3): Conv2d(32, 32, kernel_size=(4, 1), stride=(1, 1))\n",
       "    (4): LeakyReLU(negative_slope=0.01)\n",
       "    (5): BatchNorm2d(32, eps=1e-05, momentum=0.1, affine=True, track_running_stats=True)\n",
       "  )\n",
       "  (conv2): Sequential(\n",
       "    (0): Conv2d(32, 32, kernel_size=(1, 2), stride=(1, 2))\n",
       "    (1): Tanh()\n",
       "    (2): BatchNorm2d(32, eps=1e-05, momentum=0.1, affine=True, track_running_stats=True)\n",
       "    (3): Conv2d(32, 32, kernel_size=(4, 1), stride=(1, 1))\n",
       "    (4): Tanh()\n",
       "    (5): BatchNorm2d(32, eps=1e-05, momentum=0.1, affine=True, track_running_stats=True)\n",
       "  )\n",
       "  (conv3): Sequential(\n",
       "    (0): Conv2d(32, 32, kernel_size=(1, 10), stride=(1, 1))\n",
       "    (1): LeakyReLU(negative_slope=0.01)\n",
       "    (2): BatchNorm2d(32, eps=1e-05, momentum=0.1, affine=True, track_running_stats=True)\n",
       "    (3): Conv2d(32, 32, kernel_size=(4, 1), stride=(1, 1))\n",
       "    (4): LeakyReLU(negative_slope=0.01)\n",
       "    (5): BatchNorm2d(32, eps=1e-05, momentum=0.1, affine=True, track_running_stats=True)\n",
       "  )\n",
       "  (lstm): LSTM(32, 64, batch_first=True)\n",
       "  (fc1): Linear(in_features=64, out_features=3, bias=True)\n",
       ")"
      ]
     },
     "execution_count": 10,
     "metadata": {},
     "output_type": "execute_result"
    }
   ],
   "source": [
    "model = LstmNet(y_len=3, device=device, hidden_size=64)\n",
    "model.to(device)"
   ]
  },
  {
   "cell_type": "code",
   "execution_count": 11,
   "metadata": {},
   "outputs": [
    {
     "data": {
      "text/plain": [
       "==========================================================================================\n",
       "Layer (type:depth-idx)                   Output Shape              Param #\n",
       "==========================================================================================\n",
       "LstmNet                                  --                        --\n",
       "├─Sequential: 1-1                        [64, 32, 97, 20]          --\n",
       "│    └─Conv2d: 2-1                       [64, 32, 100, 20]         96\n",
       "│    └─LeakyReLU: 2-2                    [64, 32, 100, 20]         --\n",
       "│    └─BatchNorm2d: 2-3                  [64, 32, 100, 20]         64\n",
       "│    └─Conv2d: 2-4                       [64, 32, 97, 20]          4,128\n",
       "│    └─LeakyReLU: 2-5                    [64, 32, 97, 20]          --\n",
       "│    └─BatchNorm2d: 2-6                  [64, 32, 97, 20]          64\n",
       "├─Sequential: 1-2                        [64, 32, 94, 10]          --\n",
       "│    └─Conv2d: 2-7                       [64, 32, 97, 10]          2,080\n",
       "│    └─Tanh: 2-8                         [64, 32, 97, 10]          --\n",
       "│    └─BatchNorm2d: 2-9                  [64, 32, 97, 10]          64\n",
       "│    └─Conv2d: 2-10                      [64, 32, 94, 10]          4,128\n",
       "│    └─Tanh: 2-11                        [64, 32, 94, 10]          --\n",
       "│    └─BatchNorm2d: 2-12                 [64, 32, 94, 10]          64\n",
       "├─Sequential: 1-3                        [64, 32, 91, 1]           --\n",
       "│    └─Conv2d: 2-13                      [64, 32, 94, 1]           10,272\n",
       "│    └─LeakyReLU: 2-14                   [64, 32, 94, 1]           --\n",
       "│    └─BatchNorm2d: 2-15                 [64, 32, 94, 1]           64\n",
       "│    └─Conv2d: 2-16                      [64, 32, 91, 1]           4,128\n",
       "│    └─LeakyReLU: 2-17                   [64, 32, 91, 1]           --\n",
       "│    └─BatchNorm2d: 2-18                 [64, 32, 91, 1]           64\n",
       "├─LSTM: 1-4                              [64, 91, 64]              25,088\n",
       "├─Linear: 1-5                            [64, 3]                   195\n",
       "==========================================================================================\n",
       "Total params: 50,499\n",
       "Trainable params: 50,499\n",
       "Non-trainable params: 0\n",
       "Total mult-adds (G): 1.13\n",
       "==========================================================================================\n",
       "Input size (MB): 1.02\n",
       "Forward/backward pass size (MB): 200.74\n",
       "Params size (MB): 0.20\n",
       "Estimated Total Size (MB): 201.96\n",
       "=========================================================================================="
      ]
     },
     "execution_count": 11,
     "metadata": {},
     "output_type": "execute_result"
    }
   ],
   "source": [
    "summary(model, (64, 1, 100, 40))"
   ]
  },
  {
   "cell_type": "code",
   "execution_count": 12,
   "metadata": {},
   "outputs": [
    {
     "name": "stderr",
     "output_type": "stream",
     "text": [
      "  2%|▏         | 1/50 [00:07<05:50,  7.15s/it]"
     ]
    },
    {
     "name": "stdout",
     "output_type": "stream",
     "text": [
      "model saved\n",
      "Epoch 1/50, Train Loss: 1.0709,           Validation Loss: 1.0545, Duration: 0:00:07.145034, Best Val Epoch: 0\n"
     ]
    },
    {
     "name": "stderr",
     "output_type": "stream",
     "text": [
      "  4%|▍         | 2/50 [00:14<05:37,  7.04s/it]"
     ]
    },
    {
     "name": "stdout",
     "output_type": "stream",
     "text": [
      "model saved\n",
      "Epoch 2/50, Train Loss: 1.0554,           Validation Loss: 1.0539, Duration: 0:00:06.958972, Best Val Epoch: 1\n"
     ]
    },
    {
     "name": "stderr",
     "output_type": "stream",
     "text": [
      "  6%|▌         | 3/50 [00:21<05:29,  7.02s/it]"
     ]
    },
    {
     "name": "stdout",
     "output_type": "stream",
     "text": [
      "model saved\n",
      "Epoch 3/50, Train Loss: 1.0543,           Validation Loss: 1.0537, Duration: 0:00:06.994427, Best Val Epoch: 2\n"
     ]
    },
    {
     "name": "stderr",
     "output_type": "stream",
     "text": [
      "  8%|▊         | 4/50 [00:28<05:24,  7.06s/it]"
     ]
    },
    {
     "name": "stdout",
     "output_type": "stream",
     "text": [
      "model saved\n",
      "Epoch 4/50, Train Loss: 1.0512,           Validation Loss: 1.0504, Duration: 0:00:07.135409, Best Val Epoch: 3\n"
     ]
    },
    {
     "name": "stderr",
     "output_type": "stream",
     "text": [
      " 10%|█         | 5/50 [00:35<05:18,  7.08s/it]"
     ]
    },
    {
     "name": "stdout",
     "output_type": "stream",
     "text": [
      "model saved\n",
      "Epoch 5/50, Train Loss: 1.0437,           Validation Loss: 1.0455, Duration: 0:00:07.097705, Best Val Epoch: 4\n"
     ]
    },
    {
     "name": "stderr",
     "output_type": "stream",
     "text": [
      " 12%|█▏        | 6/50 [00:42<05:10,  7.07s/it]"
     ]
    },
    {
     "name": "stdout",
     "output_type": "stream",
     "text": [
      "model saved\n",
      "Epoch 6/50, Train Loss: 1.0365,           Validation Loss: 1.0450, Duration: 0:00:07.045897, Best Val Epoch: 5\n"
     ]
    },
    {
     "name": "stderr",
     "output_type": "stream",
     "text": [
      " 14%|█▍        | 7/50 [00:49<05:03,  7.07s/it]"
     ]
    },
    {
     "name": "stdout",
     "output_type": "stream",
     "text": [
      "Epoch 7/50, Train Loss: 1.0299,           Validation Loss: 1.0464, Duration: 0:00:07.069054, Best Val Epoch: 5\n"
     ]
    },
    {
     "name": "stderr",
     "output_type": "stream",
     "text": [
      " 16%|█▌        | 8/50 [00:56<04:58,  7.10s/it]"
     ]
    },
    {
     "name": "stdout",
     "output_type": "stream",
     "text": [
      "Epoch 8/50, Train Loss: 1.0234,           Validation Loss: 1.0486, Duration: 0:00:07.167104, Best Val Epoch: 5\n"
     ]
    },
    {
     "name": "stderr",
     "output_type": "stream",
     "text": [
      " 18%|█▊        | 9/50 [01:03<04:51,  7.10s/it]"
     ]
    },
    {
     "name": "stdout",
     "output_type": "stream",
     "text": [
      "Epoch 9/50, Train Loss: 1.0167,           Validation Loss: 1.0514, Duration: 0:00:07.106840, Best Val Epoch: 5\n"
     ]
    },
    {
     "name": "stderr",
     "output_type": "stream",
     "text": [
      " 20%|██        | 10/50 [01:10<04:44,  7.11s/it]"
     ]
    },
    {
     "name": "stdout",
     "output_type": "stream",
     "text": [
      "Epoch 10/50, Train Loss: 1.0098,           Validation Loss: 1.0540, Duration: 0:00:07.130310, Best Val Epoch: 5\n"
     ]
    },
    {
     "name": "stderr",
     "output_type": "stream",
     "text": [
      " 22%|██▏       | 11/50 [01:17<04:36,  7.08s/it]"
     ]
    },
    {
     "name": "stdout",
     "output_type": "stream",
     "text": [
      "Epoch 11/50, Train Loss: 1.0020,           Validation Loss: 1.0586, Duration: 0:00:07.021829, Best Val Epoch: 5\n"
     ]
    },
    {
     "name": "stderr",
     "output_type": "stream",
     "text": [
      " 24%|██▍       | 12/50 [01:25<04:29,  7.10s/it]"
     ]
    },
    {
     "name": "stdout",
     "output_type": "stream",
     "text": [
      "Epoch 12/50, Train Loss: 0.9954,           Validation Loss: 1.0618, Duration: 0:00:07.120569, Best Val Epoch: 5\n"
     ]
    },
    {
     "name": "stderr",
     "output_type": "stream",
     "text": [
      " 26%|██▌       | 13/50 [01:32<04:22,  7.09s/it]"
     ]
    },
    {
     "name": "stdout",
     "output_type": "stream",
     "text": [
      "Epoch 13/50, Train Loss: 0.9871,           Validation Loss: 1.0652, Duration: 0:00:07.066087, Best Val Epoch: 5\n"
     ]
    },
    {
     "name": "stderr",
     "output_type": "stream",
     "text": [
      " 28%|██▊       | 14/50 [01:38<04:12,  7.03s/it]"
     ]
    },
    {
     "name": "stdout",
     "output_type": "stream",
     "text": [
      "Epoch 14/50, Train Loss: 0.9805,           Validation Loss: 1.0690, Duration: 0:00:06.885078, Best Val Epoch: 5\n"
     ]
    },
    {
     "name": "stderr",
     "output_type": "stream",
     "text": [
      " 30%|███       | 15/50 [01:45<04:03,  6.95s/it]"
     ]
    },
    {
     "name": "stdout",
     "output_type": "stream",
     "text": [
      "Epoch 15/50, Train Loss: 0.9737,           Validation Loss: 1.0705, Duration: 0:00:06.769825, Best Val Epoch: 5\n"
     ]
    },
    {
     "name": "stderr",
     "output_type": "stream",
     "text": [
      " 32%|███▏      | 16/50 [01:52<03:54,  6.89s/it]"
     ]
    },
    {
     "name": "stdout",
     "output_type": "stream",
     "text": [
      "Epoch 16/50, Train Loss: 0.9663,           Validation Loss: 1.0742, Duration: 0:00:06.757147, Best Val Epoch: 5\n"
     ]
    },
    {
     "name": "stderr",
     "output_type": "stream",
     "text": [
      " 34%|███▍      | 17/50 [01:59<03:46,  6.86s/it]"
     ]
    },
    {
     "name": "stdout",
     "output_type": "stream",
     "text": [
      "Epoch 17/50, Train Loss: 0.9597,           Validation Loss: 1.0779, Duration: 0:00:06.783706, Best Val Epoch: 5\n"
     ]
    },
    {
     "name": "stderr",
     "output_type": "stream",
     "text": [
      " 36%|███▌      | 18/50 [02:06<03:39,  6.87s/it]"
     ]
    },
    {
     "name": "stdout",
     "output_type": "stream",
     "text": [
      "Epoch 18/50, Train Loss: 0.9521,           Validation Loss: 1.0793, Duration: 0:00:06.903517, Best Val Epoch: 5\n"
     ]
    },
    {
     "name": "stderr",
     "output_type": "stream",
     "text": [
      " 38%|███▊      | 19/50 [02:13<03:32,  6.86s/it]"
     ]
    },
    {
     "name": "stdout",
     "output_type": "stream",
     "text": [
      "Epoch 19/50, Train Loss: 0.9463,           Validation Loss: 1.0809, Duration: 0:00:06.841652, Best Val Epoch: 5\n"
     ]
    },
    {
     "name": "stderr",
     "output_type": "stream",
     "text": [
      " 40%|████      | 20/50 [02:19<03:26,  6.87s/it]"
     ]
    },
    {
     "name": "stdout",
     "output_type": "stream",
     "text": [
      "Epoch 20/50, Train Loss: 0.9397,           Validation Loss: 1.0878, Duration: 0:00:06.880293, Best Val Epoch: 5\n"
     ]
    },
    {
     "name": "stderr",
     "output_type": "stream",
     "text": [
      " 42%|████▏     | 21/50 [02:26<03:20,  6.92s/it]"
     ]
    },
    {
     "name": "stdout",
     "output_type": "stream",
     "text": [
      "Epoch 21/50, Train Loss: 0.9344,           Validation Loss: 1.0883, Duration: 0:00:07.048345, Best Val Epoch: 5\n"
     ]
    },
    {
     "name": "stderr",
     "output_type": "stream",
     "text": [
      " 44%|████▍     | 22/50 [02:34<03:15,  6.96s/it]"
     ]
    },
    {
     "name": "stdout",
     "output_type": "stream",
     "text": [
      "Epoch 22/50, Train Loss: 0.9281,           Validation Loss: 1.0904, Duration: 0:00:07.059939, Best Val Epoch: 5\n"
     ]
    },
    {
     "name": "stderr",
     "output_type": "stream",
     "text": [
      " 46%|████▌     | 23/50 [02:41<03:08,  6.98s/it]"
     ]
    },
    {
     "name": "stdout",
     "output_type": "stream",
     "text": [
      "Epoch 23/50, Train Loss: 0.9229,           Validation Loss: 1.0924, Duration: 0:00:07.025449, Best Val Epoch: 5\n"
     ]
    },
    {
     "name": "stderr",
     "output_type": "stream",
     "text": [
      " 48%|████▊     | 24/50 [02:48<03:02,  7.01s/it]"
     ]
    },
    {
     "name": "stdout",
     "output_type": "stream",
     "text": [
      "Epoch 24/50, Train Loss: 0.9179,           Validation Loss: 1.0942, Duration: 0:00:07.067906, Best Val Epoch: 5\n"
     ]
    },
    {
     "name": "stderr",
     "output_type": "stream",
     "text": [
      " 50%|█████     | 25/50 [02:55<02:55,  7.02s/it]"
     ]
    },
    {
     "name": "stdout",
     "output_type": "stream",
     "text": [
      "Epoch 25/50, Train Loss: 0.9123,           Validation Loss: 1.0946, Duration: 0:00:07.032223, Best Val Epoch: 5\n"
     ]
    },
    {
     "name": "stderr",
     "output_type": "stream",
     "text": [
      " 52%|█████▏    | 26/50 [03:02<02:48,  7.03s/it]"
     ]
    },
    {
     "name": "stdout",
     "output_type": "stream",
     "text": [
      "Epoch 26/50, Train Loss: 0.9093,           Validation Loss: 1.0976, Duration: 0:00:07.065248, Best Val Epoch: 5\n"
     ]
    },
    {
     "name": "stderr",
     "output_type": "stream",
     "text": [
      " 54%|█████▍    | 27/50 [03:09<02:41,  7.04s/it]"
     ]
    },
    {
     "name": "stdout",
     "output_type": "stream",
     "text": [
      "Epoch 27/50, Train Loss: 0.9043,           Validation Loss: 1.0982, Duration: 0:00:07.053652, Best Val Epoch: 5\n"
     ]
    },
    {
     "name": "stderr",
     "output_type": "stream",
     "text": [
      " 56%|█████▌    | 28/50 [03:16<02:35,  7.07s/it]"
     ]
    },
    {
     "name": "stdout",
     "output_type": "stream",
     "text": [
      "Epoch 28/50, Train Loss: 0.8998,           Validation Loss: 1.0996, Duration: 0:00:07.129627, Best Val Epoch: 5\n"
     ]
    },
    {
     "name": "stderr",
     "output_type": "stream",
     "text": [
      " 58%|█████▊    | 29/50 [03:23<02:28,  7.09s/it]"
     ]
    },
    {
     "name": "stdout",
     "output_type": "stream",
     "text": [
      "Epoch 29/50, Train Loss: 0.8968,           Validation Loss: 1.1002, Duration: 0:00:07.148861, Best Val Epoch: 5\n"
     ]
    },
    {
     "name": "stderr",
     "output_type": "stream",
     "text": [
      " 60%|██████    | 30/50 [03:30<02:21,  7.09s/it]"
     ]
    },
    {
     "name": "stdout",
     "output_type": "stream",
     "text": [
      "Epoch 30/50, Train Loss: 0.8935,           Validation Loss: 1.0979, Duration: 0:00:07.101448, Best Val Epoch: 5\n"
     ]
    },
    {
     "name": "stderr",
     "output_type": "stream",
     "text": [
      " 62%|██████▏   | 31/50 [03:37<02:14,  7.08s/it]"
     ]
    },
    {
     "name": "stdout",
     "output_type": "stream",
     "text": [
      "Epoch 31/50, Train Loss: 0.8905,           Validation Loss: 1.0979, Duration: 0:00:07.055009, Best Val Epoch: 5\n"
     ]
    },
    {
     "name": "stderr",
     "output_type": "stream",
     "text": [
      " 64%|██████▍   | 32/50 [03:44<02:05,  6.99s/it]"
     ]
    },
    {
     "name": "stdout",
     "output_type": "stream",
     "text": [
      "Epoch 32/50, Train Loss: 0.8868,           Validation Loss: 1.0997, Duration: 0:00:06.771065, Best Val Epoch: 5\n"
     ]
    },
    {
     "name": "stderr",
     "output_type": "stream",
     "text": [
      " 66%|██████▌   | 33/50 [03:51<01:57,  6.91s/it]"
     ]
    },
    {
     "name": "stdout",
     "output_type": "stream",
     "text": [
      "Epoch 33/50, Train Loss: 0.8844,           Validation Loss: 1.1021, Duration: 0:00:06.738149, Best Val Epoch: 5\n"
     ]
    },
    {
     "name": "stderr",
     "output_type": "stream",
     "text": [
      " 68%|██████▊   | 34/50 [03:57<01:49,  6.86s/it]"
     ]
    },
    {
     "name": "stdout",
     "output_type": "stream",
     "text": [
      "Epoch 34/50, Train Loss: 0.8818,           Validation Loss: 1.1010, Duration: 0:00:06.735451, Best Val Epoch: 5\n"
     ]
    },
    {
     "name": "stderr",
     "output_type": "stream",
     "text": [
      " 70%|███████   | 35/50 [04:04<01:42,  6.86s/it]"
     ]
    },
    {
     "name": "stdout",
     "output_type": "stream",
     "text": [
      "Epoch 35/50, Train Loss: 0.8797,           Validation Loss: 1.1017, Duration: 0:00:06.841449, Best Val Epoch: 5\n"
     ]
    },
    {
     "name": "stderr",
     "output_type": "stream",
     "text": [
      " 72%|███████▏  | 36/50 [04:11<01:35,  6.84s/it]"
     ]
    },
    {
     "name": "stdout",
     "output_type": "stream",
     "text": [
      "Epoch 36/50, Train Loss: 0.8767,           Validation Loss: 1.1041, Duration: 0:00:06.809484, Best Val Epoch: 5\n"
     ]
    },
    {
     "name": "stderr",
     "output_type": "stream",
     "text": [
      " 74%|███████▍  | 37/50 [04:18<01:29,  6.89s/it]"
     ]
    },
    {
     "name": "stdout",
     "output_type": "stream",
     "text": [
      "Epoch 37/50, Train Loss: 0.8749,           Validation Loss: 1.1023, Duration: 0:00:07.013063, Best Val Epoch: 5\n"
     ]
    },
    {
     "name": "stderr",
     "output_type": "stream",
     "text": [
      " 76%|███████▌  | 38/50 [04:25<01:22,  6.86s/it]"
     ]
    },
    {
     "name": "stdout",
     "output_type": "stream",
     "text": [
      "Epoch 38/50, Train Loss: 0.8722,           Validation Loss: 1.1034, Duration: 0:00:06.769347, Best Val Epoch: 5\n"
     ]
    },
    {
     "name": "stderr",
     "output_type": "stream",
     "text": [
      " 78%|███████▊  | 39/50 [04:32<01:15,  6.83s/it]"
     ]
    },
    {
     "name": "stdout",
     "output_type": "stream",
     "text": [
      "Epoch 39/50, Train Loss: 0.8712,           Validation Loss: 1.1056, Duration: 0:00:06.758711, Best Val Epoch: 5\n"
     ]
    },
    {
     "name": "stderr",
     "output_type": "stream",
     "text": [
      " 80%|████████  | 40/50 [04:39<01:08,  6.88s/it]"
     ]
    },
    {
     "name": "stdout",
     "output_type": "stream",
     "text": [
      "Epoch 40/50, Train Loss: 0.8692,           Validation Loss: 1.1050, Duration: 0:00:06.989633, Best Val Epoch: 5\n"
     ]
    },
    {
     "name": "stderr",
     "output_type": "stream",
     "text": [
      " 82%|████████▏ | 41/50 [04:45<01:01,  6.86s/it]"
     ]
    },
    {
     "name": "stdout",
     "output_type": "stream",
     "text": [
      "Epoch 41/50, Train Loss: 0.8675,           Validation Loss: 1.1050, Duration: 0:00:06.835466, Best Val Epoch: 5\n"
     ]
    },
    {
     "name": "stderr",
     "output_type": "stream",
     "text": [
      " 84%|████████▍ | 42/50 [04:52<00:54,  6.87s/it]"
     ]
    },
    {
     "name": "stdout",
     "output_type": "stream",
     "text": [
      "Epoch 42/50, Train Loss: 0.8669,           Validation Loss: 1.1059, Duration: 0:00:06.890411, Best Val Epoch: 5\n"
     ]
    },
    {
     "name": "stderr",
     "output_type": "stream",
     "text": [
      " 86%|████████▌ | 43/50 [04:59<00:48,  6.89s/it]"
     ]
    },
    {
     "name": "stdout",
     "output_type": "stream",
     "text": [
      "Epoch 43/50, Train Loss: 0.8648,           Validation Loss: 1.1049, Duration: 0:00:06.917790, Best Val Epoch: 5\n"
     ]
    },
    {
     "name": "stderr",
     "output_type": "stream",
     "text": [
      " 88%|████████▊ | 44/50 [05:06<00:41,  6.90s/it]"
     ]
    },
    {
     "name": "stdout",
     "output_type": "stream",
     "text": [
      "Epoch 44/50, Train Loss: 0.8630,           Validation Loss: 1.1063, Duration: 0:00:06.920424, Best Val Epoch: 5\n"
     ]
    },
    {
     "name": "stderr",
     "output_type": "stream",
     "text": [
      " 90%|█████████ | 45/50 [05:13<00:34,  6.97s/it]"
     ]
    },
    {
     "name": "stdout",
     "output_type": "stream",
     "text": [
      "Epoch 45/50, Train Loss: 0.8627,           Validation Loss: 1.1043, Duration: 0:00:07.128547, Best Val Epoch: 5\n"
     ]
    },
    {
     "name": "stderr",
     "output_type": "stream",
     "text": [
      " 92%|█████████▏| 46/50 [05:20<00:27,  6.96s/it]"
     ]
    },
    {
     "name": "stdout",
     "output_type": "stream",
     "text": [
      "Epoch 46/50, Train Loss: 0.8622,           Validation Loss: 1.1055, Duration: 0:00:06.949453, Best Val Epoch: 5\n"
     ]
    },
    {
     "name": "stderr",
     "output_type": "stream",
     "text": [
      " 94%|█████████▍| 47/50 [05:27<00:20,  6.93s/it]"
     ]
    },
    {
     "name": "stdout",
     "output_type": "stream",
     "text": [
      "Epoch 47/50, Train Loss: 0.8604,           Validation Loss: 1.1088, Duration: 0:00:06.852676, Best Val Epoch: 5\n"
     ]
    },
    {
     "name": "stderr",
     "output_type": "stream",
     "text": [
      " 96%|█████████▌| 48/50 [05:34<00:13,  6.93s/it]"
     ]
    },
    {
     "name": "stdout",
     "output_type": "stream",
     "text": [
      "Epoch 48/50, Train Loss: 0.8593,           Validation Loss: 1.1109, Duration: 0:00:06.932093, Best Val Epoch: 5\n"
     ]
    },
    {
     "name": "stderr",
     "output_type": "stream",
     "text": [
      " 98%|█████████▊| 49/50 [05:41<00:06,  6.90s/it]"
     ]
    },
    {
     "name": "stdout",
     "output_type": "stream",
     "text": [
      "Epoch 49/50, Train Loss: 0.8587,           Validation Loss: 1.1085, Duration: 0:00:06.835437, Best Val Epoch: 5\n"
     ]
    },
    {
     "name": "stderr",
     "output_type": "stream",
     "text": [
      "100%|██████████| 50/50 [05:48<00:00,  6.96s/it]"
     ]
    },
    {
     "name": "stdout",
     "output_type": "stream",
     "text": [
      "Epoch 50/50, Train Loss: 0.8579,           Validation Loss: 1.1092, Duration: 0:00:06.822841, Best Val Epoch: 5\n"
     ]
    },
    {
     "name": "stderr",
     "output_type": "stream",
     "text": [
      "\n"
     ]
    }
   ],
   "source": [
    "criterion = nn.CrossEntropyLoss()\n",
    "optimizer = torch.optim.Adam(model.parameters(), lr=0.0001)\n",
    "train_losses, val_losses = train.batch_gd(model, criterion, optimizer, train_loader, val_loader, epochs=50, device=device, savedModelName='./savedModels_randomOrder/LSTM')"
   ]
  },
  {
   "cell_type": "code",
   "execution_count": 13,
   "metadata": {},
   "outputs": [
    {
     "name": "stdout",
     "output_type": "stream",
     "text": [
      "              precision    recall  f1-score   support\n",
      "\n",
      "           0     0.3654    0.5547    0.4406      9558\n",
      "           1     0.0000    0.0000    0.0000      9503\n",
      "           2     0.3470    0.5274    0.4186      8756\n",
      "\n",
      "    accuracy                         0.3566     27817\n",
      "   macro avg     0.2375    0.3607    0.2864     27817\n",
      "weighted avg     0.2348    0.3566    0.2832     27817\n",
      "\n"
     ]
    },
    {
     "name": "stderr",
     "output_type": "stream",
     "text": [
      "/cloud/myenv/lib/python3.7/site-packages/sklearn/metrics/_classification.py:1318: UndefinedMetricWarning: Precision and F-score are ill-defined and being set to 0.0 in labels with no predicted samples. Use `zero_division` parameter to control this behavior.\n",
      "  _warn_prf(average, modifier, msg_start, len(result))\n",
      "/cloud/myenv/lib/python3.7/site-packages/sklearn/metrics/_classification.py:1318: UndefinedMetricWarning: Precision and F-score are ill-defined and being set to 0.0 in labels with no predicted samples. Use `zero_division` parameter to control this behavior.\n",
      "  _warn_prf(average, modifier, msg_start, len(result))\n",
      "/cloud/myenv/lib/python3.7/site-packages/sklearn/metrics/_classification.py:1318: UndefinedMetricWarning: Precision and F-score are ill-defined and being set to 0.0 in labels with no predicted samples. Use `zero_division` parameter to control this behavior.\n",
      "  _warn_prf(average, modifier, msg_start, len(result))\n"
     ]
    }
   ],
   "source": [
    "model = torch.load('./savedModels_randomOrder/LSTM')\n",
    "all_targets, all_predictions = p.getReport(test_loader, model, device)"
   ]
  },
  {
   "cell_type": "markdown",
   "metadata": {},
   "source": [
    "# 结果表明直接使用之前的Y效果很差，所以需要将Y重构"
   ]
  },
  {
   "cell_type": "markdown",
   "metadata": {},
   "source": [
    "## 计算出midPrice变化的各个离散值 按照1：1：1的比值将他们划分为3类 "
   ]
  },
  {
   "cell_type": "code",
   "execution_count": 3,
   "metadata": {},
   "outputs": [],
   "source": [
    "traint7path = '../../data/random_processed/stock0/randomOrder_train7_part0.csv'\n",
    "test7path = '../../data/random_processed/stock0/randomOrder_test7_part0.csv'\n",
    "test8path = '../../data/random_processed/stock0/randomOrder_test8_part0.csv'\n",
    "test9path = '../../data/random_processed/stock0/randomOrder_test9_part0.csv'\n",
    "df1 = pd.read_csv(traint7path)\n",
    "df2 = pd.read_csv(test7path)\n",
    "df3 = pd.read_csv(test8path)\n",
    "df4 = pd.read_csv(test9path)\n"
   ]
  },
  {
   "cell_type": "code",
   "execution_count": 5,
   "metadata": {},
   "outputs": [
    {
     "data": {
      "text/html": [
       "<div>\n",
       "<style scoped>\n",
       "    .dataframe tbody tr th:only-of-type {\n",
       "        vertical-align: middle;\n",
       "    }\n",
       "\n",
       "    .dataframe tbody tr th {\n",
       "        vertical-align: top;\n",
       "    }\n",
       "\n",
       "    .dataframe thead th {\n",
       "        text-align: right;\n",
       "    }\n",
       "</style>\n",
       "<table border=\"1\" class=\"dataframe\">\n",
       "  <thead>\n",
       "    <tr style=\"text-align: right;\">\n",
       "      <th></th>\n",
       "      <th>0</th>\n",
       "      <th>1</th>\n",
       "      <th>2</th>\n",
       "      <th>3</th>\n",
       "      <th>4</th>\n",
       "      <th>5</th>\n",
       "      <th>6</th>\n",
       "      <th>7</th>\n",
       "      <th>8</th>\n",
       "      <th>9</th>\n",
       "      <th>...</th>\n",
       "      <th>140</th>\n",
       "      <th>141</th>\n",
       "      <th>142</th>\n",
       "      <th>143</th>\n",
       "      <th>144</th>\n",
       "      <th>145</th>\n",
       "      <th>146</th>\n",
       "      <th>147</th>\n",
       "      <th>148</th>\n",
       "      <th>midprice</th>\n",
       "    </tr>\n",
       "  </thead>\n",
       "  <tbody>\n",
       "    <tr>\n",
       "      <th>0</th>\n",
       "      <td>0.3466</td>\n",
       "      <td>0.00100</td>\n",
       "      <td>0.3455</td>\n",
       "      <td>0.00369</td>\n",
       "      <td>0.3467</td>\n",
       "      <td>0.00702</td>\n",
       "      <td>0.3450</td>\n",
       "      <td>0.00200</td>\n",
       "      <td>0.3468</td>\n",
       "      <td>0.00200</td>\n",
       "      <td>...</td>\n",
       "      <td>0.250617</td>\n",
       "      <td>0.0</td>\n",
       "      <td>0.0</td>\n",
       "      <td>0.0</td>\n",
       "      <td>3.0</td>\n",
       "      <td>2.0</td>\n",
       "      <td>3.0</td>\n",
       "      <td>3.0</td>\n",
       "      <td>1.0</td>\n",
       "      <td>0.34605</td>\n",
       "    </tr>\n",
       "    <tr>\n",
       "      <th>1</th>\n",
       "      <td>0.1730</td>\n",
       "      <td>0.06079</td>\n",
       "      <td>0.1727</td>\n",
       "      <td>0.03289</td>\n",
       "      <td>0.1731</td>\n",
       "      <td>0.04800</td>\n",
       "      <td>0.1726</td>\n",
       "      <td>0.02355</td>\n",
       "      <td>0.1732</td>\n",
       "      <td>0.05670</td>\n",
       "      <td>...</td>\n",
       "      <td>0.031428</td>\n",
       "      <td>0.0</td>\n",
       "      <td>0.0</td>\n",
       "      <td>0.0</td>\n",
       "      <td>2.0</td>\n",
       "      <td>2.0</td>\n",
       "      <td>2.0</td>\n",
       "      <td>3.0</td>\n",
       "      <td>1.0</td>\n",
       "      <td>0.17285</td>\n",
       "    </tr>\n",
       "    <tr>\n",
       "      <th>2</th>\n",
       "      <td>0.1261</td>\n",
       "      <td>0.01511</td>\n",
       "      <td>0.1260</td>\n",
       "      <td>0.02800</td>\n",
       "      <td>0.1262</td>\n",
       "      <td>0.01216</td>\n",
       "      <td>0.1259</td>\n",
       "      <td>0.04169</td>\n",
       "      <td>0.1263</td>\n",
       "      <td>0.02200</td>\n",
       "      <td>...</td>\n",
       "      <td>0.099537</td>\n",
       "      <td>0.0</td>\n",
       "      <td>0.0</td>\n",
       "      <td>0.0</td>\n",
       "      <td>1.0</td>\n",
       "      <td>1.0</td>\n",
       "      <td>1.0</td>\n",
       "      <td>1.0</td>\n",
       "      <td>3.0</td>\n",
       "      <td>0.12605</td>\n",
       "    </tr>\n",
       "    <tr>\n",
       "      <th>3</th>\n",
       "      <td>0.1304</td>\n",
       "      <td>0.02000</td>\n",
       "      <td>0.1302</td>\n",
       "      <td>0.01092</td>\n",
       "      <td>0.1305</td>\n",
       "      <td>0.03820</td>\n",
       "      <td>0.1301</td>\n",
       "      <td>0.05760</td>\n",
       "      <td>0.1306</td>\n",
       "      <td>0.01300</td>\n",
       "      <td>...</td>\n",
       "      <td>0.005489</td>\n",
       "      <td>0.0</td>\n",
       "      <td>0.0</td>\n",
       "      <td>0.0</td>\n",
       "      <td>2.0</td>\n",
       "      <td>2.0</td>\n",
       "      <td>2.0</td>\n",
       "      <td>1.0</td>\n",
       "      <td>1.0</td>\n",
       "      <td>0.13030</td>\n",
       "    </tr>\n",
       "    <tr>\n",
       "      <th>4</th>\n",
       "      <td>0.1264</td>\n",
       "      <td>0.00318</td>\n",
       "      <td>0.1262</td>\n",
       "      <td>0.01770</td>\n",
       "      <td>0.1265</td>\n",
       "      <td>0.00500</td>\n",
       "      <td>0.1261</td>\n",
       "      <td>0.01650</td>\n",
       "      <td>0.1266</td>\n",
       "      <td>0.03910</td>\n",
       "      <td>...</td>\n",
       "      <td>0.001936</td>\n",
       "      <td>0.0</td>\n",
       "      <td>0.0</td>\n",
       "      <td>0.0</td>\n",
       "      <td>2.0</td>\n",
       "      <td>3.0</td>\n",
       "      <td>3.0</td>\n",
       "      <td>3.0</td>\n",
       "      <td>3.0</td>\n",
       "      <td>0.12630</td>\n",
       "    </tr>\n",
       "    <tr>\n",
       "      <th>...</th>\n",
       "      <td>...</td>\n",
       "      <td>...</td>\n",
       "      <td>...</td>\n",
       "      <td>...</td>\n",
       "      <td>...</td>\n",
       "      <td>...</td>\n",
       "      <td>...</td>\n",
       "      <td>...</td>\n",
       "      <td>...</td>\n",
       "      <td>...</td>\n",
       "      <td>...</td>\n",
       "      <td>...</td>\n",
       "      <td>...</td>\n",
       "      <td>...</td>\n",
       "      <td>...</td>\n",
       "      <td>...</td>\n",
       "      <td>...</td>\n",
       "      <td>...</td>\n",
       "      <td>...</td>\n",
       "      <td>...</td>\n",
       "      <td>...</td>\n",
       "    </tr>\n",
       "    <tr>\n",
       "      <th>50945</th>\n",
       "      <td>0.3503</td>\n",
       "      <td>0.01471</td>\n",
       "      <td>0.3500</td>\n",
       "      <td>0.00171</td>\n",
       "      <td>0.3505</td>\n",
       "      <td>0.00100</td>\n",
       "      <td>0.3495</td>\n",
       "      <td>0.01657</td>\n",
       "      <td>0.3506</td>\n",
       "      <td>0.00450</td>\n",
       "      <td>...</td>\n",
       "      <td>0.149009</td>\n",
       "      <td>0.0</td>\n",
       "      <td>0.0</td>\n",
       "      <td>0.0</td>\n",
       "      <td>2.0</td>\n",
       "      <td>2.0</td>\n",
       "      <td>2.0</td>\n",
       "      <td>2.0</td>\n",
       "      <td>2.0</td>\n",
       "      <td>0.35015</td>\n",
       "    </tr>\n",
       "    <tr>\n",
       "      <th>50946</th>\n",
       "      <td>0.2681</td>\n",
       "      <td>0.00100</td>\n",
       "      <td>0.2673</td>\n",
       "      <td>0.00076</td>\n",
       "      <td>0.2683</td>\n",
       "      <td>0.00388</td>\n",
       "      <td>0.2672</td>\n",
       "      <td>0.01136</td>\n",
       "      <td>0.2684</td>\n",
       "      <td>0.00267</td>\n",
       "      <td>...</td>\n",
       "      <td>0.127042</td>\n",
       "      <td>0.0</td>\n",
       "      <td>0.0</td>\n",
       "      <td>0.0</td>\n",
       "      <td>1.0</td>\n",
       "      <td>1.0</td>\n",
       "      <td>1.0</td>\n",
       "      <td>3.0</td>\n",
       "      <td>1.0</td>\n",
       "      <td>0.26770</td>\n",
       "    </tr>\n",
       "    <tr>\n",
       "      <th>50947</th>\n",
       "      <td>0.3524</td>\n",
       "      <td>0.00300</td>\n",
       "      <td>0.3515</td>\n",
       "      <td>0.00200</td>\n",
       "      <td>0.3525</td>\n",
       "      <td>0.00293</td>\n",
       "      <td>0.3514</td>\n",
       "      <td>0.00690</td>\n",
       "      <td>0.3529</td>\n",
       "      <td>0.00490</td>\n",
       "      <td>...</td>\n",
       "      <td>0.059051</td>\n",
       "      <td>0.0</td>\n",
       "      <td>0.0</td>\n",
       "      <td>0.0</td>\n",
       "      <td>2.0</td>\n",
       "      <td>1.0</td>\n",
       "      <td>1.0</td>\n",
       "      <td>2.0</td>\n",
       "      <td>1.0</td>\n",
       "      <td>0.35195</td>\n",
       "    </tr>\n",
       "    <tr>\n",
       "      <th>50948</th>\n",
       "      <td>0.1311</td>\n",
       "      <td>0.00288</td>\n",
       "      <td>0.1310</td>\n",
       "      <td>0.01471</td>\n",
       "      <td>0.1312</td>\n",
       "      <td>0.03018</td>\n",
       "      <td>0.1309</td>\n",
       "      <td>0.01768</td>\n",
       "      <td>0.1313</td>\n",
       "      <td>0.01500</td>\n",
       "      <td>...</td>\n",
       "      <td>0.001280</td>\n",
       "      <td>0.0</td>\n",
       "      <td>0.0</td>\n",
       "      <td>0.0</td>\n",
       "      <td>2.0</td>\n",
       "      <td>2.0</td>\n",
       "      <td>2.0</td>\n",
       "      <td>3.0</td>\n",
       "      <td>3.0</td>\n",
       "      <td>0.13105</td>\n",
       "    </tr>\n",
       "    <tr>\n",
       "      <th>50949</th>\n",
       "      <td>0.1267</td>\n",
       "      <td>0.01248</td>\n",
       "      <td>0.1263</td>\n",
       "      <td>0.01720</td>\n",
       "      <td>0.1268</td>\n",
       "      <td>0.01800</td>\n",
       "      <td>0.1262</td>\n",
       "      <td>0.01593</td>\n",
       "      <td>0.1269</td>\n",
       "      <td>0.02373</td>\n",
       "      <td>...</td>\n",
       "      <td>0.008547</td>\n",
       "      <td>0.0</td>\n",
       "      <td>0.0</td>\n",
       "      <td>0.0</td>\n",
       "      <td>2.0</td>\n",
       "      <td>1.0</td>\n",
       "      <td>1.0</td>\n",
       "      <td>1.0</td>\n",
       "      <td>2.0</td>\n",
       "      <td>0.12650</td>\n",
       "    </tr>\n",
       "  </tbody>\n",
       "</table>\n",
       "<p>50950 rows × 150 columns</p>\n",
       "</div>"
      ],
      "text/plain": [
       "            0        1       2        3       4        5       6        7  \\\n",
       "0      0.3466  0.00100  0.3455  0.00369  0.3467  0.00702  0.3450  0.00200   \n",
       "1      0.1730  0.06079  0.1727  0.03289  0.1731  0.04800  0.1726  0.02355   \n",
       "2      0.1261  0.01511  0.1260  0.02800  0.1262  0.01216  0.1259  0.04169   \n",
       "3      0.1304  0.02000  0.1302  0.01092  0.1305  0.03820  0.1301  0.05760   \n",
       "4      0.1264  0.00318  0.1262  0.01770  0.1265  0.00500  0.1261  0.01650   \n",
       "...       ...      ...     ...      ...     ...      ...     ...      ...   \n",
       "50945  0.3503  0.01471  0.3500  0.00171  0.3505  0.00100  0.3495  0.01657   \n",
       "50946  0.2681  0.00100  0.2673  0.00076  0.2683  0.00388  0.2672  0.01136   \n",
       "50947  0.3524  0.00300  0.3515  0.00200  0.3525  0.00293  0.3514  0.00690   \n",
       "50948  0.1311  0.00288  0.1310  0.01471  0.1312  0.03018  0.1309  0.01768   \n",
       "50949  0.1267  0.01248  0.1263  0.01720  0.1268  0.01800  0.1262  0.01593   \n",
       "\n",
       "            8        9  ...       140  141  142  143  144  145  146  147  148  \\\n",
       "0      0.3468  0.00200  ...  0.250617  0.0  0.0  0.0  3.0  2.0  3.0  3.0  1.0   \n",
       "1      0.1732  0.05670  ...  0.031428  0.0  0.0  0.0  2.0  2.0  2.0  3.0  1.0   \n",
       "2      0.1263  0.02200  ...  0.099537  0.0  0.0  0.0  1.0  1.0  1.0  1.0  3.0   \n",
       "3      0.1306  0.01300  ...  0.005489  0.0  0.0  0.0  2.0  2.0  2.0  1.0  1.0   \n",
       "4      0.1266  0.03910  ...  0.001936  0.0  0.0  0.0  2.0  3.0  3.0  3.0  3.0   \n",
       "...       ...      ...  ...       ...  ...  ...  ...  ...  ...  ...  ...  ...   \n",
       "50945  0.3506  0.00450  ...  0.149009  0.0  0.0  0.0  2.0  2.0  2.0  2.0  2.0   \n",
       "50946  0.2684  0.00267  ...  0.127042  0.0  0.0  0.0  1.0  1.0  1.0  3.0  1.0   \n",
       "50947  0.3529  0.00490  ...  0.059051  0.0  0.0  0.0  2.0  1.0  1.0  2.0  1.0   \n",
       "50948  0.1313  0.01500  ...  0.001280  0.0  0.0  0.0  2.0  2.0  2.0  3.0  3.0   \n",
       "50949  0.1269  0.02373  ...  0.008547  0.0  0.0  0.0  2.0  1.0  1.0  1.0  2.0   \n",
       "\n",
       "       midprice  \n",
       "0       0.34605  \n",
       "1       0.17285  \n",
       "2       0.12605  \n",
       "3       0.13030  \n",
       "4       0.12630  \n",
       "...         ...  \n",
       "50945   0.35015  \n",
       "50946   0.26770  \n",
       "50947   0.35195  \n",
       "50948   0.13105  \n",
       "50949   0.12650  \n",
       "\n",
       "[50950 rows x 150 columns]"
      ]
     },
     "execution_count": 5,
     "metadata": {},
     "output_type": "execute_result"
    }
   ],
   "source": [
    "df1['midprice'] = (df1['0']+df1['2'])/2.0\n",
    "df1"
   ]
  },
  {
   "cell_type": "code",
   "execution_count": 6,
   "metadata": {},
   "outputs": [
    {
     "data": {
      "text/plain": [
       "array([0.34605, 0.17285, 0.12605, ..., 0.35195, 0.13105, 0.1265 ])"
      ]
     },
     "execution_count": 6,
     "metadata": {},
     "output_type": "execute_result"
    }
   ],
   "source": [
    "MP_array = np.array(df1['midprice'])\n",
    "MP_array"
   ]
  },
  {
   "cell_type": "code",
   "execution_count": 10,
   "metadata": {},
   "outputs": [
    {
     "data": {
      "text/plain": [
       "0.5188999999999999"
      ]
     },
     "execution_count": 10,
     "metadata": {},
     "output_type": "execute_result"
    }
   ],
   "source": [
    "(MP_array[0:2])"
   ]
  },
  {
   "cell_type": "markdown",
   "metadata": {},
   "source": [
    "# 将每个元素替换为预测范围内的MP变化率"
   ]
  },
  {
   "cell_type": "code",
   "execution_count": 17,
   "metadata": {},
   "outputs": [],
   "source": [
    "N = len(MP_array)\n",
    "T = 10\n",
    "newArray = []\n",
    "for i in range(N):\n",
    "    # 前面大部分元素\n",
    "    if i<=N-1-T:\n",
    "        tmp = (np.mean(MP_array[i:i+T])-MP_array[i])/MP_array[i]\n",
    "        newArray.append(tmp)\n",
    "    # 对于最后一个元素 由于其没有后继 故补充0\n",
    "    elif i==N-1:\n",
    "        newArray.append(0)\n",
    "    # 尾部元素只需要计算剩下的全部值的均值即可\n",
    "    else:\n",
    "        tmp = (np.mean(MP_array[i:-1])-MP_array[i])/MP_array[i]\n",
    "        newArray.append(tmp)"
   ]
  },
  {
   "cell_type": "code",
   "execution_count": 18,
   "metadata": {},
   "outputs": [
    {
     "data": {
      "text/html": [
       "<div>\n",
       "<style scoped>\n",
       "    .dataframe tbody tr th:only-of-type {\n",
       "        vertical-align: middle;\n",
       "    }\n",
       "\n",
       "    .dataframe tbody tr th {\n",
       "        vertical-align: top;\n",
       "    }\n",
       "\n",
       "    .dataframe thead th {\n",
       "        text-align: right;\n",
       "    }\n",
       "</style>\n",
       "<table border=\"1\" class=\"dataframe\">\n",
       "  <thead>\n",
       "    <tr style=\"text-align: right;\">\n",
       "      <th></th>\n",
       "      <th>0</th>\n",
       "      <th>1</th>\n",
       "      <th>2</th>\n",
       "      <th>3</th>\n",
       "      <th>4</th>\n",
       "      <th>5</th>\n",
       "      <th>6</th>\n",
       "      <th>7</th>\n",
       "      <th>8</th>\n",
       "      <th>9</th>\n",
       "      <th>...</th>\n",
       "      <th>141</th>\n",
       "      <th>142</th>\n",
       "      <th>143</th>\n",
       "      <th>144</th>\n",
       "      <th>145</th>\n",
       "      <th>146</th>\n",
       "      <th>147</th>\n",
       "      <th>148</th>\n",
       "      <th>midprice</th>\n",
       "      <th>MPchange</th>\n",
       "    </tr>\n",
       "  </thead>\n",
       "  <tbody>\n",
       "    <tr>\n",
       "      <th>0</th>\n",
       "      <td>0.3466</td>\n",
       "      <td>0.00100</td>\n",
       "      <td>0.3455</td>\n",
       "      <td>0.00369</td>\n",
       "      <td>0.3467</td>\n",
       "      <td>0.00702</td>\n",
       "      <td>0.3450</td>\n",
       "      <td>0.00200</td>\n",
       "      <td>0.3468</td>\n",
       "      <td>0.00200</td>\n",
       "      <td>...</td>\n",
       "      <td>0.0</td>\n",
       "      <td>0.0</td>\n",
       "      <td>0.0</td>\n",
       "      <td>3.0</td>\n",
       "      <td>2.0</td>\n",
       "      <td>3.0</td>\n",
       "      <td>3.0</td>\n",
       "      <td>1.0</td>\n",
       "      <td>0.34605</td>\n",
       "      <td>-0.468747</td>\n",
       "    </tr>\n",
       "    <tr>\n",
       "      <th>1</th>\n",
       "      <td>0.1730</td>\n",
       "      <td>0.06079</td>\n",
       "      <td>0.1727</td>\n",
       "      <td>0.03289</td>\n",
       "      <td>0.1731</td>\n",
       "      <td>0.04800</td>\n",
       "      <td>0.1726</td>\n",
       "      <td>0.02355</td>\n",
       "      <td>0.1732</td>\n",
       "      <td>0.05670</td>\n",
       "      <td>...</td>\n",
       "      <td>0.0</td>\n",
       "      <td>0.0</td>\n",
       "      <td>0.0</td>\n",
       "      <td>2.0</td>\n",
       "      <td>2.0</td>\n",
       "      <td>2.0</td>\n",
       "      <td>3.0</td>\n",
       "      <td>1.0</td>\n",
       "      <td>0.17285</td>\n",
       "      <td>0.061788</td>\n",
       "    </tr>\n",
       "    <tr>\n",
       "      <th>2</th>\n",
       "      <td>0.1261</td>\n",
       "      <td>0.01511</td>\n",
       "      <td>0.1260</td>\n",
       "      <td>0.02800</td>\n",
       "      <td>0.1262</td>\n",
       "      <td>0.01216</td>\n",
       "      <td>0.1259</td>\n",
       "      <td>0.04169</td>\n",
       "      <td>0.1263</td>\n",
       "      <td>0.02200</td>\n",
       "      <td>...</td>\n",
       "      <td>0.0</td>\n",
       "      <td>0.0</td>\n",
       "      <td>0.0</td>\n",
       "      <td>1.0</td>\n",
       "      <td>1.0</td>\n",
       "      <td>1.0</td>\n",
       "      <td>1.0</td>\n",
       "      <td>3.0</td>\n",
       "      <td>0.12605</td>\n",
       "      <td>0.531813</td>\n",
       "    </tr>\n",
       "    <tr>\n",
       "      <th>3</th>\n",
       "      <td>0.1304</td>\n",
       "      <td>0.02000</td>\n",
       "      <td>0.1302</td>\n",
       "      <td>0.01092</td>\n",
       "      <td>0.1305</td>\n",
       "      <td>0.03820</td>\n",
       "      <td>0.1301</td>\n",
       "      <td>0.05760</td>\n",
       "      <td>0.1306</td>\n",
       "      <td>0.01300</td>\n",
       "      <td>...</td>\n",
       "      <td>0.0</td>\n",
       "      <td>0.0</td>\n",
       "      <td>0.0</td>\n",
       "      <td>2.0</td>\n",
       "      <td>2.0</td>\n",
       "      <td>2.0</td>\n",
       "      <td>1.0</td>\n",
       "      <td>1.0</td>\n",
       "      <td>0.13030</td>\n",
       "      <td>0.482310</td>\n",
       "    </tr>\n",
       "    <tr>\n",
       "      <th>4</th>\n",
       "      <td>0.1264</td>\n",
       "      <td>0.00318</td>\n",
       "      <td>0.1262</td>\n",
       "      <td>0.01770</td>\n",
       "      <td>0.1265</td>\n",
       "      <td>0.00500</td>\n",
       "      <td>0.1261</td>\n",
       "      <td>0.01650</td>\n",
       "      <td>0.1266</td>\n",
       "      <td>0.03910</td>\n",
       "      <td>...</td>\n",
       "      <td>0.0</td>\n",
       "      <td>0.0</td>\n",
       "      <td>0.0</td>\n",
       "      <td>2.0</td>\n",
       "      <td>3.0</td>\n",
       "      <td>3.0</td>\n",
       "      <td>3.0</td>\n",
       "      <td>3.0</td>\n",
       "      <td>0.12630</td>\n",
       "      <td>0.703919</td>\n",
       "    </tr>\n",
       "    <tr>\n",
       "      <th>...</th>\n",
       "      <td>...</td>\n",
       "      <td>...</td>\n",
       "      <td>...</td>\n",
       "      <td>...</td>\n",
       "      <td>...</td>\n",
       "      <td>...</td>\n",
       "      <td>...</td>\n",
       "      <td>...</td>\n",
       "      <td>...</td>\n",
       "      <td>...</td>\n",
       "      <td>...</td>\n",
       "      <td>...</td>\n",
       "      <td>...</td>\n",
       "      <td>...</td>\n",
       "      <td>...</td>\n",
       "      <td>...</td>\n",
       "      <td>...</td>\n",
       "      <td>...</td>\n",
       "      <td>...</td>\n",
       "      <td>...</td>\n",
       "      <td>...</td>\n",
       "    </tr>\n",
       "    <tr>\n",
       "      <th>50945</th>\n",
       "      <td>0.3503</td>\n",
       "      <td>0.01471</td>\n",
       "      <td>0.3500</td>\n",
       "      <td>0.00171</td>\n",
       "      <td>0.3505</td>\n",
       "      <td>0.00100</td>\n",
       "      <td>0.3495</td>\n",
       "      <td>0.01657</td>\n",
       "      <td>0.3506</td>\n",
       "      <td>0.00450</td>\n",
       "      <td>...</td>\n",
       "      <td>0.0</td>\n",
       "      <td>0.0</td>\n",
       "      <td>0.0</td>\n",
       "      <td>2.0</td>\n",
       "      <td>2.0</td>\n",
       "      <td>2.0</td>\n",
       "      <td>2.0</td>\n",
       "      <td>2.0</td>\n",
       "      <td>0.35015</td>\n",
       "      <td>-0.214015</td>\n",
       "    </tr>\n",
       "    <tr>\n",
       "      <th>50946</th>\n",
       "      <td>0.2681</td>\n",
       "      <td>0.00100</td>\n",
       "      <td>0.2673</td>\n",
       "      <td>0.00076</td>\n",
       "      <td>0.2683</td>\n",
       "      <td>0.00388</td>\n",
       "      <td>0.2672</td>\n",
       "      <td>0.01136</td>\n",
       "      <td>0.2684</td>\n",
       "      <td>0.00267</td>\n",
       "      <td>...</td>\n",
       "      <td>0.0</td>\n",
       "      <td>0.0</td>\n",
       "      <td>0.0</td>\n",
       "      <td>1.0</td>\n",
       "      <td>1.0</td>\n",
       "      <td>1.0</td>\n",
       "      <td>3.0</td>\n",
       "      <td>1.0</td>\n",
       "      <td>0.26770</td>\n",
       "      <td>-0.065247</td>\n",
       "    </tr>\n",
       "    <tr>\n",
       "      <th>50947</th>\n",
       "      <td>0.3524</td>\n",
       "      <td>0.00300</td>\n",
       "      <td>0.3515</td>\n",
       "      <td>0.00200</td>\n",
       "      <td>0.3525</td>\n",
       "      <td>0.00293</td>\n",
       "      <td>0.3514</td>\n",
       "      <td>0.00690</td>\n",
       "      <td>0.3529</td>\n",
       "      <td>0.00490</td>\n",
       "      <td>...</td>\n",
       "      <td>0.0</td>\n",
       "      <td>0.0</td>\n",
       "      <td>0.0</td>\n",
       "      <td>2.0</td>\n",
       "      <td>1.0</td>\n",
       "      <td>1.0</td>\n",
       "      <td>2.0</td>\n",
       "      <td>1.0</td>\n",
       "      <td>0.35195</td>\n",
       "      <td>-0.313823</td>\n",
       "    </tr>\n",
       "    <tr>\n",
       "      <th>50948</th>\n",
       "      <td>0.1311</td>\n",
       "      <td>0.00288</td>\n",
       "      <td>0.1310</td>\n",
       "      <td>0.01471</td>\n",
       "      <td>0.1312</td>\n",
       "      <td>0.03018</td>\n",
       "      <td>0.1309</td>\n",
       "      <td>0.01768</td>\n",
       "      <td>0.1313</td>\n",
       "      <td>0.01500</td>\n",
       "      <td>...</td>\n",
       "      <td>0.0</td>\n",
       "      <td>0.0</td>\n",
       "      <td>0.0</td>\n",
       "      <td>2.0</td>\n",
       "      <td>2.0</td>\n",
       "      <td>2.0</td>\n",
       "      <td>3.0</td>\n",
       "      <td>3.0</td>\n",
       "      <td>0.13105</td>\n",
       "      <td>0.000000</td>\n",
       "    </tr>\n",
       "    <tr>\n",
       "      <th>50949</th>\n",
       "      <td>0.1267</td>\n",
       "      <td>0.01248</td>\n",
       "      <td>0.1263</td>\n",
       "      <td>0.01720</td>\n",
       "      <td>0.1268</td>\n",
       "      <td>0.01800</td>\n",
       "      <td>0.1262</td>\n",
       "      <td>0.01593</td>\n",
       "      <td>0.1269</td>\n",
       "      <td>0.02373</td>\n",
       "      <td>...</td>\n",
       "      <td>0.0</td>\n",
       "      <td>0.0</td>\n",
       "      <td>0.0</td>\n",
       "      <td>2.0</td>\n",
       "      <td>1.0</td>\n",
       "      <td>1.0</td>\n",
       "      <td>1.0</td>\n",
       "      <td>2.0</td>\n",
       "      <td>0.12650</td>\n",
       "      <td>0.000000</td>\n",
       "    </tr>\n",
       "  </tbody>\n",
       "</table>\n",
       "<p>50950 rows × 151 columns</p>\n",
       "</div>"
      ],
      "text/plain": [
       "            0        1       2        3       4        5       6        7  \\\n",
       "0      0.3466  0.00100  0.3455  0.00369  0.3467  0.00702  0.3450  0.00200   \n",
       "1      0.1730  0.06079  0.1727  0.03289  0.1731  0.04800  0.1726  0.02355   \n",
       "2      0.1261  0.01511  0.1260  0.02800  0.1262  0.01216  0.1259  0.04169   \n",
       "3      0.1304  0.02000  0.1302  0.01092  0.1305  0.03820  0.1301  0.05760   \n",
       "4      0.1264  0.00318  0.1262  0.01770  0.1265  0.00500  0.1261  0.01650   \n",
       "...       ...      ...     ...      ...     ...      ...     ...      ...   \n",
       "50945  0.3503  0.01471  0.3500  0.00171  0.3505  0.00100  0.3495  0.01657   \n",
       "50946  0.2681  0.00100  0.2673  0.00076  0.2683  0.00388  0.2672  0.01136   \n",
       "50947  0.3524  0.00300  0.3515  0.00200  0.3525  0.00293  0.3514  0.00690   \n",
       "50948  0.1311  0.00288  0.1310  0.01471  0.1312  0.03018  0.1309  0.01768   \n",
       "50949  0.1267  0.01248  0.1263  0.01720  0.1268  0.01800  0.1262  0.01593   \n",
       "\n",
       "            8        9  ...  141  142  143  144  145  146  147  148  midprice  \\\n",
       "0      0.3468  0.00200  ...  0.0  0.0  0.0  3.0  2.0  3.0  3.0  1.0   0.34605   \n",
       "1      0.1732  0.05670  ...  0.0  0.0  0.0  2.0  2.0  2.0  3.0  1.0   0.17285   \n",
       "2      0.1263  0.02200  ...  0.0  0.0  0.0  1.0  1.0  1.0  1.0  3.0   0.12605   \n",
       "3      0.1306  0.01300  ...  0.0  0.0  0.0  2.0  2.0  2.0  1.0  1.0   0.13030   \n",
       "4      0.1266  0.03910  ...  0.0  0.0  0.0  2.0  3.0  3.0  3.0  3.0   0.12630   \n",
       "...       ...      ...  ...  ...  ...  ...  ...  ...  ...  ...  ...       ...   \n",
       "50945  0.3506  0.00450  ...  0.0  0.0  0.0  2.0  2.0  2.0  2.0  2.0   0.35015   \n",
       "50946  0.2684  0.00267  ...  0.0  0.0  0.0  1.0  1.0  1.0  3.0  1.0   0.26770   \n",
       "50947  0.3529  0.00490  ...  0.0  0.0  0.0  2.0  1.0  1.0  2.0  1.0   0.35195   \n",
       "50948  0.1313  0.01500  ...  0.0  0.0  0.0  2.0  2.0  2.0  3.0  3.0   0.13105   \n",
       "50949  0.1269  0.02373  ...  0.0  0.0  0.0  2.0  1.0  1.0  1.0  2.0   0.12650   \n",
       "\n",
       "       MPchange  \n",
       "0     -0.468747  \n",
       "1      0.061788  \n",
       "2      0.531813  \n",
       "3      0.482310  \n",
       "4      0.703919  \n",
       "...         ...  \n",
       "50945 -0.214015  \n",
       "50946 -0.065247  \n",
       "50947 -0.313823  \n",
       "50948  0.000000  \n",
       "50949  0.000000  \n",
       "\n",
       "[50950 rows x 151 columns]"
      ]
     },
     "execution_count": 18,
     "metadata": {},
     "output_type": "execute_result"
    }
   ],
   "source": [
    "df1['MPchange'] = np.array(newArray)\n",
    "df1"
   ]
  },
  {
   "cell_type": "markdown",
   "metadata": {},
   "source": [
    "### 找2个三分位数"
   ]
  },
  {
   "cell_type": "code",
   "execution_count": 19,
   "metadata": {},
   "outputs": [
    {
     "name": "stdout",
     "output_type": "stream",
     "text": [
      "(-0.22243820738917294, 0.4965095282925824)\n"
     ]
    }
   ],
   "source": [
    "a=np.array(df1['MPchange'])\n",
    "point1, point2 = np.percentile(a,33), np.percentile(a,66)\n",
    "print((point1,point2))"
   ]
  },
  {
   "cell_type": "code",
   "execution_count": 21,
   "metadata": {},
   "outputs": [],
   "source": [
    "def create_y(inArray, point1, point2):\n",
    "    outarray = []\n",
    "    for x in inArray:\n",
    "        if x<point1:\n",
    "            outarray.append(0)\n",
    "        elif x>point2:\n",
    "            outarray.append(2)\n",
    "        else:\n",
    "            outarray.append(1)\n",
    "    outarray = np.array(outarray)\n",
    "    return outarray"
   ]
  },
  {
   "cell_type": "code",
   "execution_count": 24,
   "metadata": {},
   "outputs": [
    {
     "data": {
      "text/html": [
       "<div>\n",
       "<style scoped>\n",
       "    .dataframe tbody tr th:only-of-type {\n",
       "        vertical-align: middle;\n",
       "    }\n",
       "\n",
       "    .dataframe tbody tr th {\n",
       "        vertical-align: top;\n",
       "    }\n",
       "\n",
       "    .dataframe thead th {\n",
       "        text-align: right;\n",
       "    }\n",
       "</style>\n",
       "<table border=\"1\" class=\"dataframe\">\n",
       "  <thead>\n",
       "    <tr style=\"text-align: right;\">\n",
       "      <th></th>\n",
       "      <th>0</th>\n",
       "      <th>1</th>\n",
       "      <th>2</th>\n",
       "      <th>3</th>\n",
       "      <th>4</th>\n",
       "      <th>5</th>\n",
       "      <th>6</th>\n",
       "      <th>7</th>\n",
       "      <th>8</th>\n",
       "      <th>9</th>\n",
       "      <th>...</th>\n",
       "      <th>142</th>\n",
       "      <th>143</th>\n",
       "      <th>144</th>\n",
       "      <th>145</th>\n",
       "      <th>146</th>\n",
       "      <th>147</th>\n",
       "      <th>148</th>\n",
       "      <th>midprice</th>\n",
       "      <th>MPchange</th>\n",
       "      <th>y10</th>\n",
       "    </tr>\n",
       "  </thead>\n",
       "  <tbody>\n",
       "    <tr>\n",
       "      <th>0</th>\n",
       "      <td>0.3466</td>\n",
       "      <td>0.00100</td>\n",
       "      <td>0.3455</td>\n",
       "      <td>0.00369</td>\n",
       "      <td>0.3467</td>\n",
       "      <td>0.00702</td>\n",
       "      <td>0.3450</td>\n",
       "      <td>0.00200</td>\n",
       "      <td>0.3468</td>\n",
       "      <td>0.00200</td>\n",
       "      <td>...</td>\n",
       "      <td>0.0</td>\n",
       "      <td>0.0</td>\n",
       "      <td>3.0</td>\n",
       "      <td>2.0</td>\n",
       "      <td>3.0</td>\n",
       "      <td>3.0</td>\n",
       "      <td>1.0</td>\n",
       "      <td>0.34605</td>\n",
       "      <td>-0.468747</td>\n",
       "      <td>0</td>\n",
       "    </tr>\n",
       "    <tr>\n",
       "      <th>1</th>\n",
       "      <td>0.1730</td>\n",
       "      <td>0.06079</td>\n",
       "      <td>0.1727</td>\n",
       "      <td>0.03289</td>\n",
       "      <td>0.1731</td>\n",
       "      <td>0.04800</td>\n",
       "      <td>0.1726</td>\n",
       "      <td>0.02355</td>\n",
       "      <td>0.1732</td>\n",
       "      <td>0.05670</td>\n",
       "      <td>...</td>\n",
       "      <td>0.0</td>\n",
       "      <td>0.0</td>\n",
       "      <td>2.0</td>\n",
       "      <td>2.0</td>\n",
       "      <td>2.0</td>\n",
       "      <td>3.0</td>\n",
       "      <td>1.0</td>\n",
       "      <td>0.17285</td>\n",
       "      <td>0.061788</td>\n",
       "      <td>1</td>\n",
       "    </tr>\n",
       "    <tr>\n",
       "      <th>2</th>\n",
       "      <td>0.1261</td>\n",
       "      <td>0.01511</td>\n",
       "      <td>0.1260</td>\n",
       "      <td>0.02800</td>\n",
       "      <td>0.1262</td>\n",
       "      <td>0.01216</td>\n",
       "      <td>0.1259</td>\n",
       "      <td>0.04169</td>\n",
       "      <td>0.1263</td>\n",
       "      <td>0.02200</td>\n",
       "      <td>...</td>\n",
       "      <td>0.0</td>\n",
       "      <td>0.0</td>\n",
       "      <td>1.0</td>\n",
       "      <td>1.0</td>\n",
       "      <td>1.0</td>\n",
       "      <td>1.0</td>\n",
       "      <td>3.0</td>\n",
       "      <td>0.12605</td>\n",
       "      <td>0.531813</td>\n",
       "      <td>2</td>\n",
       "    </tr>\n",
       "    <tr>\n",
       "      <th>3</th>\n",
       "      <td>0.1304</td>\n",
       "      <td>0.02000</td>\n",
       "      <td>0.1302</td>\n",
       "      <td>0.01092</td>\n",
       "      <td>0.1305</td>\n",
       "      <td>0.03820</td>\n",
       "      <td>0.1301</td>\n",
       "      <td>0.05760</td>\n",
       "      <td>0.1306</td>\n",
       "      <td>0.01300</td>\n",
       "      <td>...</td>\n",
       "      <td>0.0</td>\n",
       "      <td>0.0</td>\n",
       "      <td>2.0</td>\n",
       "      <td>2.0</td>\n",
       "      <td>2.0</td>\n",
       "      <td>1.0</td>\n",
       "      <td>1.0</td>\n",
       "      <td>0.13030</td>\n",
       "      <td>0.482310</td>\n",
       "      <td>1</td>\n",
       "    </tr>\n",
       "    <tr>\n",
       "      <th>4</th>\n",
       "      <td>0.1264</td>\n",
       "      <td>0.00318</td>\n",
       "      <td>0.1262</td>\n",
       "      <td>0.01770</td>\n",
       "      <td>0.1265</td>\n",
       "      <td>0.00500</td>\n",
       "      <td>0.1261</td>\n",
       "      <td>0.01650</td>\n",
       "      <td>0.1266</td>\n",
       "      <td>0.03910</td>\n",
       "      <td>...</td>\n",
       "      <td>0.0</td>\n",
       "      <td>0.0</td>\n",
       "      <td>2.0</td>\n",
       "      <td>3.0</td>\n",
       "      <td>3.0</td>\n",
       "      <td>3.0</td>\n",
       "      <td>3.0</td>\n",
       "      <td>0.12630</td>\n",
       "      <td>0.703919</td>\n",
       "      <td>2</td>\n",
       "    </tr>\n",
       "    <tr>\n",
       "      <th>...</th>\n",
       "      <td>...</td>\n",
       "      <td>...</td>\n",
       "      <td>...</td>\n",
       "      <td>...</td>\n",
       "      <td>...</td>\n",
       "      <td>...</td>\n",
       "      <td>...</td>\n",
       "      <td>...</td>\n",
       "      <td>...</td>\n",
       "      <td>...</td>\n",
       "      <td>...</td>\n",
       "      <td>...</td>\n",
       "      <td>...</td>\n",
       "      <td>...</td>\n",
       "      <td>...</td>\n",
       "      <td>...</td>\n",
       "      <td>...</td>\n",
       "      <td>...</td>\n",
       "      <td>...</td>\n",
       "      <td>...</td>\n",
       "      <td>...</td>\n",
       "    </tr>\n",
       "    <tr>\n",
       "      <th>50945</th>\n",
       "      <td>0.3503</td>\n",
       "      <td>0.01471</td>\n",
       "      <td>0.3500</td>\n",
       "      <td>0.00171</td>\n",
       "      <td>0.3505</td>\n",
       "      <td>0.00100</td>\n",
       "      <td>0.3495</td>\n",
       "      <td>0.01657</td>\n",
       "      <td>0.3506</td>\n",
       "      <td>0.00450</td>\n",
       "      <td>...</td>\n",
       "      <td>0.0</td>\n",
       "      <td>0.0</td>\n",
       "      <td>2.0</td>\n",
       "      <td>2.0</td>\n",
       "      <td>2.0</td>\n",
       "      <td>2.0</td>\n",
       "      <td>2.0</td>\n",
       "      <td>0.35015</td>\n",
       "      <td>-0.214015</td>\n",
       "      <td>1</td>\n",
       "    </tr>\n",
       "    <tr>\n",
       "      <th>50946</th>\n",
       "      <td>0.2681</td>\n",
       "      <td>0.00100</td>\n",
       "      <td>0.2673</td>\n",
       "      <td>0.00076</td>\n",
       "      <td>0.2683</td>\n",
       "      <td>0.00388</td>\n",
       "      <td>0.2672</td>\n",
       "      <td>0.01136</td>\n",
       "      <td>0.2684</td>\n",
       "      <td>0.00267</td>\n",
       "      <td>...</td>\n",
       "      <td>0.0</td>\n",
       "      <td>0.0</td>\n",
       "      <td>1.0</td>\n",
       "      <td>1.0</td>\n",
       "      <td>1.0</td>\n",
       "      <td>3.0</td>\n",
       "      <td>1.0</td>\n",
       "      <td>0.26770</td>\n",
       "      <td>-0.065247</td>\n",
       "      <td>1</td>\n",
       "    </tr>\n",
       "    <tr>\n",
       "      <th>50947</th>\n",
       "      <td>0.3524</td>\n",
       "      <td>0.00300</td>\n",
       "      <td>0.3515</td>\n",
       "      <td>0.00200</td>\n",
       "      <td>0.3525</td>\n",
       "      <td>0.00293</td>\n",
       "      <td>0.3514</td>\n",
       "      <td>0.00690</td>\n",
       "      <td>0.3529</td>\n",
       "      <td>0.00490</td>\n",
       "      <td>...</td>\n",
       "      <td>0.0</td>\n",
       "      <td>0.0</td>\n",
       "      <td>2.0</td>\n",
       "      <td>1.0</td>\n",
       "      <td>1.0</td>\n",
       "      <td>2.0</td>\n",
       "      <td>1.0</td>\n",
       "      <td>0.35195</td>\n",
       "      <td>-0.313823</td>\n",
       "      <td>0</td>\n",
       "    </tr>\n",
       "    <tr>\n",
       "      <th>50948</th>\n",
       "      <td>0.1311</td>\n",
       "      <td>0.00288</td>\n",
       "      <td>0.1310</td>\n",
       "      <td>0.01471</td>\n",
       "      <td>0.1312</td>\n",
       "      <td>0.03018</td>\n",
       "      <td>0.1309</td>\n",
       "      <td>0.01768</td>\n",
       "      <td>0.1313</td>\n",
       "      <td>0.01500</td>\n",
       "      <td>...</td>\n",
       "      <td>0.0</td>\n",
       "      <td>0.0</td>\n",
       "      <td>2.0</td>\n",
       "      <td>2.0</td>\n",
       "      <td>2.0</td>\n",
       "      <td>3.0</td>\n",
       "      <td>3.0</td>\n",
       "      <td>0.13105</td>\n",
       "      <td>0.000000</td>\n",
       "      <td>1</td>\n",
       "    </tr>\n",
       "    <tr>\n",
       "      <th>50949</th>\n",
       "      <td>0.1267</td>\n",
       "      <td>0.01248</td>\n",
       "      <td>0.1263</td>\n",
       "      <td>0.01720</td>\n",
       "      <td>0.1268</td>\n",
       "      <td>0.01800</td>\n",
       "      <td>0.1262</td>\n",
       "      <td>0.01593</td>\n",
       "      <td>0.1269</td>\n",
       "      <td>0.02373</td>\n",
       "      <td>...</td>\n",
       "      <td>0.0</td>\n",
       "      <td>0.0</td>\n",
       "      <td>2.0</td>\n",
       "      <td>1.0</td>\n",
       "      <td>1.0</td>\n",
       "      <td>1.0</td>\n",
       "      <td>2.0</td>\n",
       "      <td>0.12650</td>\n",
       "      <td>0.000000</td>\n",
       "      <td>1</td>\n",
       "    </tr>\n",
       "  </tbody>\n",
       "</table>\n",
       "<p>50950 rows × 152 columns</p>\n",
       "</div>"
      ],
      "text/plain": [
       "            0        1       2        3       4        5       6        7  \\\n",
       "0      0.3466  0.00100  0.3455  0.00369  0.3467  0.00702  0.3450  0.00200   \n",
       "1      0.1730  0.06079  0.1727  0.03289  0.1731  0.04800  0.1726  0.02355   \n",
       "2      0.1261  0.01511  0.1260  0.02800  0.1262  0.01216  0.1259  0.04169   \n",
       "3      0.1304  0.02000  0.1302  0.01092  0.1305  0.03820  0.1301  0.05760   \n",
       "4      0.1264  0.00318  0.1262  0.01770  0.1265  0.00500  0.1261  0.01650   \n",
       "...       ...      ...     ...      ...     ...      ...     ...      ...   \n",
       "50945  0.3503  0.01471  0.3500  0.00171  0.3505  0.00100  0.3495  0.01657   \n",
       "50946  0.2681  0.00100  0.2673  0.00076  0.2683  0.00388  0.2672  0.01136   \n",
       "50947  0.3524  0.00300  0.3515  0.00200  0.3525  0.00293  0.3514  0.00690   \n",
       "50948  0.1311  0.00288  0.1310  0.01471  0.1312  0.03018  0.1309  0.01768   \n",
       "50949  0.1267  0.01248  0.1263  0.01720  0.1268  0.01800  0.1262  0.01593   \n",
       "\n",
       "            8        9  ...  142  143  144  145  146  147  148  midprice  \\\n",
       "0      0.3468  0.00200  ...  0.0  0.0  3.0  2.0  3.0  3.0  1.0   0.34605   \n",
       "1      0.1732  0.05670  ...  0.0  0.0  2.0  2.0  2.0  3.0  1.0   0.17285   \n",
       "2      0.1263  0.02200  ...  0.0  0.0  1.0  1.0  1.0  1.0  3.0   0.12605   \n",
       "3      0.1306  0.01300  ...  0.0  0.0  2.0  2.0  2.0  1.0  1.0   0.13030   \n",
       "4      0.1266  0.03910  ...  0.0  0.0  2.0  3.0  3.0  3.0  3.0   0.12630   \n",
       "...       ...      ...  ...  ...  ...  ...  ...  ...  ...  ...       ...   \n",
       "50945  0.3506  0.00450  ...  0.0  0.0  2.0  2.0  2.0  2.0  2.0   0.35015   \n",
       "50946  0.2684  0.00267  ...  0.0  0.0  1.0  1.0  1.0  3.0  1.0   0.26770   \n",
       "50947  0.3529  0.00490  ...  0.0  0.0  2.0  1.0  1.0  2.0  1.0   0.35195   \n",
       "50948  0.1313  0.01500  ...  0.0  0.0  2.0  2.0  2.0  3.0  3.0   0.13105   \n",
       "50949  0.1269  0.02373  ...  0.0  0.0  2.0  1.0  1.0  1.0  2.0   0.12650   \n",
       "\n",
       "       MPchange  y10  \n",
       "0     -0.468747    0  \n",
       "1      0.061788    1  \n",
       "2      0.531813    2  \n",
       "3      0.482310    1  \n",
       "4      0.703919    2  \n",
       "...         ...  ...  \n",
       "50945 -0.214015    1  \n",
       "50946 -0.065247    1  \n",
       "50947 -0.313823    0  \n",
       "50948  0.000000    1  \n",
       "50949  0.000000    1  \n",
       "\n",
       "[50950 rows x 152 columns]"
      ]
     },
     "execution_count": 24,
     "metadata": {},
     "output_type": "execute_result"
    }
   ],
   "source": [
    "y_array = create_y(a, point1, point2)\n",
    "df1['y10'] = y_array\n",
    "df1"
   ]
  },
  {
   "cell_type": "markdown",
   "metadata": {},
   "source": [
    "### 测试drop列"
   ]
  },
  {
   "cell_type": "code",
   "execution_count": 27,
   "metadata": {},
   "outputs": [
    {
     "data": {
      "text/html": [
       "<div>\n",
       "<style scoped>\n",
       "    .dataframe tbody tr th:only-of-type {\n",
       "        vertical-align: middle;\n",
       "    }\n",
       "\n",
       "    .dataframe tbody tr th {\n",
       "        vertical-align: top;\n",
       "    }\n",
       "\n",
       "    .dataframe thead th {\n",
       "        text-align: right;\n",
       "    }\n",
       "</style>\n",
       "<table border=\"1\" class=\"dataframe\">\n",
       "  <thead>\n",
       "    <tr style=\"text-align: right;\">\n",
       "      <th></th>\n",
       "      <th>0</th>\n",
       "      <th>1</th>\n",
       "      <th>2</th>\n",
       "      <th>3</th>\n",
       "      <th>4</th>\n",
       "      <th>5</th>\n",
       "      <th>6</th>\n",
       "      <th>7</th>\n",
       "      <th>8</th>\n",
       "      <th>9</th>\n",
       "      <th>...</th>\n",
       "      <th>137</th>\n",
       "      <th>138</th>\n",
       "      <th>139</th>\n",
       "      <th>140</th>\n",
       "      <th>141</th>\n",
       "      <th>142</th>\n",
       "      <th>143</th>\n",
       "      <th>midprice</th>\n",
       "      <th>MPchange</th>\n",
       "      <th>y10</th>\n",
       "    </tr>\n",
       "  </thead>\n",
       "  <tbody>\n",
       "    <tr>\n",
       "      <th>0</th>\n",
       "      <td>0.3466</td>\n",
       "      <td>0.00100</td>\n",
       "      <td>0.3455</td>\n",
       "      <td>0.00369</td>\n",
       "      <td>0.3467</td>\n",
       "      <td>0.00702</td>\n",
       "      <td>0.3450</td>\n",
       "      <td>0.00200</td>\n",
       "      <td>0.3468</td>\n",
       "      <td>0.00200</td>\n",
       "      <td>...</td>\n",
       "      <td>0.0</td>\n",
       "      <td>0.000000</td>\n",
       "      <td>0.250617</td>\n",
       "      <td>0.250617</td>\n",
       "      <td>0.0</td>\n",
       "      <td>0.0</td>\n",
       "      <td>0.0</td>\n",
       "      <td>0.34605</td>\n",
       "      <td>-0.468747</td>\n",
       "      <td>0</td>\n",
       "    </tr>\n",
       "    <tr>\n",
       "      <th>1</th>\n",
       "      <td>0.1730</td>\n",
       "      <td>0.06079</td>\n",
       "      <td>0.1727</td>\n",
       "      <td>0.03289</td>\n",
       "      <td>0.1731</td>\n",
       "      <td>0.04800</td>\n",
       "      <td>0.1726</td>\n",
       "      <td>0.02355</td>\n",
       "      <td>0.1732</td>\n",
       "      <td>0.05670</td>\n",
       "      <td>...</td>\n",
       "      <td>0.0</td>\n",
       "      <td>0.000000</td>\n",
       "      <td>0.031428</td>\n",
       "      <td>0.031428</td>\n",
       "      <td>0.0</td>\n",
       "      <td>0.0</td>\n",
       "      <td>0.0</td>\n",
       "      <td>0.17285</td>\n",
       "      <td>0.061788</td>\n",
       "      <td>1</td>\n",
       "    </tr>\n",
       "    <tr>\n",
       "      <th>2</th>\n",
       "      <td>0.1261</td>\n",
       "      <td>0.01511</td>\n",
       "      <td>0.1260</td>\n",
       "      <td>0.02800</td>\n",
       "      <td>0.1262</td>\n",
       "      <td>0.01216</td>\n",
       "      <td>0.1259</td>\n",
       "      <td>0.04169</td>\n",
       "      <td>0.1263</td>\n",
       "      <td>0.02200</td>\n",
       "      <td>...</td>\n",
       "      <td>0.0</td>\n",
       "      <td>0.000000</td>\n",
       "      <td>0.099537</td>\n",
       "      <td>0.099537</td>\n",
       "      <td>0.0</td>\n",
       "      <td>0.0</td>\n",
       "      <td>0.0</td>\n",
       "      <td>0.12605</td>\n",
       "      <td>0.531813</td>\n",
       "      <td>2</td>\n",
       "    </tr>\n",
       "    <tr>\n",
       "      <th>3</th>\n",
       "      <td>0.1304</td>\n",
       "      <td>0.02000</td>\n",
       "      <td>0.1302</td>\n",
       "      <td>0.01092</td>\n",
       "      <td>0.1305</td>\n",
       "      <td>0.03820</td>\n",
       "      <td>0.1301</td>\n",
       "      <td>0.05760</td>\n",
       "      <td>0.1306</td>\n",
       "      <td>0.01300</td>\n",
       "      <td>...</td>\n",
       "      <td>0.0</td>\n",
       "      <td>0.000000</td>\n",
       "      <td>0.005489</td>\n",
       "      <td>0.005489</td>\n",
       "      <td>0.0</td>\n",
       "      <td>0.0</td>\n",
       "      <td>0.0</td>\n",
       "      <td>0.13030</td>\n",
       "      <td>0.482310</td>\n",
       "      <td>1</td>\n",
       "    </tr>\n",
       "    <tr>\n",
       "      <th>4</th>\n",
       "      <td>0.1264</td>\n",
       "      <td>0.00318</td>\n",
       "      <td>0.1262</td>\n",
       "      <td>0.01770</td>\n",
       "      <td>0.1265</td>\n",
       "      <td>0.00500</td>\n",
       "      <td>0.1261</td>\n",
       "      <td>0.01650</td>\n",
       "      <td>0.1266</td>\n",
       "      <td>0.03910</td>\n",
       "      <td>...</td>\n",
       "      <td>0.0</td>\n",
       "      <td>0.000093</td>\n",
       "      <td>0.001843</td>\n",
       "      <td>0.001936</td>\n",
       "      <td>0.0</td>\n",
       "      <td>0.0</td>\n",
       "      <td>0.0</td>\n",
       "      <td>0.12630</td>\n",
       "      <td>0.703919</td>\n",
       "      <td>2</td>\n",
       "    </tr>\n",
       "    <tr>\n",
       "      <th>...</th>\n",
       "      <td>...</td>\n",
       "      <td>...</td>\n",
       "      <td>...</td>\n",
       "      <td>...</td>\n",
       "      <td>...</td>\n",
       "      <td>...</td>\n",
       "      <td>...</td>\n",
       "      <td>...</td>\n",
       "      <td>...</td>\n",
       "      <td>...</td>\n",
       "      <td>...</td>\n",
       "      <td>...</td>\n",
       "      <td>...</td>\n",
       "      <td>...</td>\n",
       "      <td>...</td>\n",
       "      <td>...</td>\n",
       "      <td>...</td>\n",
       "      <td>...</td>\n",
       "      <td>...</td>\n",
       "      <td>...</td>\n",
       "      <td>...</td>\n",
       "    </tr>\n",
       "    <tr>\n",
       "      <th>50945</th>\n",
       "      <td>0.3503</td>\n",
       "      <td>0.01471</td>\n",
       "      <td>0.3500</td>\n",
       "      <td>0.00171</td>\n",
       "      <td>0.3505</td>\n",
       "      <td>0.00100</td>\n",
       "      <td>0.3495</td>\n",
       "      <td>0.01657</td>\n",
       "      <td>0.3506</td>\n",
       "      <td>0.00450</td>\n",
       "      <td>...</td>\n",
       "      <td>0.0</td>\n",
       "      <td>0.000000</td>\n",
       "      <td>0.149009</td>\n",
       "      <td>0.149009</td>\n",
       "      <td>0.0</td>\n",
       "      <td>0.0</td>\n",
       "      <td>0.0</td>\n",
       "      <td>0.35015</td>\n",
       "      <td>-0.214015</td>\n",
       "      <td>1</td>\n",
       "    </tr>\n",
       "    <tr>\n",
       "      <th>50946</th>\n",
       "      <td>0.2681</td>\n",
       "      <td>0.00100</td>\n",
       "      <td>0.2673</td>\n",
       "      <td>0.00076</td>\n",
       "      <td>0.2683</td>\n",
       "      <td>0.00388</td>\n",
       "      <td>0.2672</td>\n",
       "      <td>0.01136</td>\n",
       "      <td>0.2684</td>\n",
       "      <td>0.00267</td>\n",
       "      <td>...</td>\n",
       "      <td>0.0</td>\n",
       "      <td>0.000000</td>\n",
       "      <td>0.127042</td>\n",
       "      <td>0.127042</td>\n",
       "      <td>0.0</td>\n",
       "      <td>0.0</td>\n",
       "      <td>0.0</td>\n",
       "      <td>0.26770</td>\n",
       "      <td>-0.065247</td>\n",
       "      <td>1</td>\n",
       "    </tr>\n",
       "    <tr>\n",
       "      <th>50947</th>\n",
       "      <td>0.3524</td>\n",
       "      <td>0.00300</td>\n",
       "      <td>0.3515</td>\n",
       "      <td>0.00200</td>\n",
       "      <td>0.3525</td>\n",
       "      <td>0.00293</td>\n",
       "      <td>0.3514</td>\n",
       "      <td>0.00690</td>\n",
       "      <td>0.3529</td>\n",
       "      <td>0.00490</td>\n",
       "      <td>...</td>\n",
       "      <td>0.0</td>\n",
       "      <td>0.000000</td>\n",
       "      <td>0.059051</td>\n",
       "      <td>0.059051</td>\n",
       "      <td>0.0</td>\n",
       "      <td>0.0</td>\n",
       "      <td>0.0</td>\n",
       "      <td>0.35195</td>\n",
       "      <td>-0.313823</td>\n",
       "      <td>0</td>\n",
       "    </tr>\n",
       "    <tr>\n",
       "      <th>50948</th>\n",
       "      <td>0.1311</td>\n",
       "      <td>0.00288</td>\n",
       "      <td>0.1310</td>\n",
       "      <td>0.01471</td>\n",
       "      <td>0.1312</td>\n",
       "      <td>0.03018</td>\n",
       "      <td>0.1309</td>\n",
       "      <td>0.01768</td>\n",
       "      <td>0.1313</td>\n",
       "      <td>0.01500</td>\n",
       "      <td>...</td>\n",
       "      <td>0.0</td>\n",
       "      <td>0.000000</td>\n",
       "      <td>0.001280</td>\n",
       "      <td>0.001280</td>\n",
       "      <td>0.0</td>\n",
       "      <td>0.0</td>\n",
       "      <td>0.0</td>\n",
       "      <td>0.13105</td>\n",
       "      <td>0.000000</td>\n",
       "      <td>1</td>\n",
       "    </tr>\n",
       "    <tr>\n",
       "      <th>50949</th>\n",
       "      <td>0.1267</td>\n",
       "      <td>0.01248</td>\n",
       "      <td>0.1263</td>\n",
       "      <td>0.01720</td>\n",
       "      <td>0.1268</td>\n",
       "      <td>0.01800</td>\n",
       "      <td>0.1262</td>\n",
       "      <td>0.01593</td>\n",
       "      <td>0.1269</td>\n",
       "      <td>0.02373</td>\n",
       "      <td>...</td>\n",
       "      <td>0.0</td>\n",
       "      <td>0.000000</td>\n",
       "      <td>0.008547</td>\n",
       "      <td>0.008547</td>\n",
       "      <td>0.0</td>\n",
       "      <td>0.0</td>\n",
       "      <td>0.0</td>\n",
       "      <td>0.12650</td>\n",
       "      <td>0.000000</td>\n",
       "      <td>1</td>\n",
       "    </tr>\n",
       "  </tbody>\n",
       "</table>\n",
       "<p>50950 rows × 147 columns</p>\n",
       "</div>"
      ],
      "text/plain": [
       "            0        1       2        3       4        5       6        7  \\\n",
       "0      0.3466  0.00100  0.3455  0.00369  0.3467  0.00702  0.3450  0.00200   \n",
       "1      0.1730  0.06079  0.1727  0.03289  0.1731  0.04800  0.1726  0.02355   \n",
       "2      0.1261  0.01511  0.1260  0.02800  0.1262  0.01216  0.1259  0.04169   \n",
       "3      0.1304  0.02000  0.1302  0.01092  0.1305  0.03820  0.1301  0.05760   \n",
       "4      0.1264  0.00318  0.1262  0.01770  0.1265  0.00500  0.1261  0.01650   \n",
       "...       ...      ...     ...      ...     ...      ...     ...      ...   \n",
       "50945  0.3503  0.01471  0.3500  0.00171  0.3505  0.00100  0.3495  0.01657   \n",
       "50946  0.2681  0.00100  0.2673  0.00076  0.2683  0.00388  0.2672  0.01136   \n",
       "50947  0.3524  0.00300  0.3515  0.00200  0.3525  0.00293  0.3514  0.00690   \n",
       "50948  0.1311  0.00288  0.1310  0.01471  0.1312  0.03018  0.1309  0.01768   \n",
       "50949  0.1267  0.01248  0.1263  0.01720  0.1268  0.01800  0.1262  0.01593   \n",
       "\n",
       "            8        9  ...  137       138       139       140  141  142  143  \\\n",
       "0      0.3468  0.00200  ...  0.0  0.000000  0.250617  0.250617  0.0  0.0  0.0   \n",
       "1      0.1732  0.05670  ...  0.0  0.000000  0.031428  0.031428  0.0  0.0  0.0   \n",
       "2      0.1263  0.02200  ...  0.0  0.000000  0.099537  0.099537  0.0  0.0  0.0   \n",
       "3      0.1306  0.01300  ...  0.0  0.000000  0.005489  0.005489  0.0  0.0  0.0   \n",
       "4      0.1266  0.03910  ...  0.0  0.000093  0.001843  0.001936  0.0  0.0  0.0   \n",
       "...       ...      ...  ...  ...       ...       ...       ...  ...  ...  ...   \n",
       "50945  0.3506  0.00450  ...  0.0  0.000000  0.149009  0.149009  0.0  0.0  0.0   \n",
       "50946  0.2684  0.00267  ...  0.0  0.000000  0.127042  0.127042  0.0  0.0  0.0   \n",
       "50947  0.3529  0.00490  ...  0.0  0.000000  0.059051  0.059051  0.0  0.0  0.0   \n",
       "50948  0.1313  0.01500  ...  0.0  0.000000  0.001280  0.001280  0.0  0.0  0.0   \n",
       "50949  0.1269  0.02373  ...  0.0  0.000000  0.008547  0.008547  0.0  0.0  0.0   \n",
       "\n",
       "       midprice  MPchange  y10  \n",
       "0       0.34605 -0.468747    0  \n",
       "1       0.17285  0.061788    1  \n",
       "2       0.12605  0.531813    2  \n",
       "3       0.13030  0.482310    1  \n",
       "4       0.12630  0.703919    2  \n",
       "...         ...       ...  ...  \n",
       "50945   0.35015 -0.214015    1  \n",
       "50946   0.26770 -0.065247    1  \n",
       "50947   0.35195 -0.313823    0  \n",
       "50948   0.13105  0.000000    1  \n",
       "50949   0.12650  0.000000    1  \n",
       "\n",
       "[50950 rows x 147 columns]"
      ]
     },
     "execution_count": 27,
     "metadata": {},
     "output_type": "execute_result"
    }
   ],
   "source": [
    "df1.drop(columns=['144','145','146','147','148'],inplace=True)\n",
    "df1"
   ]
  },
  {
   "cell_type": "markdown",
   "metadata": {},
   "source": [
    "# 将前面的方法等装成一整个函数"
   ]
  },
  {
   "cell_type": "code",
   "execution_count": 28,
   "metadata": {},
   "outputs": [],
   "source": [
    "def changeDF(indf,T=10):\n",
    "    indf['midprice'] = (indf['0']+indf['2'])/2.0\n",
    "    MP_array = np.array(indf['midprice'])\n",
    "    N = len(MP_array)\n",
    "    newArray = []\n",
    "    for i in range(N):\n",
    "        # 前面大部分元素\n",
    "        if i<=N-1-T:\n",
    "            tmp = (np.mean(MP_array[i:i+T])-MP_array[i])/MP_array[i]\n",
    "            newArray.append(tmp)\n",
    "        # 对于最后一个元素 由于其没有后继 故补充0\n",
    "        elif i==N-1:\n",
    "            newArray.append(0)\n",
    "        # 尾部元素只需要计算剩下的全部值的均值即可\n",
    "        else:\n",
    "            tmp = (np.mean(MP_array[i:-1])-MP_array[i])/MP_array[i]\n",
    "            newArray.append(tmp)\n",
    "    indf['MPchange'] = np.array(newArray)\n",
    "    # 下面开始找三分位点\n",
    "    a=np.array(indf['MPchange'])\n",
    "    point1, point2 = np.percentile(a,33), np.percentile(a,66)\n",
    "    y_array = create_y(a, point1, point2)\n",
    "    indf[f'y{T}'] = y_array\n",
    "    indf.drop(columns=['144','145','146','147','148'],inplace=True)\n",
    "    return indf"
   ]
  },
  {
   "cell_type": "markdown",
   "metadata": {},
   "source": [
    "### 将每个文件重新创建label"
   ]
  },
  {
   "cell_type": "code",
   "execution_count": 50,
   "metadata": {},
   "outputs": [],
   "source": [
    "inpath = '../../data/random_processed/stock4/randomOrder_test9_part4.csv'\n",
    "df = pd.read_csv(inpath)\n",
    "outdf = changeDF(df)\n",
    "outdf.to_csv('../../data/random_processed/stock4/newY_test9_part4.csv', index=False)"
   ]
  },
  {
   "cell_type": "markdown",
   "metadata": {},
   "source": [
    "# 在newY的文件上重跑实验"
   ]
  },
  {
   "cell_type": "code",
   "execution_count": 3,
   "metadata": {},
   "outputs": [],
   "source": [
    "train7path = '../../data/random_processed/stock0/newY_train7_part0.csv'\n",
    "test7path = '../../data/random_processed/stock0/newY_test7_part0.csv'\n",
    "test8path = '../../data/random_processed/stock0/newY_test8_part0.csv'\n",
    "test9path = '../../data/random_processed/stock0/newY_test9_part0.csv'\n",
    "dec_train, dec_val, dec_test = prepare.splitDataset(0.8,0.8,train7path,test7path,test8path,test9path)\n",
    "train_loader, val_loader, test_loader = prepare.getDataLoader(dec_train,dec_val,dec_test,k=-1,num_classes=3,T=100,batch_size=64)\n"
   ]
  },
  {
   "cell_type": "code",
   "execution_count": 4,
   "metadata": {},
   "outputs": [
    {
     "data": {
      "text/plain": [
       "LstmNet(\n",
       "  (conv1): Sequential(\n",
       "    (0): Conv2d(1, 32, kernel_size=(1, 2), stride=(1, 2))\n",
       "    (1): LeakyReLU(negative_slope=0.01)\n",
       "    (2): BatchNorm2d(32, eps=1e-05, momentum=0.1, affine=True, track_running_stats=True)\n",
       "    (3): Conv2d(32, 32, kernel_size=(4, 1), stride=(1, 1))\n",
       "    (4): LeakyReLU(negative_slope=0.01)\n",
       "    (5): BatchNorm2d(32, eps=1e-05, momentum=0.1, affine=True, track_running_stats=True)\n",
       "  )\n",
       "  (conv2): Sequential(\n",
       "    (0): Conv2d(32, 32, kernel_size=(1, 2), stride=(1, 2))\n",
       "    (1): Tanh()\n",
       "    (2): BatchNorm2d(32, eps=1e-05, momentum=0.1, affine=True, track_running_stats=True)\n",
       "    (3): Conv2d(32, 32, kernel_size=(4, 1), stride=(1, 1))\n",
       "    (4): Tanh()\n",
       "    (5): BatchNorm2d(32, eps=1e-05, momentum=0.1, affine=True, track_running_stats=True)\n",
       "  )\n",
       "  (conv3): Sequential(\n",
       "    (0): Conv2d(32, 32, kernel_size=(1, 10), stride=(1, 1))\n",
       "    (1): LeakyReLU(negative_slope=0.01)\n",
       "    (2): BatchNorm2d(32, eps=1e-05, momentum=0.1, affine=True, track_running_stats=True)\n",
       "    (3): Conv2d(32, 32, kernel_size=(4, 1), stride=(1, 1))\n",
       "    (4): LeakyReLU(negative_slope=0.01)\n",
       "    (5): BatchNorm2d(32, eps=1e-05, momentum=0.1, affine=True, track_running_stats=True)\n",
       "  )\n",
       "  (lstm): LSTM(32, 64, batch_first=True)\n",
       "  (fc1): Linear(in_features=64, out_features=3, bias=True)\n",
       ")"
      ]
     },
     "execution_count": 4,
     "metadata": {},
     "output_type": "execute_result"
    }
   ],
   "source": [
    "model = baseline.LstmNet(y_len=3, device=device, hidden_size=64)\n",
    "model.to(device)"
   ]
  },
  {
   "cell_type": "code",
   "execution_count": 5,
   "metadata": {},
   "outputs": [
    {
     "data": {
      "text/plain": [
       "==========================================================================================\n",
       "Layer (type:depth-idx)                   Output Shape              Param #\n",
       "==========================================================================================\n",
       "LstmNet                                  --                        --\n",
       "├─Sequential: 1-1                        [64, 32, 97, 20]          --\n",
       "│    └─Conv2d: 2-1                       [64, 32, 100, 20]         96\n",
       "│    └─LeakyReLU: 2-2                    [64, 32, 100, 20]         --\n",
       "│    └─BatchNorm2d: 2-3                  [64, 32, 100, 20]         64\n",
       "│    └─Conv2d: 2-4                       [64, 32, 97, 20]          4,128\n",
       "│    └─LeakyReLU: 2-5                    [64, 32, 97, 20]          --\n",
       "│    └─BatchNorm2d: 2-6                  [64, 32, 97, 20]          64\n",
       "├─Sequential: 1-2                        [64, 32, 94, 10]          --\n",
       "│    └─Conv2d: 2-7                       [64, 32, 97, 10]          2,080\n",
       "│    └─Tanh: 2-8                         [64, 32, 97, 10]          --\n",
       "│    └─BatchNorm2d: 2-9                  [64, 32, 97, 10]          64\n",
       "│    └─Conv2d: 2-10                      [64, 32, 94, 10]          4,128\n",
       "│    └─Tanh: 2-11                        [64, 32, 94, 10]          --\n",
       "│    └─BatchNorm2d: 2-12                 [64, 32, 94, 10]          64\n",
       "├─Sequential: 1-3                        [64, 32, 91, 1]           --\n",
       "│    └─Conv2d: 2-13                      [64, 32, 94, 1]           10,272\n",
       "│    └─LeakyReLU: 2-14                   [64, 32, 94, 1]           --\n",
       "│    └─BatchNorm2d: 2-15                 [64, 32, 94, 1]           64\n",
       "│    └─Conv2d: 2-16                      [64, 32, 91, 1]           4,128\n",
       "│    └─LeakyReLU: 2-17                   [64, 32, 91, 1]           --\n",
       "│    └─BatchNorm2d: 2-18                 [64, 32, 91, 1]           64\n",
       "├─LSTM: 1-4                              [64, 91, 64]              25,088\n",
       "├─Linear: 1-5                            [64, 3]                   195\n",
       "==========================================================================================\n",
       "Total params: 50,499\n",
       "Trainable params: 50,499\n",
       "Non-trainable params: 0\n",
       "Total mult-adds (G): 1.13\n",
       "==========================================================================================\n",
       "Input size (MB): 1.02\n",
       "Forward/backward pass size (MB): 200.74\n",
       "Params size (MB): 0.20\n",
       "Estimated Total Size (MB): 201.96\n",
       "=========================================================================================="
      ]
     },
     "execution_count": 5,
     "metadata": {},
     "output_type": "execute_result"
    }
   ],
   "source": [
    "summary(model, (64, 1, 100, 40))"
   ]
  },
  {
   "cell_type": "code",
   "execution_count": 8,
   "metadata": {},
   "outputs": [
    {
     "name": "stderr",
     "output_type": "stream",
     "text": [
      "  2%|▏         | 1/50 [00:07<06:07,  7.50s/it]"
     ]
    },
    {
     "name": "stdout",
     "output_type": "stream",
     "text": [
      "model saved\n",
      "Epoch 1/50, Train Loss: 0.7146,           Validation Loss: 0.7027, Duration: 0:00:07.503053, Best Val Epoch: 0\n"
     ]
    },
    {
     "name": "stderr",
     "output_type": "stream",
     "text": [
      "  4%|▍         | 2/50 [00:15<06:05,  7.62s/it]"
     ]
    },
    {
     "name": "stdout",
     "output_type": "stream",
     "text": [
      "model saved\n",
      "Epoch 2/50, Train Loss: 0.7147,           Validation Loss: 0.7027, Duration: 0:00:07.692009, Best Val Epoch: 1\n"
     ]
    },
    {
     "name": "stderr",
     "output_type": "stream",
     "text": [
      "  6%|▌         | 3/50 [00:22<05:59,  7.64s/it]"
     ]
    },
    {
     "name": "stdout",
     "output_type": "stream",
     "text": [
      "model saved\n",
      "Epoch 3/50, Train Loss: 0.7159,           Validation Loss: 0.7027, Duration: 0:00:07.669647, Best Val Epoch: 2\n"
     ]
    },
    {
     "name": "stderr",
     "output_type": "stream",
     "text": [
      "  8%|▊         | 4/50 [00:30<05:49,  7.61s/it]"
     ]
    },
    {
     "name": "stdout",
     "output_type": "stream",
     "text": [
      "model saved\n",
      "Epoch 4/50, Train Loss: 0.7146,           Validation Loss: 0.7027, Duration: 0:00:07.550642, Best Val Epoch: 3\n"
     ]
    },
    {
     "name": "stderr",
     "output_type": "stream",
     "text": [
      " 10%|█         | 5/50 [00:37<05:35,  7.45s/it]"
     ]
    },
    {
     "name": "stdout",
     "output_type": "stream",
     "text": [
      "Epoch 5/50, Train Loss: 0.7147,           Validation Loss: 0.7027, Duration: 0:00:07.160292, Best Val Epoch: 3\n"
     ]
    },
    {
     "name": "stderr",
     "output_type": "stream",
     "text": [
      " 12%|█▏        | 6/50 [00:44<05:23,  7.35s/it]"
     ]
    },
    {
     "name": "stdout",
     "output_type": "stream",
     "text": [
      "Epoch 6/50, Train Loss: 0.7146,           Validation Loss: 0.7027, Duration: 0:00:07.173845, Best Val Epoch: 3\n"
     ]
    },
    {
     "name": "stderr",
     "output_type": "stream",
     "text": [
      " 14%|█▍        | 7/50 [00:51<05:14,  7.31s/it]"
     ]
    },
    {
     "name": "stdout",
     "output_type": "stream",
     "text": [
      "Epoch 7/50, Train Loss: 0.7145,           Validation Loss: 0.7027, Duration: 0:00:07.213289, Best Val Epoch: 3\n"
     ]
    },
    {
     "name": "stderr",
     "output_type": "stream",
     "text": [
      " 16%|█▌        | 8/50 [00:59<05:04,  7.24s/it]"
     ]
    },
    {
     "name": "stdout",
     "output_type": "stream",
     "text": [
      "Epoch 8/50, Train Loss: 0.7145,           Validation Loss: 0.7027, Duration: 0:00:07.108026, Best Val Epoch: 3\n"
     ]
    },
    {
     "name": "stderr",
     "output_type": "stream",
     "text": [
      " 18%|█▊        | 9/50 [01:06<04:56,  7.22s/it]"
     ]
    },
    {
     "name": "stdout",
     "output_type": "stream",
     "text": [
      "Epoch 9/50, Train Loss: 0.7147,           Validation Loss: 0.7027, Duration: 0:00:07.165577, Best Val Epoch: 3\n"
     ]
    },
    {
     "name": "stderr",
     "output_type": "stream",
     "text": [
      " 20%|██        | 10/50 [01:13<04:45,  7.13s/it]"
     ]
    },
    {
     "name": "stdout",
     "output_type": "stream",
     "text": [
      "Epoch 10/50, Train Loss: 0.7156,           Validation Loss: 0.7027, Duration: 0:00:06.923033, Best Val Epoch: 3\n"
     ]
    },
    {
     "name": "stderr",
     "output_type": "stream",
     "text": [
      " 22%|██▏       | 11/50 [01:20<04:35,  7.06s/it]"
     ]
    },
    {
     "name": "stdout",
     "output_type": "stream",
     "text": [
      "Epoch 11/50, Train Loss: 0.7147,           Validation Loss: 0.7027, Duration: 0:00:06.895480, Best Val Epoch: 3\n"
     ]
    },
    {
     "name": "stderr",
     "output_type": "stream",
     "text": [
      " 24%|██▍       | 12/50 [01:27<04:29,  7.09s/it]"
     ]
    },
    {
     "name": "stdout",
     "output_type": "stream",
     "text": [
      "Epoch 12/50, Train Loss: 0.7148,           Validation Loss: 0.7027, Duration: 0:00:07.178605, Best Val Epoch: 3\n"
     ]
    },
    {
     "name": "stderr",
     "output_type": "stream",
     "text": [
      " 26%|██▌       | 13/50 [01:34<04:21,  7.06s/it]"
     ]
    },
    {
     "name": "stdout",
     "output_type": "stream",
     "text": [
      "Epoch 13/50, Train Loss: 0.7145,           Validation Loss: 0.7027, Duration: 0:00:06.983788, Best Val Epoch: 3\n"
     ]
    },
    {
     "name": "stderr",
     "output_type": "stream",
     "text": [
      " 28%|██▊       | 14/50 [01:41<04:12,  7.01s/it]"
     ]
    },
    {
     "name": "stdout",
     "output_type": "stream",
     "text": [
      "Epoch 14/50, Train Loss: 0.7145,           Validation Loss: 0.7027, Duration: 0:00:06.895926, Best Val Epoch: 3\n"
     ]
    },
    {
     "name": "stderr",
     "output_type": "stream",
     "text": [
      " 30%|███       | 15/50 [01:48<04:05,  7.01s/it]"
     ]
    },
    {
     "name": "stdout",
     "output_type": "stream",
     "text": [
      "Epoch 15/50, Train Loss: 0.7146,           Validation Loss: 0.7027, Duration: 0:00:07.004533, Best Val Epoch: 3\n"
     ]
    },
    {
     "name": "stderr",
     "output_type": "stream",
     "text": [
      " 32%|███▏      | 16/50 [01:55<03:57,  6.99s/it]"
     ]
    },
    {
     "name": "stdout",
     "output_type": "stream",
     "text": [
      "Epoch 16/50, Train Loss: 0.7146,           Validation Loss: 0.7027, Duration: 0:00:06.950320, Best Val Epoch: 3\n"
     ]
    },
    {
     "name": "stderr",
     "output_type": "stream",
     "text": [
      " 34%|███▍      | 17/50 [02:02<03:50,  6.98s/it]"
     ]
    },
    {
     "name": "stdout",
     "output_type": "stream",
     "text": [
      "Epoch 17/50, Train Loss: 0.7145,           Validation Loss: 0.7027, Duration: 0:00:06.934054, Best Val Epoch: 3\n"
     ]
    },
    {
     "name": "stderr",
     "output_type": "stream",
     "text": [
      " 36%|███▌      | 18/50 [02:09<03:46,  7.08s/it]"
     ]
    },
    {
     "name": "stdout",
     "output_type": "stream",
     "text": [
      "Epoch 18/50, Train Loss: 0.7145,           Validation Loss: 0.7027, Duration: 0:00:07.309213, Best Val Epoch: 3\n"
     ]
    },
    {
     "name": "stderr",
     "output_type": "stream",
     "text": [
      " 38%|███▊      | 19/50 [02:16<03:38,  7.05s/it]"
     ]
    },
    {
     "name": "stdout",
     "output_type": "stream",
     "text": [
      "Epoch 19/50, Train Loss: 0.7147,           Validation Loss: 0.7027, Duration: 0:00:06.985101, Best Val Epoch: 3\n"
     ]
    },
    {
     "name": "stderr",
     "output_type": "stream",
     "text": [
      " 40%|████      | 20/50 [02:23<03:31,  7.06s/it]"
     ]
    },
    {
     "name": "stdout",
     "output_type": "stream",
     "text": [
      "Epoch 20/50, Train Loss: 0.7146,           Validation Loss: 0.7027, Duration: 0:00:07.084501, Best Val Epoch: 3\n"
     ]
    },
    {
     "name": "stderr",
     "output_type": "stream",
     "text": [
      " 42%|████▏     | 21/50 [02:30<03:24,  7.06s/it]"
     ]
    },
    {
     "name": "stdout",
     "output_type": "stream",
     "text": [
      "Epoch 21/50, Train Loss: 0.7145,           Validation Loss: 0.7027, Duration: 0:00:07.067125, Best Val Epoch: 3\n"
     ]
    },
    {
     "name": "stderr",
     "output_type": "stream",
     "text": [
      " 44%|████▍     | 22/50 [02:37<03:18,  7.09s/it]"
     ]
    },
    {
     "name": "stdout",
     "output_type": "stream",
     "text": [
      "Epoch 22/50, Train Loss: 0.7147,           Validation Loss: 0.7027, Duration: 0:00:07.161374, Best Val Epoch: 3\n"
     ]
    },
    {
     "name": "stderr",
     "output_type": "stream",
     "text": [
      " 46%|████▌     | 23/50 [02:44<03:12,  7.14s/it]"
     ]
    },
    {
     "name": "stdout",
     "output_type": "stream",
     "text": [
      "Epoch 23/50, Train Loss: 0.7147,           Validation Loss: 0.7027, Duration: 0:00:07.247910, Best Val Epoch: 3\n"
     ]
    },
    {
     "name": "stderr",
     "output_type": "stream",
     "text": [
      " 48%|████▊     | 24/50 [02:51<03:04,  7.09s/it]"
     ]
    },
    {
     "name": "stdout",
     "output_type": "stream",
     "text": [
      "Epoch 24/50, Train Loss: 0.7147,           Validation Loss: 0.7027, Duration: 0:00:06.965910, Best Val Epoch: 3\n"
     ]
    },
    {
     "name": "stderr",
     "output_type": "stream",
     "text": [
      " 50%|█████     | 25/50 [02:58<02:56,  7.05s/it]"
     ]
    },
    {
     "name": "stdout",
     "output_type": "stream",
     "text": [
      "Epoch 25/50, Train Loss: 0.7145,           Validation Loss: 0.7027, Duration: 0:00:06.957939, Best Val Epoch: 3\n"
     ]
    },
    {
     "name": "stderr",
     "output_type": "stream",
     "text": [
      " 52%|█████▏    | 26/50 [03:05<02:48,  7.04s/it]"
     ]
    },
    {
     "name": "stdout",
     "output_type": "stream",
     "text": [
      "Epoch 26/50, Train Loss: 0.7145,           Validation Loss: 0.7027, Duration: 0:00:07.001042, Best Val Epoch: 3\n"
     ]
    },
    {
     "name": "stderr",
     "output_type": "stream",
     "text": [
      " 54%|█████▍    | 27/50 [03:12<02:41,  7.02s/it]"
     ]
    },
    {
     "name": "stdout",
     "output_type": "stream",
     "text": [
      "Epoch 27/50, Train Loss: 0.7145,           Validation Loss: 0.7027, Duration: 0:00:06.979869, Best Val Epoch: 3\n"
     ]
    },
    {
     "name": "stderr",
     "output_type": "stream",
     "text": [
      " 56%|█████▌    | 28/50 [03:19<02:32,  6.94s/it]"
     ]
    },
    {
     "name": "stdout",
     "output_type": "stream",
     "text": [
      "Epoch 28/50, Train Loss: 0.7148,           Validation Loss: 0.7027, Duration: 0:00:06.738864, Best Val Epoch: 3\n"
     ]
    },
    {
     "name": "stderr",
     "output_type": "stream",
     "text": [
      " 58%|█████▊    | 29/50 [03:26<02:26,  7.00s/it]"
     ]
    },
    {
     "name": "stdout",
     "output_type": "stream",
     "text": [
      "Epoch 29/50, Train Loss: 0.7147,           Validation Loss: 0.7027, Duration: 0:00:07.138588, Best Val Epoch: 3\n"
     ]
    },
    {
     "name": "stderr",
     "output_type": "stream",
     "text": [
      " 60%|██████    | 30/50 [03:33<02:19,  6.99s/it]"
     ]
    },
    {
     "name": "stdout",
     "output_type": "stream",
     "text": [
      "Epoch 30/50, Train Loss: 0.7148,           Validation Loss: 0.7027, Duration: 0:00:06.973981, Best Val Epoch: 3\n"
     ]
    },
    {
     "name": "stderr",
     "output_type": "stream",
     "text": [
      " 62%|██████▏   | 31/50 [03:40<02:12,  6.98s/it]"
     ]
    },
    {
     "name": "stdout",
     "output_type": "stream",
     "text": [
      "Epoch 31/50, Train Loss: 0.7146,           Validation Loss: 0.7027, Duration: 0:00:06.963664, Best Val Epoch: 3\n"
     ]
    },
    {
     "name": "stderr",
     "output_type": "stream",
     "text": [
      " 64%|██████▍   | 32/50 [03:47<02:05,  6.95s/it]"
     ]
    },
    {
     "name": "stdout",
     "output_type": "stream",
     "text": [
      "Epoch 32/50, Train Loss: 0.7146,           Validation Loss: 0.7027, Duration: 0:00:06.859461, Best Val Epoch: 3\n"
     ]
    },
    {
     "name": "stderr",
     "output_type": "stream",
     "text": [
      " 66%|██████▌   | 33/50 [03:54<01:57,  6.94s/it]"
     ]
    },
    {
     "name": "stdout",
     "output_type": "stream",
     "text": [
      "Epoch 33/50, Train Loss: 0.7146,           Validation Loss: 0.7027, Duration: 0:00:06.915636, Best Val Epoch: 3\n"
     ]
    },
    {
     "name": "stderr",
     "output_type": "stream",
     "text": [
      " 68%|██████▊   | 34/50 [04:02<01:55,  7.25s/it]"
     ]
    },
    {
     "name": "stdout",
     "output_type": "stream",
     "text": [
      "Epoch 34/50, Train Loss: 0.7146,           Validation Loss: 0.7027, Duration: 0:00:07.977516, Best Val Epoch: 3\n"
     ]
    },
    {
     "name": "stderr",
     "output_type": "stream",
     "text": [
      " 70%|███████   | 35/50 [04:09<01:49,  7.28s/it]"
     ]
    },
    {
     "name": "stdout",
     "output_type": "stream",
     "text": [
      "Epoch 35/50, Train Loss: 0.7146,           Validation Loss: 0.7027, Duration: 0:00:07.365566, Best Val Epoch: 3\n"
     ]
    },
    {
     "name": "stderr",
     "output_type": "stream",
     "text": [
      " 72%|███████▏  | 36/50 [04:17<01:43,  7.42s/it]"
     ]
    },
    {
     "name": "stdout",
     "output_type": "stream",
     "text": [
      "Epoch 36/50, Train Loss: 0.7145,           Validation Loss: 0.7027, Duration: 0:00:07.748580, Best Val Epoch: 3\n"
     ]
    },
    {
     "name": "stderr",
     "output_type": "stream",
     "text": [
      " 74%|███████▍  | 37/50 [04:24<01:36,  7.39s/it]"
     ]
    },
    {
     "name": "stdout",
     "output_type": "stream",
     "text": [
      "Epoch 37/50, Train Loss: 0.7146,           Validation Loss: 0.7027, Duration: 0:00:07.296474, Best Val Epoch: 3\n"
     ]
    },
    {
     "name": "stderr",
     "output_type": "stream",
     "text": [
      " 76%|███████▌  | 38/50 [04:32<01:29,  7.44s/it]"
     ]
    },
    {
     "name": "stdout",
     "output_type": "stream",
     "text": [
      "Epoch 38/50, Train Loss: 0.7145,           Validation Loss: 0.7027, Duration: 0:00:07.550479, Best Val Epoch: 3\n"
     ]
    },
    {
     "name": "stderr",
     "output_type": "stream",
     "text": [
      " 78%|███████▊  | 39/50 [04:40<01:24,  7.68s/it]"
     ]
    },
    {
     "name": "stdout",
     "output_type": "stream",
     "text": [
      "Epoch 39/50, Train Loss: 0.7146,           Validation Loss: 0.7027, Duration: 0:00:08.247405, Best Val Epoch: 3\n"
     ]
    },
    {
     "name": "stderr",
     "output_type": "stream",
     "text": [
      " 80%|████████  | 40/50 [04:48<01:17,  7.78s/it]"
     ]
    },
    {
     "name": "stdout",
     "output_type": "stream",
     "text": [
      "Epoch 40/50, Train Loss: 0.7145,           Validation Loss: 0.7027, Duration: 0:00:07.989214, Best Val Epoch: 3\n"
     ]
    },
    {
     "name": "stderr",
     "output_type": "stream",
     "text": [
      " 82%|████████▏ | 41/50 [04:56<01:09,  7.68s/it]"
     ]
    },
    {
     "name": "stdout",
     "output_type": "stream",
     "text": [
      "Epoch 41/50, Train Loss: 0.7146,           Validation Loss: 0.7027, Duration: 0:00:07.443053, Best Val Epoch: 3\n"
     ]
    },
    {
     "name": "stderr",
     "output_type": "stream",
     "text": [
      " 84%|████████▍ | 42/50 [05:02<00:59,  7.44s/it]"
     ]
    },
    {
     "name": "stdout",
     "output_type": "stream",
     "text": [
      "Epoch 42/50, Train Loss: 0.7147,           Validation Loss: 0.7027, Duration: 0:00:06.902184, Best Val Epoch: 3\n"
     ]
    },
    {
     "name": "stderr",
     "output_type": "stream",
     "text": [
      " 86%|████████▌ | 43/50 [05:09<00:50,  7.27s/it]"
     ]
    },
    {
     "name": "stdout",
     "output_type": "stream",
     "text": [
      "Epoch 43/50, Train Loss: 0.7147,           Validation Loss: 0.7027, Duration: 0:00:06.860900, Best Val Epoch: 3\n"
     ]
    },
    {
     "name": "stderr",
     "output_type": "stream",
     "text": [
      " 88%|████████▊ | 44/50 [05:16<00:42,  7.10s/it]"
     ]
    },
    {
     "name": "stdout",
     "output_type": "stream",
     "text": [
      "Epoch 44/50, Train Loss: 0.7147,           Validation Loss: 0.7027, Duration: 0:00:06.719974, Best Val Epoch: 3\n"
     ]
    },
    {
     "name": "stderr",
     "output_type": "stream",
     "text": [
      " 90%|█████████ | 45/50 [05:23<00:35,  7.04s/it]"
     ]
    },
    {
     "name": "stdout",
     "output_type": "stream",
     "text": [
      "Epoch 45/50, Train Loss: 0.7148,           Validation Loss: 0.7027, Duration: 0:00:06.874015, Best Val Epoch: 3\n"
     ]
    },
    {
     "name": "stderr",
     "output_type": "stream",
     "text": [
      " 92%|█████████▏| 46/50 [05:30<00:28,  7.05s/it]"
     ]
    },
    {
     "name": "stdout",
     "output_type": "stream",
     "text": [
      "Epoch 46/50, Train Loss: 0.7146,           Validation Loss: 0.7027, Duration: 0:00:07.071851, Best Val Epoch: 3\n"
     ]
    },
    {
     "name": "stderr",
     "output_type": "stream",
     "text": [
      " 94%|█████████▍| 47/50 [05:37<00:21,  7.08s/it]"
     ]
    },
    {
     "name": "stdout",
     "output_type": "stream",
     "text": [
      "Epoch 47/50, Train Loss: 0.7145,           Validation Loss: 0.7027, Duration: 0:00:07.146597, Best Val Epoch: 3\n"
     ]
    },
    {
     "name": "stderr",
     "output_type": "stream",
     "text": [
      " 96%|█████████▌| 48/50 [05:44<00:14,  7.03s/it]"
     ]
    },
    {
     "name": "stdout",
     "output_type": "stream",
     "text": [
      "Epoch 48/50, Train Loss: 0.7147,           Validation Loss: 0.7027, Duration: 0:00:06.908370, Best Val Epoch: 3\n"
     ]
    },
    {
     "name": "stderr",
     "output_type": "stream",
     "text": [
      " 98%|█████████▊| 49/50 [05:51<00:06,  6.99s/it]"
     ]
    },
    {
     "name": "stdout",
     "output_type": "stream",
     "text": [
      "Epoch 49/50, Train Loss: 0.7146,           Validation Loss: 0.7027, Duration: 0:00:06.913809, Best Val Epoch: 3\n"
     ]
    },
    {
     "name": "stderr",
     "output_type": "stream",
     "text": [
      "100%|██████████| 50/50 [05:58<00:00,  7.17s/it]"
     ]
    },
    {
     "name": "stdout",
     "output_type": "stream",
     "text": [
      "Epoch 50/50, Train Loss: 0.7145,           Validation Loss: 0.7027, Duration: 0:00:07.013406, Best Val Epoch: 3\n"
     ]
    },
    {
     "name": "stderr",
     "output_type": "stream",
     "text": [
      "\n"
     ]
    }
   ],
   "source": [
    "criterion = nn.CrossEntropyLoss()\n",
    "optimizer = torch.optim.Adam(model.parameters(), lr=0.0001)\n",
    "train_losses, val_losses = train.batch_gd(model, criterion, optimizer, train_loader, val_loader, epochs=50, device=device, savedModelName='./savedModels_randomOrder/LSTM')"
   ]
  },
  {
   "cell_type": "code",
   "execution_count": 9,
   "metadata": {},
   "outputs": [
    {
     "data": {
      "image/png": "[encoded data removed]",
      "text/plain": [
       "<Figure size 432x288 with 1 Axes>"
      ]
     },
     "metadata": {
      "needs_background": "light"
     },
     "output_type": "display_data"
    }
   ],
   "source": [
    "p.drawLossChange(train_losses, val_losses)"
   ]
  },
  {
   "cell_type": "code",
   "execution_count": 10,
   "metadata": {},
   "outputs": [
    {
     "name": "stdout",
     "output_type": "stream",
     "text": [
      "              precision    recall  f1-score   support\n",
      "\n",
      "           0     0.8382    0.9788    0.9030      9178\n",
      "           1     0.8665    0.5776    0.6932      9183\n",
      "           2     0.8046    0.9342    0.8646      9456\n",
      "\n",
      "    accuracy                         0.8312     27817\n",
      "   macro avg     0.8365    0.8302    0.8203     27817\n",
      "weighted avg     0.8361    0.8312    0.8207     27817\n",
      "\n"
     ]
    }
   ],
   "source": [
    "model = torch.load('./savedModels_randomOrder/LSTM')\n",
    "all_targets, all_predictions = p.getReport(test_loader, model, device)"
   ]
  },
  {
   "cell_type": "code",
   "execution_count": 11,
   "metadata": {},
   "outputs": [
    {
     "data": {
      "image/png": "[encoded data removed]",
      "text/plain": [
       "<Figure size 432x288 with 2 Axes>"
      ]
     },
     "metadata": {
      "needs_background": "light"
     },
     "output_type": "display_data"
    }
   ],
   "source": [
    "p.seeConfusionMatrix(all_targets,all_predictions)"
   ]
  },
  {
   "cell_type": "markdown",
   "metadata": {},
   "source": [
    "### 发现在乱序数据上 对于label的预测效果很好"
   ]
  },
  {
   "cell_type": "code",
   "execution_count": null,
   "metadata": {},
   "outputs": [],
   "source": []
  }
 ],
 "metadata": {
  "interpreter": {
   "hash": "b6379a49a5f1dae8e2bf9e9571591081e3adb0c6993333bb633f7202ba89f625"
  },
  "kernelspec": {
   "display_name": "Python 3.7.13 64-bit ('myenv')",
   "language": "python",
   "name": "python3"
  },
  "language_info": {
   "codemirror_mode": {
    "name": "ipython",
    "version": 3
   },
   "file_extension": ".py",
   "mimetype": "text/x-python",
   "name": "python",
   "nbconvert_exporter": "python",
   "pygments_lexer": "ipython3",
   "version": "3.7.13"
  },
  "orig_nbformat": 4
 },
 "nbformat": 4,
 "nbformat_minor": 2
}
